{
 "cells": [
  {
   "cell_type": "code",
   "execution_count": 7,
   "metadata": {},
   "outputs": [],
   "source": [
    "def square_pattern():\n",
    "    n = int(input())\n",
    "    for i in range(n):\n",
    "        for j in range(n):\n",
    "            print('*',end = '')\n",
    "        print()"
   ]
  },
  {
   "cell_type": "code",
   "execution_count": 8,
   "metadata": {},
   "outputs": [
    {
     "name": "stdout",
     "output_type": "stream",
     "text": [
      "****\n",
      "****\n",
      "****\n",
      "****\n"
     ]
    }
   ],
   "source": [
    "square_pattern()"
   ]
  },
  {
   "cell_type": "code",
   "execution_count": 14,
   "metadata": {},
   "outputs": [
    {
     "name": "stdout",
     "output_type": "stream",
     "text": [
      "* \n",
      "* * \n",
      "* * * \n",
      "* * * * \n",
      "* * * * * \n"
     ]
    }
   ],
   "source": [
    "def right_angled_triangle():\n",
    "    n = int(input('Enter the num'))\n",
    "    for i in range(n):\n",
    "        for j in range(i+1):\n",
    "            print('*',end = ' ')\n",
    "        print()\n",
    "right_angled_triangle()"
   ]
  },
  {
   "cell_type": "code",
   "execution_count": 15,
   "metadata": {},
   "outputs": [
    {
     "name": "stdout",
     "output_type": "stream",
     "text": [
      "1 \n",
      "1 2 \n",
      "1 2 3 \n",
      "1 2 3 4 \n",
      "1 2 3 4 5 \n"
     ]
    }
   ],
   "source": [
    "def pattern_3():\n",
    "    n = int(input())\n",
    "    for i in range(1,n+1):\n",
    "        for j in range(1,i+1):\n",
    "            print(j,end = ' ')\n",
    "        print()\n",
    "pattern_3()"
   ]
  },
  {
   "cell_type": "code",
   "execution_count": 16,
   "metadata": {},
   "outputs": [
    {
     "name": "stdout",
     "output_type": "stream",
     "text": [
      "1 \n",
      "2 2 \n",
      "3 3 3 \n",
      "4 4 4 4 \n"
     ]
    }
   ],
   "source": [
    "def pattern_4(n):\n",
    "    for i in range(1,n+1):\n",
    "        for j in range(1,i+1):\n",
    "            print(i,end = ' ')\n",
    "        print()\n",
    "pattern_4(4)"
   ]
  },
  {
   "cell_type": "code",
   "execution_count": 18,
   "metadata": {},
   "outputs": [
    {
     "name": "stdout",
     "output_type": "stream",
     "text": [
      "* * * * \n",
      "* * * \n",
      "* * \n",
      "* \n"
     ]
    }
   ],
   "source": [
    "def pattern_5(n):\n",
    "    for i in range(n,0,-1):\n",
    "        for j in range(i):\n",
    "            print('*',end = ' ')\n",
    "        print()\n",
    "pattern_5(4)"
   ]
  },
  {
   "cell_type": "code",
   "execution_count": null,
   "metadata": {},
   "outputs": [],
   "source": [
    "# n-i+1"
   ]
  },
  {
   "cell_type": "code",
   "execution_count": 34,
   "metadata": {},
   "outputs": [
    {
     "name": "stdout",
     "output_type": "stream",
     "text": [
      "* * * * \n",
      "* * * \n",
      "* * \n",
      "* \n"
     ]
    }
   ],
   "source": [
    "def pattern_5(n):\n",
    "    for i in range(n): \n",
    "        for j in range(1,n-i+1):\n",
    "            print('*',end = ' ')\n",
    "        print()\n",
    "pattern_5(4)"
   ]
  },
  {
   "cell_type": "code",
   "execution_count": 31,
   "metadata": {},
   "outputs": [
    {
     "name": "stdout",
     "output_type": "stream",
     "text": [
      "1 2 3 4 \n",
      "1 2 3 \n",
      "1 2 \n",
      "1 \n"
     ]
    }
   ],
   "source": [
    "def pattern_6(n):\n",
    "    for i in range(n):\n",
    "        for j in range(1,n-i+1):\n",
    "            print(j,end = ' ')\n",
    "        print()\n",
    "pattern_6(4)"
   ]
  },
  {
   "cell_type": "code",
   "execution_count": 3,
   "metadata": {},
   "outputs": [
    {
     "name": "stdout",
     "output_type": "stream",
     "text": [
      "    *    \n",
      "   ***   \n",
      "  *****  \n",
      " ******* \n",
      "*********\n"
     ]
    }
   ],
   "source": [
    "def pattern_7(n):\n",
    "\n",
    "    for i in range(n):\n",
    "        for j in range(n-i-1):\n",
    "            print(' ',end = '')\n",
    "        for k in range(2*i+1):\n",
    "            print('*',end = '')\n",
    "        for l in range(n-i-1):\n",
    "            print(' ',end = '')\n",
    "        print()\n",
    "pattern_7(5)"
   ]
  },
  {
   "cell_type": "code",
   "execution_count": 5,
   "metadata": {},
   "outputs": [
    {
     "name": "stdout",
     "output_type": "stream",
     "text": [
      "*********\n",
      " ******* \n",
      "  *****  \n",
      "   ***   \n",
      "    *    \n"
     ]
    }
   ],
   "source": [
    "def pattern_8(n):\n",
    "    for i in range(n):\n",
    "        for j in range(i):\n",
    "            print(' ',end = '') \n",
    "        for  k in range(2*n-(2*i+1)):\n",
    "            print('*',end = '')\n",
    "        for l in range(i):\n",
    "            print(' ',end = '')\n",
    "        print()\n",
    "    \n",
    "pattern_8(5)\n",
    "        \n",
    "    \n",
    "  "
   ]
  },
  {
   "cell_type": "code",
   "execution_count": 1,
   "metadata": {},
   "outputs": [
    {
     "name": "stdout",
     "output_type": "stream",
     "text": [
      "- - - - 1 - - - - \n",
      "- - - 1 2 3 - - - \n",
      "- - 1 2 3 4 5 - - \n",
      "- 1 2 3 4 5 6 7 - \n",
      "1 2 3 4 5 6 7 8 9 \n"
     ]
    }
   ],
   "source": [
    "def pattern_star_n_number(n):\n",
    "    for i in range(n):\n",
    "        for j in range(n-i-1):\n",
    "            print('-',end = ' ')\n",
    "        for k in range(2*i+1):\n",
    "            print(k+1,end = ' ')\n",
    "        for l in range(n-i-1):\n",
    "            print('-',end = ' ')\n",
    "        print()\n",
    "    \n",
    "\n",
    "pattern_star_n_number(5)"
   ]
  },
  {
   "cell_type": "code",
   "execution_count": 2,
   "metadata": {},
   "outputs": [
    {
     "name": "stdout",
     "output_type": "stream",
     "text": [
      "1 \n",
      "2 3 \n",
      "4 5 6 \n",
      "7 8 9 10 \n",
      "11 12 13 14 15 \n"
     ]
    }
   ],
   "source": [
    "n = 5\n",
    "\n",
    "num = 1\n",
    "for i in range(n):\n",
    "    for j in range(i+1):\n",
    "        print(num,end = ' ')\n",
    "        num += 1\n",
    "    print()"
   ]
  },
  {
   "cell_type": "code",
   "execution_count": 6,
   "metadata": {},
   "outputs": [
    {
     "name": "stdout",
     "output_type": "stream",
     "text": [
      "    *    \n",
      "   ***   \n",
      "  *****  \n",
      " ******* \n",
      "*********\n",
      "*********\n",
      " ******* \n",
      "  *****  \n",
      "   ***   \n",
      "    *    \n"
     ]
    }
   ],
   "source": [
    "pattern_7(5)\n",
    "pattern_8(5)"
   ]
  },
  {
   "cell_type": "code",
   "execution_count": 22,
   "metadata": {},
   "outputs": [
    {
     "name": "stdout",
     "output_type": "stream",
     "text": [
      "* \n",
      "* * \n",
      "* * * \n",
      "* * * * \n",
      "* * * * * \n",
      "* * * * \n",
      "* * * \n",
      "* * \n",
      "* \n"
     ]
    }
   ],
   "source": [
    "n = 5\n",
    "\n",
    "for i in range(2*n-1):\n",
    "        if i < n:\n",
    "            count = i +1\n",
    "        else:\n",
    "            count = 2*n-i-1\n",
    "            \n",
    "        for j in range(count):\n",
    "            \n",
    "            print('*',end = ' ')\n",
    "            \n",
    "\n",
    "        \n",
    "        print()"
   ]
  },
  {
   "cell_type": "code",
   "execution_count": 24,
   "metadata": {},
   "outputs": [
    {
     "name": "stdout",
     "output_type": "stream",
     "text": [
      "* \n",
      "* * \n",
      "* * * \n",
      "* * * * \n",
      "* * * * * \n",
      "* * * * \n",
      "* * * \n",
      "* * \n",
      "* \n"
     ]
    }
   ],
   "source": [
    "n = 5\n",
    "\n",
    "for i in range(1,n+1):\n",
    "    print('* '*i)\n",
    "\n",
    "for j in range(n-1,0,-1):\n",
    "    print('* '*j)"
   ]
  },
  {
   "cell_type": "code",
   "execution_count": 2,
   "metadata": {},
   "outputs": [
    {
     "name": "stdout",
     "output_type": "stream",
     "text": [
      "1 \n",
      "2 3 \n",
      "4 5 6 \n",
      "7 8 9 10 \n",
      "11 12 13 14 15 \n"
     ]
    }
   ],
   "source": [
    "n = 5\n",
    "\n",
    "num = 1\n",
    "for i in range(n):\n",
    "    for j in range(i+1):\n",
    "        print(num,end = ' ')\n",
    "        num += 1\n",
    "    print()"
   ]
  },
  {
   "cell_type": "code",
   "execution_count": 1,
   "metadata": {},
   "outputs": [
    {
     "name": "stdout",
     "output_type": "stream",
     "text": [
      "1 \n",
      "0 1 \n",
      "1 0 1 \n",
      "0 1 0 1 \n",
      "1 0 1 0 1 \n"
     ]
    }
   ],
   "source": [
    "n = 5\n",
    "\n",
    "start = 1\n",
    "for i in range(n):\n",
    "    if i%2 == 0:\n",
    "        start = 0\n",
    "    else:\n",
    "        start = 1\n",
    "    for j in range(i+1):\n",
    "        start = 1-start\n",
    "        print(start,end = ' ')\n",
    "    print()"
   ]
  },
  {
   "cell_type": "code",
   "execution_count": 36,
   "metadata": {},
   "outputs": [
    {
     "name": "stdout",
     "output_type": "stream",
     "text": [
      "1                 1 \n",
      "1 2             2 1 \n",
      "1 2 3         3 2 1 \n",
      "1 2 3 4     4 3 2 1 \n",
      "1 2 3 4 5 5 4 3 2 1 \n"
     ]
    }
   ],
   "source": [
    "n = 5\n",
    "\n",
    "for i in range(n):\n",
    "    for j in range(i+1):\n",
    "        print(j+1,end = ' ')\n",
    "    for k in range(n-i-1):\n",
    "        print(' ',end = ' ')\n",
    "    for m in range(n-i-1):\n",
    "        print(' ',end = ' ')\n",
    "    \n",
    "    for l in range(i+1,0,-1):\n",
    "        print(l,end = ' ')\n",
    "    print()"
   ]
  },
  {
   "cell_type": "code",
   "execution_count": 38,
   "metadata": {},
   "outputs": [
    {
     "name": "stdout",
     "output_type": "stream",
     "text": [
      "1                 1 \n",
      "1 2             2 1 \n",
      "1 2 3         3 2 1 \n",
      "1 2 3 4     4 3 2 1 \n",
      "1 2 3 4 5 5 4 3 2 1 \n"
     ]
    }
   ],
   "source": [
    "n = 5\n",
    "\n",
    "space = 2*(n-1)\n",
    "\n",
    "for i in range(n):\n",
    "    for j in range(i+1):\n",
    "        print(j+1,end = ' ')\n",
    "    for k in range(space):\n",
    "        print(' ',end = ' ')\n",
    "    for l in range(i+1,0,-1):\n",
    "        print(l,end = ' ')\n",
    "    print()\n",
    "    space -= 2\n",
    "    "
   ]
  },
  {
   "cell_type": "code",
   "execution_count": 66,
   "metadata": {},
   "outputs": [
    {
     "name": "stdout",
     "output_type": "stream",
     "text": [
      "A \n",
      "A B \n",
      "A B C \n",
      "A B C D \n",
      "A B C D E \n"
     ]
    }
   ],
   "source": [
    "n = 5\n",
    "\n",
    "for i in range(n):\n",
    "    m = 65\n",
    "    for j in range(i+1):\n",
    "        print(chr(m),end = ' ')\n",
    "        m += 1\n",
    "    print()"
   ]
  },
  {
   "cell_type": "code",
   "execution_count": 70,
   "metadata": {},
   "outputs": [
    {
     "name": "stdout",
     "output_type": "stream",
     "text": [
      "A B C D E \n",
      "A B C D \n",
      "A B C \n",
      "A B \n",
      "A \n"
     ]
    }
   ],
   "source": [
    "n = 5\n",
    "\n",
    "for i in range(n):\n",
    "    m = 65\n",
    "    for j in range(1,n-i+1):\n",
    "        print(chr(m),end = ' ')\n",
    "        m += 1\n",
    "    print()"
   ]
  },
  {
   "cell_type": "code",
   "execution_count": 82,
   "metadata": {},
   "outputs": [
    {
     "name": "stdout",
     "output_type": "stream",
     "text": [
      "A \n",
      "B B \n",
      "C C C \n",
      "D D D D \n",
      "E E E E E \n"
     ]
    }
   ],
   "source": [
    "n = 5\n",
    "\n",
    "for i in range(n):\n",
    "    m = 65\n",
    "    for j in range(i+1):\n",
    "        print(chr(m+i),end = ' ')\n",
    "    print()"
   ]
  },
  {
   "cell_type": "code",
   "execution_count": 108,
   "metadata": {},
   "outputs": [
    {
     "name": "stdout",
     "output_type": "stream",
     "text": [
      "- - - - a \n",
      "- - - b a \n",
      "- - c b a \n",
      "- d c b a \n",
      "e d c b a \n"
     ]
    }
   ],
   "source": [
    "n = 5\n",
    "\n",
    "for i in range(n):\n",
    "    start = 97\n",
    "    for j in range(n-i-1):\n",
    "        print('-',end = ' ')\n",
    "    for k in range(i,-1,-1):\n",
    "        print(chr(start+k),end = ' ')\n",
    "        \n",
    "    print()"
   ]
  },
  {
   "cell_type": "code",
   "execution_count": 111,
   "metadata": {},
   "outputs": [
    {
     "data": {
      "text/plain": [
       "97"
      ]
     },
     "execution_count": 111,
     "metadata": {},
     "output_type": "execute_result"
    }
   ],
   "source": [
    "ord('a')"
   ]
  },
  {
   "cell_type": "code",
   "execution_count": 117,
   "metadata": {},
   "outputs": [
    {
     "name": "stdout",
     "output_type": "stream",
     "text": [
      "* \n",
      "* * \n",
      "* * * \n",
      "* * \n",
      "* \n"
     ]
    }
   ],
   "source": [
    "n = 3\n",
    "\n",
    "for i in range(2*n-1):\n",
    "    if i < n:\n",
    "        count = i+1\n",
    "    else:\n",
    "        count = 2*n - i - 1\n",
    "        \n",
    "    for j in range(count):\n",
    "        print('*',end = ' ')\n",
    "            \n",
    "    \n",
    "            \n",
    "    print()"
   ]
  },
  {
   "cell_type": "code",
   "execution_count": null,
   "metadata": {},
   "outputs": [],
   "source": []
  },
  {
   "cell_type": "code",
   "execution_count": 31,
   "metadata": {},
   "outputs": [
    {
     "name": "stdout",
     "output_type": "stream",
     "text": [
      "1 6 10 13 15 \n",
      "2 7 11 14 \n",
      "3 8 12 \n",
      "4 9 \n",
      "5 \n"
     ]
    }
   ],
   "source": [
    "n = 5\n",
    "\n",
    "for i in range(1,n+1):\n",
    "    num = i\n",
    "    p = n\n",
    "    for j in range(n-i+1,0,-1):\n",
    "        print(num,end = ' ')\n",
    "        num += p\n",
    "        p -= 1\n",
    "    \n",
    "    print()"
   ]
  },
  {
   "cell_type": "code",
   "execution_count": 12,
   "metadata": {},
   "outputs": [
    {
     "name": "stdout",
     "output_type": "stream",
     "text": [
      "1 5\n",
      "2 6\n",
      "3 7\n",
      "4 8\n"
     ]
    }
   ],
   "source": [
    "p = [[1,2,3,4],\n",
    "     [5,6,7,8]]\n",
    "\n",
    "for j,k in zip(p[0],p[1]):\n",
    "    print(j,k)"
   ]
  },
  {
   "cell_type": "code",
   "execution_count": 32,
   "metadata": {},
   "outputs": [
    {
     "name": "stdout",
     "output_type": "stream",
     "text": [
      "1 4 6 \n",
      "2 5 \n",
      "3 \n"
     ]
    }
   ],
   "source": [
    "n = 3\n",
    "\n",
    "for i in range(1,n+1):\n",
    "    num = i\n",
    "    p = n\n",
    "    for j in range(n-i+1):\n",
    "        print(num,end = ' ')\n",
    "        num += p\n",
    "        p -= 1\n",
    "    print()"
   ]
  },
  {
   "cell_type": "code",
   "execution_count": 17,
   "metadata": {},
   "outputs": [
    {
     "name": "stdout",
     "output_type": "stream",
     "text": [
      "tsrqpedcba\n"
     ]
    }
   ],
   "source": [
    "s = 'abcdepqrst'\n",
    "res=''\n",
    "count=1\n",
    "for ch in s:\n",
    "    if ch!='_' and count==1:\n",
    "        res=ch+res\n",
    "    elif ch=='_' and count==1:\n",
    "        count=0\n",
    "        res+=ch\n",
    "    else:\n",
    "        res+=ch\n",
    "        \n",
    "print(res)"
   ]
  },
  {
   "cell_type": "code",
   "execution_count": null,
   "metadata": {},
   "outputs": [],
   "source": []
  }
 ],
 "metadata": {
  "kernelspec": {
   "display_name": "base",
   "language": "python",
   "name": "python3"
  },
  "language_info": {
   "codemirror_mode": {
    "name": "ipython",
    "version": 3
   },
   "file_extension": ".py",
   "mimetype": "text/x-python",
   "name": "python",
   "nbconvert_exporter": "python",
   "pygments_lexer": "ipython3",
   "version": "3.11.5"
  }
 },
 "nbformat": 4,
 "nbformat_minor": 2
}
