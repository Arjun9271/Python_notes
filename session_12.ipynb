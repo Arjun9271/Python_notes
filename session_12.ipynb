{
 "cells": [
  {
   "cell_type": "markdown",
   "metadata": {},
   "source": [
    "# **Dictionary Operations** #"
   ]
  },
  {
   "cell_type": "code",
   "execution_count": 1,
   "metadata": {},
   "outputs": [
    {
     "name": "stdout",
     "output_type": "stream",
     "text": [
      "{}\n",
      "<class 'dict'>\n"
     ]
    }
   ],
   "source": [
    "# initialize a dictionary\n",
    "\n",
    "d = {}\n",
    "\n",
    "print(d)\n",
    "print(type(d))"
   ]
  },
  {
   "cell_type": "code",
   "execution_count": 2,
   "metadata": {},
   "outputs": [
    {
     "name": "stdout",
     "output_type": "stream",
     "text": [
      "<class 'set'>\n",
      "{1, 2, 3}\n"
     ]
    }
   ],
   "source": [
    "d = {1,2,3}\n",
    "print(type(d))\n",
    "\n",
    "print(d)"
   ]
  },
  {
   "cell_type": "code",
   "execution_count": 3,
   "metadata": {},
   "outputs": [
    {
     "name": "stdout",
     "output_type": "stream",
     "text": [
      "{'a': 1, 'b': 2, 'c': 300}\n",
      "<class 'dict'>\n"
     ]
    }
   ],
   "source": [
    "d = {'a':1,'b':2,'c':300}\n",
    "\n",
    "print(d)\n",
    "print(type(d))"
   ]
  },
  {
   "cell_type": "code",
   "execution_count": 4,
   "metadata": {},
   "outputs": [
    {
     "name": "stdout",
     "output_type": "stream",
     "text": [
      "{}\n",
      "<class 'dict'>\n"
     ]
    }
   ],
   "source": [
    "d1 = dict()\n",
    "print(d1)\n",
    "print(type(d1))"
   ]
  },
  {
   "cell_type": "code",
   "execution_count": 10,
   "metadata": {},
   "outputs": [
    {
     "name": "stdout",
     "output_type": "stream",
     "text": [
      "{}\n",
      "<class 'dict'>\n"
     ]
    }
   ],
   "source": [
    "d2 = dict([])\n",
    "\n",
    "print(d2)\n",
    "print(type(d2))"
   ]
  },
  {
   "cell_type": "code",
   "execution_count": 12,
   "metadata": {},
   "outputs": [],
   "source": [
    "d = {'A':1,'B':2,'C':3}\n",
    "d2 = {1:[1,4,2],'ABC':20,2:12,'a':(12,20)}"
   ]
  },
  {
   "cell_type": "code",
   "execution_count": 13,
   "metadata": {},
   "outputs": [
    {
     "name": "stdout",
     "output_type": "stream",
     "text": [
      "keys: A\n",
      "values: 1\n",
      "keys: B\n",
      "values: 2\n",
      "keys: C\n",
      "values: 3\n"
     ]
    }
   ],
   "source": [
    "d = {'A':1,'B':2,'C':3}\n",
    "\n",
    "for k in d:\n",
    "    print('keys:',k)\n",
    "    print('values:',d[k])"
   ]
  },
  {
   "cell_type": "code",
   "execution_count": 14,
   "metadata": {},
   "outputs": [
    {
     "ename": "KeyError",
     "evalue": "0",
     "output_type": "error",
     "traceback": [
      "\u001b[1;31m---------------------------------------------------------------------------\u001b[0m",
      "\u001b[1;31mKeyError\u001b[0m                                  Traceback (most recent call last)",
      "Cell \u001b[1;32mIn[14], line 1\u001b[0m\n\u001b[1;32m----> 1\u001b[0m \u001b[38;5;28mprint\u001b[39m(d[\u001b[38;5;241m0\u001b[39m])\n",
      "\u001b[1;31mKeyError\u001b[0m: 0"
     ]
    }
   ],
   "source": [
    "print(d[0]) # we cannot access it by indexing"
   ]
  },
  {
   "cell_type": "code",
   "execution_count": 15,
   "metadata": {},
   "outputs": [],
   "source": [
    "# to access the elements in a dictionary"
   ]
  },
  {
   "cell_type": "code",
   "execution_count": 16,
   "metadata": {},
   "outputs": [
    {
     "data": {
      "text/plain": [
       "2"
      ]
     },
     "execution_count": 16,
     "metadata": {},
     "output_type": "execute_result"
    }
   ],
   "source": [
    "d['B']"
   ]
  },
  {
   "cell_type": "code",
   "execution_count": 21,
   "metadata": {},
   "outputs": [
    {
     "name": "stdout",
     "output_type": "stream",
     "text": [
      "{False, 1.0, 2, 2.4, 1.5, 'abc', 'bca'}\n"
     ]
    }
   ],
   "source": [
    "s = {1.0,1.5,'abc',2,2.4,'bca',False,0,1}\n",
    "\n",
    "print(s)"
   ]
  },
  {
   "cell_type": "code",
   "execution_count": 22,
   "metadata": {},
   "outputs": [],
   "source": [
    "# duplicates are not alllowed\n",
    "\n",
    "# 1,1.0,True are treated same\n",
    "\n",
    "# 0,0.0,False are treated same\n"
   ]
  },
  {
   "cell_type": "code",
   "execution_count": 23,
   "metadata": {},
   "outputs": [
    {
     "name": "stdout",
     "output_type": "stream",
     "text": [
      "{1: 'B', 0: 'BZ'}\n"
     ]
    }
   ],
   "source": [
    "d = {1:'A',1.0:'F',True:'B',0:'Z',0.0:'FZ',False : 'BZ'}\n",
    "\n",
    "# d = {1:'B',0: 'BZ'}\n",
    "\n",
    "print(d)"
   ]
  },
  {
   "cell_type": "code",
   "execution_count": 24,
   "metadata": {},
   "outputs": [
    {
     "name": "stdout",
     "output_type": "stream",
     "text": [
      "{'1': 'A', 1.0: 'B'}\n"
     ]
    }
   ],
   "source": [
    "d = {'1':'A',1.0:'BZ',True:'B'}\n",
    "# d = {'1':'A',1:'B}\n",
    "print(d)"
   ]
  },
  {
   "cell_type": "code",
   "execution_count": 26,
   "metadata": {},
   "outputs": [
    {
     "name": "stdout",
     "output_type": "stream",
     "text": [
      "{'Venky': 12}\n",
      "{'Venky': 12}\n"
     ]
    }
   ],
   "source": [
    "a = 'Venky'\n",
    "\n",
    "d = {a:12}\n",
    "print(d)\n",
    "\n",
    "a = 'RBR'\n",
    "\n",
    "print(d)"
   ]
  },
  {
   "cell_type": "code",
   "execution_count": 27,
   "metadata": {},
   "outputs": [
    {
     "name": "stdout",
     "output_type": "stream",
     "text": [
      "{'A': 12, 'B': 12, 'C': 12}\n"
     ]
    }
   ],
   "source": [
    "# duplicate values are allowed\n",
    "\n",
    "d = {'A':12,'B':12,'C':12}\n",
    "\n",
    "print(d)"
   ]
  },
  {
   "cell_type": "code",
   "execution_count": 28,
   "metadata": {},
   "outputs": [
    {
     "data": {
      "text/plain": [
       "True"
      ]
     },
     "execution_count": 28,
     "metadata": {},
     "output_type": "execute_result"
    }
   ],
   "source": [
    "1 == 1.0"
   ]
  },
  {
   "cell_type": "code",
   "execution_count": 40,
   "metadata": {},
   "outputs": [
    {
     "name": "stdout",
     "output_type": "stream",
     "text": [
      "{'a': 10, 'b': 12, 'c': 50, 'd': [12, 30]}\n",
      "<class 'dict'>\n"
     ]
    }
   ],
   "source": [
    "# dict method\n",
    "\n",
    "d1 = dict(a = 10,b = 12,c = 50,d = [12,30])\n",
    "\n",
    "print(d1)\n",
    "print(type(d1))"
   ]
  },
  {
   "cell_type": "code",
   "execution_count": 45,
   "metadata": {},
   "outputs": [
    {
     "name": "stdout",
     "output_type": "stream",
     "text": [
      "3171634537344\n",
      "3171634537344\n"
     ]
    }
   ],
   "source": [
    "# copy a dictionary\n",
    "\n",
    "d1 = {'A':12,'B':20,'C':30}\n",
    "\n",
    "d2 = d1 # dictionary is mutable\n",
    "\n",
    "print(id(d1))\n",
    "print(id(d2))"
   ]
  },
  {
   "cell_type": "code",
   "execution_count": 46,
   "metadata": {},
   "outputs": [
    {
     "name": "stdout",
     "output_type": "stream",
     "text": [
      "{'A': 12, 'B': 20, 'C': 30}\n",
      "{'A': 100, 'B': 20, 'C': 30}\n",
      "{'A': 100, 'B': 20, 'C': 30}\n"
     ]
    }
   ],
   "source": [
    "print(d1)\n",
    "d1['A'] = 100\n",
    "print(d2)\n",
    "print(d1)"
   ]
  },
  {
   "cell_type": "code",
   "execution_count": 47,
   "metadata": {},
   "outputs": [
    {
     "name": "stdout",
     "output_type": "stream",
     "text": [
      "d1: {'A': 100, 'B': 20, 'C': 30}\n",
      "after the assigning: {'A': 1000, 'B': 20, 'C': 30}\n",
      "now see here there is no change: {'A': 100, 'B': 20, 'C': 30}\n"
     ]
    }
   ],
   "source": [
    "print('d1:',d1)\n",
    "d3 = d1.copy()\n",
    "\n",
    "d1['A'] = 1000\n",
    "\n",
    "print('after the assigning:',d1)\n",
    "print('now see here there is no change:',d3)"
   ]
  },
  {
   "cell_type": "code",
   "execution_count": 51,
   "metadata": {},
   "outputs": [
    {
     "name": "stdout",
     "output_type": "stream",
     "text": [
      "{'A': [10, 2, 0, 30], 'B': 20, 'C': 30}\n",
      "{'A': [10, 2, 0, 30], 'B': 20, 'C': 30}\n",
      "--------------------------------------------------\n",
      "d1: {'A': [10, 100, 0, 30], 'B': 20, 'C': 30}\n",
      "d2: {'A': [10, 100, 0, 30], 'B': 20, 'C': 30}\n"
     ]
    }
   ],
   "source": [
    "d1 = {'A':[10,2,0,30],'B':20,'C':30}\n",
    "\n",
    "d2 = d1.copy()\n",
    "\n",
    "print(d1)\n",
    "print(d2)\n",
    "\n",
    "d2['A'][1] = 100\n",
    "\n",
    "print('-'*50)\n",
    "\n",
    "print('d1:',d1)\n",
    "print('d2:',d2)"
   ]
  },
  {
   "cell_type": "code",
   "execution_count": 56,
   "metadata": {},
   "outputs": [
    {
     "name": "stdout",
     "output_type": "stream",
     "text": [
      "before: {'A': [10, 20, 30], 'B': 20, 'C': 30}\n",
      "before: {'A': [10, 20, 30], 'B': 20, 'C': 30}\n",
      "----------------------------------------------------------------------------------------------------\n",
      "after: {'A': [10, 100, 30], 'B': 20, 'C': 30}\n",
      "after: {'A': [10, 20, 30], 'B': 20, 'C': 30}\n"
     ]
    }
   ],
   "source": [
    "import copy\n",
    "\n",
    "d1 = {'A':[10,20,30],'B':20,'C':30}\n",
    "\n",
    "d2 = copy.deepcopy(d1)\n",
    "\n",
    "print('before:',d1)\n",
    "print('before:',d2)\n",
    "\n",
    "print('-'*100)\n",
    "\n",
    "d1['A'][1] = 100\n",
    "\n",
    "print('after:',d1)\n",
    "print('after:',d2)\n"
   ]
  },
  {
   "cell_type": "code",
   "execution_count": 69,
   "metadata": {},
   "outputs": [
    {
     "name": "stdout",
     "output_type": "stream",
     "text": [
      "before: {'a': 10, 'b': 20, 'c': 30}\n",
      "before: {'a': 10, 'b': 20, 'c': 30}\n",
      "--------------------------------------------------\n",
      "after {'a': 100, 'b': 20, 'c': 30}\n",
      "after {'a': 10, 'b': 20, 'c': 30}\n"
     ]
    }
   ],
   "source": [
    "d = {'a':10,'b':20,'c':30} \n",
    "                        \n",
    "d2 = dict(d)\n",
    "\n",
    "print('before:',d)\n",
    "print('before:',d2)\n",
    "\n",
    "d['a'] = 100\n",
    "print('-'*50)\n",
    "\n",
    "print('after',d)\n",
    "print('after',d2)"
   ]
  },
  {
   "cell_type": "code",
   "execution_count": 68,
   "metadata": {},
   "outputs": [
    {
     "name": "stdout",
     "output_type": "stream",
     "text": [
      "d: {'a': [100, 200, 300], 'b': 20, 'c': 30}\n",
      "d_2: {'a': [100, 200, 300], 'b': 20, 'c': 30}\n",
      "--------------------------------------------------\n",
      "{'a': [100, 1000, 300], 'b': 20, 'c': 30}\n",
      "{'a': [100, 1000, 300], 'b': 20, 'c': 30}\n"
     ]
    }
   ],
   "source": [
    "d = {'a':[100,200,300],'b':20,'c':30}\n",
    "\n",
    "d_2 = dict(d) # similar to d.copy() method\n",
    "\n",
    "print('d:',d)\n",
    "print('d_2:',d_2)\n",
    "\n",
    "print('-'*50)\n",
    "\n",
    "d['a'][1] = 1000\n",
    "print(d)\n",
    "print(d_2)"
   ]
  },
  {
   "cell_type": "code",
   "execution_count": 76,
   "metadata": {},
   "outputs": [
    {
     "name": "stdout",
     "output_type": "stream",
     "text": [
      "d\n",
      "{'a': 1, 'b': 2}\n",
      "3171648076224\n",
      "d2\n",
      "{'a': 1, 'b': 2}\n",
      "3171648076224\n",
      "d3\n",
      "{'a': 1, 'b': 2}\n",
      "3171648401600\n",
      "d4\n",
      "{'a': 1, 'b': 2}\n",
      "3171648358912\n"
     ]
    }
   ],
   "source": [
    "d = {'a':1,'b':2}\n",
    "\n",
    "print('d')\n",
    "print(d)\n",
    "print(id(d))\n",
    "\n",
    "d2 = d\n",
    "print('d2')\n",
    "print(d2)\n",
    "print(id(d2))\n",
    "\n",
    "d3 = d.copy()\n",
    "print('d3')\n",
    "print(d3)\n",
    "print(id(d3))\n",
    "\n",
    "d4 = dict(d)\n",
    "print('d4')\n",
    "print(d4)\n",
    "print(id(d4))"
   ]
  },
  {
   "cell_type": "code",
   "execution_count": 77,
   "metadata": {},
   "outputs": [
    {
     "name": "stdout",
     "output_type": "stream",
     "text": [
      "{'a': 1, 'b': 2}\n",
      "{'a': 1, 'b': 1000}\n",
      "{'a': 1, 'b': 1000}\n",
      "{'a': 1, 'b': 2}\n",
      "{'a': 1, 'b': 2}\n"
     ]
    }
   ],
   "source": [
    "print(d)\n",
    "d['b'] = 1000\n",
    "\n",
    "print(d,d2,d3,d4,sep = '\\n')"
   ]
  },
  {
   "cell_type": "code",
   "execution_count": 79,
   "metadata": {},
   "outputs": [
    {
     "name": "stdout",
     "output_type": "stream",
     "text": [
      "{'a': 2, 'b': 4, 'c': 10}\n"
     ]
    }
   ],
   "source": [
    "# creating a dictionary using iterables - list, tuples\n",
    "\n",
    "d = dict([('a',2),('b',4),('c',10)])\n",
    "\n",
    "print(d)"
   ]
  },
  {
   "cell_type": "code",
   "execution_count": 80,
   "metadata": {},
   "outputs": [
    {
     "ename": "ValueError",
     "evalue": "dictionary update sequence element #3 has length 3; 2 is required",
     "output_type": "error",
     "traceback": [
      "\u001b[1;31m---------------------------------------------------------------------------\u001b[0m",
      "\u001b[1;31mValueError\u001b[0m                                Traceback (most recent call last)",
      "Cell \u001b[1;32mIn[80], line 1\u001b[0m\n\u001b[1;32m----> 1\u001b[0m d \u001b[38;5;241m=\u001b[39m \u001b[38;5;28mdict\u001b[39m([(\u001b[38;5;124m'\u001b[39m\u001b[38;5;124ma\u001b[39m\u001b[38;5;124m'\u001b[39m,\u001b[38;5;241m2\u001b[39m),(\u001b[38;5;124m'\u001b[39m\u001b[38;5;124mb\u001b[39m\u001b[38;5;124m'\u001b[39m,\u001b[38;5;241m4\u001b[39m),(\u001b[38;5;124m'\u001b[39m\u001b[38;5;124mc\u001b[39m\u001b[38;5;124m'\u001b[39m,\u001b[38;5;241m10\u001b[39m),(\u001b[38;5;124m'\u001b[39m\u001b[38;5;124md\u001b[39m\u001b[38;5;124m'\u001b[39m,\u001b[38;5;241m100\u001b[39m,\u001b[38;5;241m2\u001b[39m)])\n\u001b[0;32m      3\u001b[0m \u001b[38;5;28mprint\u001b[39m(d)\n",
      "\u001b[1;31mValueError\u001b[0m: dictionary update sequence element #3 has length 3; 2 is required"
     ]
    }
   ],
   "source": [
    "d = dict([('a',2),('b',4),('c',10),('d',100,2)])\n",
    "\n",
    "print(d)"
   ]
  },
  {
   "cell_type": "code",
   "execution_count": 83,
   "metadata": {},
   "outputs": [
    {
     "name": "stdout",
     "output_type": "stream",
     "text": [
      "{'a': 2, 'b': 4, 'c': 10, 'd': [100, 1, 2]}\n"
     ]
    }
   ],
   "source": [
    "d = dict([('a',2),('b',4),('c',10),('d',[100,1,2])])\n",
    "\n",
    "print(d)"
   ]
  },
  {
   "cell_type": "code",
   "execution_count": 84,
   "metadata": {},
   "outputs": [
    {
     "name": "stdout",
     "output_type": "stream",
     "text": [
      "{'a': 2, 'b': 4, 'c': 10, 'd': [100, 1, 2]}\n"
     ]
    }
   ],
   "source": [
    "d = dict((('a',2),('b',4),('c',10),('d',[100,1,2])))\n",
    "\n",
    "print(d)\n"
   ]
  },
  {
   "cell_type": "code",
   "execution_count": 85,
   "metadata": {},
   "outputs": [
    {
     "ename": "TypeError",
     "evalue": "dict expected at most 1 argument, got 4",
     "output_type": "error",
     "traceback": [
      "\u001b[1;31m---------------------------------------------------------------------------\u001b[0m",
      "\u001b[1;31mTypeError\u001b[0m                                 Traceback (most recent call last)",
      "Cell \u001b[1;32mIn[85], line 1\u001b[0m\n\u001b[1;32m----> 1\u001b[0m d \u001b[38;5;241m=\u001b[39m \u001b[38;5;28mdict\u001b[39m((\u001b[38;5;124m'\u001b[39m\u001b[38;5;124ma\u001b[39m\u001b[38;5;124m'\u001b[39m,\u001b[38;5;241m2\u001b[39m),(\u001b[38;5;124m'\u001b[39m\u001b[38;5;124mb\u001b[39m\u001b[38;5;124m'\u001b[39m,\u001b[38;5;241m4\u001b[39m),(\u001b[38;5;124m'\u001b[39m\u001b[38;5;124mc\u001b[39m\u001b[38;5;124m'\u001b[39m,\u001b[38;5;241m10\u001b[39m),(\u001b[38;5;124m'\u001b[39m\u001b[38;5;124md\u001b[39m\u001b[38;5;124m'\u001b[39m,[\u001b[38;5;241m100\u001b[39m,\u001b[38;5;241m1\u001b[39m,\u001b[38;5;241m2\u001b[39m]))\n\u001b[0;32m      3\u001b[0m \u001b[38;5;28mprint\u001b[39m(d)\n",
      "\u001b[1;31mTypeError\u001b[0m: dict expected at most 1 argument, got 4"
     ]
    }
   ],
   "source": [
    "d = dict(('a',2),('b',4),('c',10),('d',[100,1,2]))\n",
    "\n",
    "print(d)\n"
   ]
  },
  {
   "cell_type": "code",
   "execution_count": 86,
   "metadata": {},
   "outputs": [
    {
     "name": "stdout",
     "output_type": "stream",
     "text": [
      "{'a': [1, 2, 3], 'b': 4, 'c': 10, 'virat': 120}\n"
     ]
    }
   ],
   "source": [
    "d = dict([('a',[1,2,3]),('b',4),('c',10)],virat = 120)\n",
    "\n",
    "print(d)"
   ]
  },
  {
   "cell_type": "code",
   "execution_count": 89,
   "metadata": {},
   "outputs": [
    {
     "name": "stdout",
     "output_type": "stream",
     "text": [
      "{'ABC': 120}\n",
      "{120: 'ABC'}\n"
     ]
    }
   ],
   "source": [
    "virat = 'ABC'\n",
    "d = dict([(virat,120)])\n",
    "print(d)\n",
    "\n",
    "d2 = dict([(120,virat)])\n",
    "print(d2)"
   ]
  },
  {
   "cell_type": "code",
   "execution_count": 90,
   "metadata": {},
   "outputs": [],
   "source": [
    "# creating dictionary from keys method"
   ]
  },
  {
   "cell_type": "code",
   "execution_count": 91,
   "metadata": {},
   "outputs": [
    {
     "name": "stdout",
     "output_type": "stream",
     "text": [
      "{'venky': None, 'viky': None, 'abi': None, 'sai': None}\n"
     ]
    }
   ],
   "source": [
    "students = ['venky','viky','abi','sai']\n",
    "\n",
    "d = dict.fromkeys(students) # default value is none\n",
    "\n",
    "print(d)"
   ]
  },
  {
   "cell_type": "code",
   "execution_count": 93,
   "metadata": {},
   "outputs": [
    {
     "name": "stdout",
     "output_type": "stream",
     "text": [
      "{'venky': 0, 'viky': 0, 'abi': 0, 'sai': 0}\n"
     ]
    }
   ],
   "source": [
    "students = ['venky','viky','abi','sai']\n",
    "\n",
    "d = dict.fromkeys(students,0)\n",
    "\n",
    "print(d)"
   ]
  },
  {
   "cell_type": "code",
   "execution_count": 95,
   "metadata": {},
   "outputs": [],
   "source": [
    "# keys and values in a dictionary\n"
   ]
  },
  {
   "cell_type": "code",
   "execution_count": 96,
   "metadata": {},
   "outputs": [
    {
     "name": "stdout",
     "output_type": "stream",
     "text": [
      "{'a': [1, 2, 3], 1: {1, 2, 3}, 'b': (1, 'a', 3), 'c': {1, 2, 3}}\n"
     ]
    }
   ],
   "source": [
    "d = {'a':[1,2,3],1:{1,2,2,3},'b':(1,'a',3),'c':{1,2,3}}\n",
    "\n",
    "print(d)"
   ]
  },
  {
   "cell_type": "code",
   "execution_count": 97,
   "metadata": {},
   "outputs": [
    {
     "name": "stdout",
     "output_type": "stream",
     "text": [
      "{(1, 2, 3): 'hello'}\n"
     ]
    }
   ],
   "source": [
    "d = {(1,2,3):'hello'} # tuple as a key\n",
    "\n",
    "print(d)"
   ]
  },
  {
   "cell_type": "code",
   "execution_count": 98,
   "metadata": {},
   "outputs": [
    {
     "ename": "TypeError",
     "evalue": "unhashable type: 'list'",
     "output_type": "error",
     "traceback": [
      "\u001b[1;31m---------------------------------------------------------------------------\u001b[0m",
      "\u001b[1;31mTypeError\u001b[0m                                 Traceback (most recent call last)",
      "Cell \u001b[1;32mIn[98], line 1\u001b[0m\n\u001b[1;32m----> 1\u001b[0m d \u001b[38;5;241m=\u001b[39m {[\u001b[38;5;241m1\u001b[39m,\u001b[38;5;241m2\u001b[39m,\u001b[38;5;241m3\u001b[39m]:\u001b[38;5;124m'\u001b[39m\u001b[38;5;124mc\u001b[39m\u001b[38;5;124m'\u001b[39m}\n\u001b[0;32m      2\u001b[0m \u001b[38;5;28mprint\u001b[39m(d)\n",
      "\u001b[1;31mTypeError\u001b[0m: unhashable type: 'list'"
     ]
    }
   ],
   "source": [
    "d = {[1,2,3]:'c'}  # list as a key: not possible\n",
    "print(d)"
   ]
  },
  {
   "cell_type": "code",
   "execution_count": 99,
   "metadata": {},
   "outputs": [],
   "source": [
    "# list,set,dictionaries are mutable(so it cannot pass as a key to dictionary)\n"
   ]
  },
  {
   "cell_type": "code",
   "execution_count": 105,
   "metadata": {},
   "outputs": [
    {
     "ename": "TypeError",
     "evalue": "unhashable type: 'list'",
     "output_type": "error",
     "traceback": [
      "\u001b[1;31m---------------------------------------------------------------------------\u001b[0m",
      "\u001b[1;31mTypeError\u001b[0m                                 Traceback (most recent call last)",
      "Cell \u001b[1;32mIn[105], line 1\u001b[0m\n\u001b[1;32m----> 1\u001b[0m d \u001b[38;5;241m=\u001b[39m {(\u001b[38;5;241m1\u001b[39m,\u001b[38;5;241m2\u001b[39m,\u001b[38;5;241m3\u001b[39m,[\u001b[38;5;241m1\u001b[39m,\u001b[38;5;241m2\u001b[39m,\u001b[38;5;241m3\u001b[39m]):\u001b[38;5;124m'\u001b[39m\u001b[38;5;124ma\u001b[39m\u001b[38;5;124m'\u001b[39m}\n\u001b[0;32m      3\u001b[0m \u001b[38;5;28mprint\u001b[39m(d)\n",
      "\u001b[1;31mTypeError\u001b[0m: unhashable type: 'list'"
     ]
    }
   ],
   "source": [
    "d = {(1,2,3,[1,2,3]):'a'}\n",
    "\n",
    "print(d)"
   ]
  },
  {
   "cell_type": "code",
   "execution_count": 110,
   "metadata": {},
   "outputs": [
    {
     "name": "stdout",
     "output_type": "stream",
     "text": [
      "{1: 2, 3: 4}\n"
     ]
    }
   ],
   "source": [
    "d = dict(((1,2),(3,4)))\n",
    "\n",
    "print(d)"
   ]
  },
  {
   "cell_type": "code",
   "execution_count": 111,
   "metadata": {},
   "outputs": [
    {
     "name": "stdout",
     "output_type": "stream",
     "text": [
      "2\n"
     ]
    }
   ],
   "source": [
    "print(len(d))"
   ]
  },
  {
   "cell_type": "code",
   "execution_count": 113,
   "metadata": {},
   "outputs": [
    {
     "name": "stdout",
     "output_type": "stream",
     "text": [
      "{'a': 12, 'b': 13, 'c': 100, 1: '2', '1': 'ABC', False: 'True'}\n",
      "6\n"
     ]
    }
   ],
   "source": [
    "d = {'a':12,'b':13,'c':100,1:'A','1':'ABC',1.0:'2',False:'True'}\n",
    "\n",
    "print(d)\n",
    "print(len(d))"
   ]
  },
  {
   "cell_type": "code",
   "execution_count": 114,
   "metadata": {},
   "outputs": [],
   "source": [
    "# keys,values,items"
   ]
  },
  {
   "cell_type": "code",
   "execution_count": 116,
   "metadata": {},
   "outputs": [
    {
     "name": "stdout",
     "output_type": "stream",
     "text": [
      "dict_keys(['dhoni', 'jadeja', 'raina'])\n",
      "dict_values([55.4, 46.9, 60.9])\n",
      "dict_items([('dhoni', 55.4), ('jadeja', 46.9), ('raina', 60.9)])\n"
     ]
    }
   ],
   "source": [
    "d = {'dhoni':55.4,'jadeja':46.9,'raina':60.9}\n",
    "\n",
    "print(d.keys())\n",
    "print(d.values())\n",
    "print(d.items())"
   ]
  },
  {
   "cell_type": "code",
   "execution_count": 117,
   "metadata": {},
   "outputs": [
    {
     "name": "stdout",
     "output_type": "stream",
     "text": [
      "keys:------> dhoni\n",
      "keys:------> jadeja\n",
      "keys:------> raina\n"
     ]
    }
   ],
   "source": [
    "for k in d.keys():\n",
    "    print('keys:------>',k)"
   ]
  },
  {
   "cell_type": "code",
   "execution_count": 118,
   "metadata": {},
   "outputs": [
    {
     "name": "stdout",
     "output_type": "stream",
     "text": [
      "values:-----> 55.4\n",
      "values:-----> 46.9\n",
      "values:-----> 60.9\n"
     ]
    }
   ],
   "source": [
    "for v in d.values():\n",
    "    print('values:----->',v)"
   ]
  },
  {
   "cell_type": "code",
   "execution_count": 119,
   "metadata": {},
   "outputs": [
    {
     "name": "stdout",
     "output_type": "stream",
     "text": [
      "('dhoni', 55.4)\n",
      "('jadeja', 46.9)\n",
      "('raina', 60.9)\n"
     ]
    }
   ],
   "source": [
    "for k in d.items():\n",
    "    print(k)"
   ]
  },
  {
   "cell_type": "code",
   "execution_count": 120,
   "metadata": {},
   "outputs": [
    {
     "name": "stdout",
     "output_type": "stream",
     "text": [
      "keys:---> dhoni : values---> 55.4\n",
      "keys:---> jadeja : values---> 46.9\n",
      "keys:---> raina : values---> 60.9\n"
     ]
    }
   ],
   "source": [
    "for k,v in d.items():\n",
    "    print('keys:--->',k,':','values--->',v)"
   ]
  },
  {
   "cell_type": "code",
   "execution_count": 121,
   "metadata": {},
   "outputs": [],
   "source": [
    "# Accessing a dictionary"
   ]
  },
  {
   "cell_type": "code",
   "execution_count": 123,
   "metadata": {},
   "outputs": [
    {
     "data": {
      "text/plain": [
       "{'arjun': 'nellore', 'kasi': 'ongole'}"
      ]
     },
     "execution_count": 123,
     "metadata": {},
     "output_type": "execute_result"
    }
   ],
   "source": [
    "student_details = {'arjun':'nellore','kasi':'ongole'}\n",
    "\n",
    "student_details"
   ]
  },
  {
   "cell_type": "code",
   "execution_count": 124,
   "metadata": {},
   "outputs": [
    {
     "data": {
      "text/plain": [
       "'nellore'"
      ]
     },
     "execution_count": 124,
     "metadata": {},
     "output_type": "execute_result"
    }
   ],
   "source": [
    "student_details['arjun']"
   ]
  },
  {
   "cell_type": "code",
   "execution_count": 125,
   "metadata": {},
   "outputs": [
    {
     "ename": "KeyError",
     "evalue": "'ram'",
     "output_type": "error",
     "traceback": [
      "\u001b[1;31m---------------------------------------------------------------------------\u001b[0m",
      "\u001b[1;31mKeyError\u001b[0m                                  Traceback (most recent call last)",
      "Cell \u001b[1;32mIn[125], line 1\u001b[0m\n\u001b[1;32m----> 1\u001b[0m student_details[\u001b[38;5;124m'\u001b[39m\u001b[38;5;124mram\u001b[39m\u001b[38;5;124m'\u001b[39m]\n",
      "\u001b[1;31mKeyError\u001b[0m: 'ram'"
     ]
    }
   ],
   "source": [
    "student_details['ram']"
   ]
  },
  {
   "cell_type": "code",
   "execution_count": 126,
   "metadata": {},
   "outputs": [],
   "source": [
    "# get method"
   ]
  },
  {
   "cell_type": "code",
   "execution_count": 127,
   "metadata": {},
   "outputs": [
    {
     "data": {
      "text/plain": [
       "'nellore'"
      ]
     },
     "execution_count": 127,
     "metadata": {},
     "output_type": "execute_result"
    }
   ],
   "source": [
    "student_details.get('arjun')"
   ]
  },
  {
   "cell_type": "code",
   "execution_count": 128,
   "metadata": {},
   "outputs": [
    {
     "name": "stdout",
     "output_type": "stream",
     "text": [
      "nellore\n",
      "None\n"
     ]
    }
   ],
   "source": [
    "a = student_details.get('arjun')\n",
    "b = student_details.get('sky')\n",
    "\n",
    "print(a)\n",
    "print(b)"
   ]
  },
  {
   "cell_type": "code",
   "execution_count": 131,
   "metadata": {},
   "outputs": [
    {
     "data": {
      "text/plain": [
       "'key not found'"
      ]
     },
     "execution_count": 131,
     "metadata": {},
     "output_type": "execute_result"
    }
   ],
   "source": [
    "student_details.get('sky','key not found') #get(key,default_val)"
   ]
  },
  {
   "cell_type": "code",
   "execution_count": 132,
   "metadata": {},
   "outputs": [],
   "source": [
    "# modifying a dictionary"
   ]
  },
  {
   "cell_type": "code",
   "execution_count": 133,
   "metadata": {},
   "outputs": [
    {
     "name": "stdout",
     "output_type": "stream",
     "text": [
      "{'virat': [10, 20, 30], 'rohit': 46.9}\n"
     ]
    }
   ],
   "source": [
    "d = {'virat':44,'rohit':46.9}\n",
    "\n",
    "d['virat'] = [10,20,30]\n",
    "\n",
    "print(d)"
   ]
  },
  {
   "cell_type": "code",
   "execution_count": 134,
   "metadata": {},
   "outputs": [],
   "source": [
    "# in operation"
   ]
  },
  {
   "cell_type": "code",
   "execution_count": 135,
   "metadata": {},
   "outputs": [
    {
     "data": {
      "text/plain": [
       "True"
      ]
     },
     "execution_count": 135,
     "metadata": {},
     "output_type": "execute_result"
    }
   ],
   "source": [
    "'virat' in d"
   ]
  },
  {
   "cell_type": "code",
   "execution_count": 136,
   "metadata": {},
   "outputs": [
    {
     "data": {
      "text/plain": [
       "False"
      ]
     },
     "execution_count": 136,
     "metadata": {},
     "output_type": "execute_result"
    }
   ],
   "source": [
    "'virat' not in d"
   ]
  },
  {
   "cell_type": "code",
   "execution_count": 137,
   "metadata": {},
   "outputs": [
    {
     "data": {
      "text/plain": [
       "False"
      ]
     },
     "execution_count": 137,
     "metadata": {},
     "output_type": "execute_result"
    }
   ],
   "source": [
    "d = {'virat':'sky','rohit':'pant'}\n",
    "\n",
    "'sky' in d"
   ]
  },
  {
   "cell_type": "code",
   "execution_count": 138,
   "metadata": {},
   "outputs": [
    {
     "data": {
      "text/plain": [
       "True"
      ]
     },
     "execution_count": 138,
     "metadata": {},
     "output_type": "execute_result"
    }
   ],
   "source": [
    "'sky' in d.values()"
   ]
  },
  {
   "cell_type": "code",
   "execution_count": 139,
   "metadata": {},
   "outputs": [],
   "source": [
    "# update method"
   ]
  },
  {
   "cell_type": "code",
   "execution_count": 140,
   "metadata": {},
   "outputs": [
    {
     "name": "stdout",
     "output_type": "stream",
     "text": [
      "{'name': 'arjun', 'age': 23, 'profession': 'data_scientist'}\n"
     ]
    }
   ],
   "source": [
    "my_dict = {'name':'arjun','age':23,'profession':'data_scientist'}\n",
    "\n",
    "print(my_dict)"
   ]
  },
  {
   "cell_type": "code",
   "execution_count": 141,
   "metadata": {},
   "outputs": [
    {
     "data": {
      "text/plain": [
       "{'name': 'arjun_das', 'age': 23, 'profession': 'data_scientist'}"
      ]
     },
     "execution_count": 141,
     "metadata": {},
     "output_type": "execute_result"
    }
   ],
   "source": [
    "my_dict.update(name = 'arjun_das')\n",
    "\n",
    "my_dict"
   ]
  },
  {
   "cell_type": "code",
   "execution_count": 142,
   "metadata": {},
   "outputs": [],
   "source": [
    "other_dict = {'salary':50_000,'education':'B.E'}\n",
    "\n",
    "my_dict.update(other_dict)"
   ]
  },
  {
   "cell_type": "code",
   "execution_count": 145,
   "metadata": {},
   "outputs": [
    {
     "name": "stdout",
     "output_type": "stream",
     "text": [
      "{'name': 'arjun_das', 'age': 23, 'profession': 'data_scientist', 'salary': 50000, 'education': 'B.E'}\n"
     ]
    }
   ],
   "source": [
    "print(my_dict)"
   ]
  },
  {
   "cell_type": "code",
   "execution_count": 144,
   "metadata": {},
   "outputs": [
    {
     "name": "stdout",
     "output_type": "stream",
     "text": [
      "{'a': [1, 2]}\n"
     ]
    }
   ],
   "source": [
    "d = {'a':[1,2,3]}\n",
    "d['a'].pop()\n",
    "print(d)"
   ]
  },
  {
   "cell_type": "code",
   "execution_count": 151,
   "metadata": {},
   "outputs": [
    {
     "data": {
      "text/plain": [
       "{'name': 'arjun_das',\n",
       " 'age': 23,\n",
       " 'profession': 'data_scientist',\n",
       " 'salary': 1000000,\n",
       " 'education': 'btech'}"
      ]
     },
     "execution_count": 151,
     "metadata": {},
     "output_type": "execute_result"
    }
   ],
   "source": [
    "my_dict = {'name': 'arjun_das', 'age': 23, 'profession': 'data_scientist', 'salary': 50000, 'education': 'B.E'}\n",
    "\n",
    "other_dict = ['salary',10_00_000],['education','btech']\n",
    "\n",
    "my_dict.update(other_dict)\n",
    "\n",
    "my_dict"
   ]
  },
  {
   "cell_type": "code",
   "execution_count": 152,
   "metadata": {},
   "outputs": [
    {
     "data": {
      "text/plain": [
       "tuple"
      ]
     },
     "execution_count": 152,
     "metadata": {},
     "output_type": "execute_result"
    }
   ],
   "source": [
    "type(other_dict)"
   ]
  },
  {
   "cell_type": "code",
   "execution_count": 153,
   "metadata": {},
   "outputs": [],
   "source": [
    "del my_dict['education']"
   ]
  },
  {
   "cell_type": "code",
   "execution_count": 154,
   "metadata": {},
   "outputs": [
    {
     "data": {
      "text/plain": [
       "{'name': 'arjun_das',\n",
       " 'age': 23,\n",
       " 'profession': 'data_scientist',\n",
       " 'salary': 1000000}"
      ]
     },
     "execution_count": 154,
     "metadata": {},
     "output_type": "execute_result"
    }
   ],
   "source": [
    "my_dict"
   ]
  },
  {
   "cell_type": "code",
   "execution_count": 155,
   "metadata": {},
   "outputs": [],
   "source": [
    "del my_dict"
   ]
  },
  {
   "cell_type": "code",
   "execution_count": 156,
   "metadata": {},
   "outputs": [
    {
     "ename": "NameError",
     "evalue": "name 'my_dict' is not defined",
     "output_type": "error",
     "traceback": [
      "\u001b[1;31m---------------------------------------------------------------------------\u001b[0m",
      "\u001b[1;31mNameError\u001b[0m                                 Traceback (most recent call last)",
      "Cell \u001b[1;32mIn[156], line 1\u001b[0m\n\u001b[1;32m----> 1\u001b[0m my_dict\n",
      "\u001b[1;31mNameError\u001b[0m: name 'my_dict' is not defined"
     ]
    }
   ],
   "source": [
    "my_dict"
   ]
  },
  {
   "cell_type": "code",
   "execution_count": 157,
   "metadata": {},
   "outputs": [],
   "source": [
    "my_dict = {'name': 'arjun_das', 'age': 23, 'profession': 'data_scientist', 'salary': 50000, 'education': 'B.E'}"
   ]
  },
  {
   "cell_type": "code",
   "execution_count": 158,
   "metadata": {},
   "outputs": [
    {
     "data": {
      "text/plain": [
       "{'name': 'arjun_das',\n",
       " 'age': 23,\n",
       " 'profession': 'data_scientist',\n",
       " 'salary': 50000,\n",
       " 'education': 'B.E'}"
      ]
     },
     "execution_count": 158,
     "metadata": {},
     "output_type": "execute_result"
    }
   ],
   "source": [
    "my_dict"
   ]
  },
  {
   "cell_type": "code",
   "execution_count": 159,
   "metadata": {},
   "outputs": [],
   "source": [
    "my_dict.clear()"
   ]
  },
  {
   "cell_type": "code",
   "execution_count": 160,
   "metadata": {},
   "outputs": [
    {
     "data": {
      "text/plain": [
       "{}"
      ]
     },
     "execution_count": 160,
     "metadata": {},
     "output_type": "execute_result"
    }
   ],
   "source": [
    "my_dict"
   ]
  },
  {
   "cell_type": "code",
   "execution_count": null,
   "metadata": {},
   "outputs": [],
   "source": []
  }
 ],
 "metadata": {
  "kernelspec": {
   "display_name": "base",
   "language": "python",
   "name": "python3"
  },
  "language_info": {
   "codemirror_mode": {
    "name": "ipython",
    "version": 3
   },
   "file_extension": ".py",
   "mimetype": "text/x-python",
   "name": "python",
   "nbconvert_exporter": "python",
   "pygments_lexer": "ipython3",
   "version": "3.11.5"
  }
 },
 "nbformat": 4,
 "nbformat_minor": 2
}
