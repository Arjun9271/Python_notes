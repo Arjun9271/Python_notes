{
 "cells": [
  {
   "cell_type": "code",
   "execution_count": 2,
   "metadata": {},
   "outputs": [
    {
     "name": "stdout",
     "output_type": "stream",
     "text": [
      "[[0, 0, 0], [0, 0, 1], [0, 0, 2], [0, 1, 0], [0, 1, 1], [1, 0, 0], [1, 0, 1], [1, 1, 0], [1, 1, 2]]\n"
     ]
    }
   ],
   "source": [
    "# problem statement : \n",
    "x = int(input(\"emter the value:\"))\n",
    "y = int(input('enter the value:'))\n",
    "z = int(input('enter the value:'))\n",
    "N = int(input('enter the value:'))\n",
    "\n",
    "result = []\n",
    "\n",
    "for i in range(x+1):\n",
    "    for j in range(y+1):\n",
    "        for k in range(z+1):\n",
    "            \n",
    "            if i+j+k != N:\n",
    "                result.append([i,j,k])\n",
    "print(result)"
   ]
  },
  {
   "cell_type": "code",
   "execution_count": 3,
   "metadata": {},
   "outputs": [
    {
     "name": "stdout",
     "output_type": "stream",
     "text": [
      "[[0, 0, 0], [0, 0, 1], [0, 0, 2], [0, 1, 0], [0, 1, 1], [0, 1, 2], [1, 0, 0], [1, 0, 1], [1, 0, 2], [1, 1, 0], [1, 1, 1], [1, 1, 2]]\n"
     ]
    }
   ],
   "source": [
    "# problem statement : \n",
    "a = int(input(\"emter the value:\"))\n",
    "b = int(input('enter the value:'))\n",
    "c = int(input('enter the value:'))\n",
    "N = int(input('enter the value:'))\n",
    "\n",
    "result = [ [i,j,k] for i in range(x+1) for j in range(y+1) for k in range(z+1) if i+j+k != N]\n",
    "\n",
    "print(result)"
   ]
  },
  {
   "cell_type": "code",
   "execution_count": 12,
   "metadata": {},
   "outputs": [
    {
     "name": "stdout",
     "output_type": "stream",
     "text": [
      "5646003302091366357\n"
     ]
    }
   ],
   "source": [
    "# hashing\n",
    "# Read input values\n",
    "n = int(input().strip())  # Number of elements in the tuple (though we don't need to use this value directly)\n",
    "elements = tuple(map(int, input().strip().split()))  # Convert input directly to a tuple\n",
    "\n",
    "# Print the hash of the tuple\n",
    "print(hash(elements))\n"
   ]
  },
  {
   "cell_type": "code",
   "execution_count": 17,
   "metadata": {},
   "outputs": [
    {
     "name": "stdout",
     "output_type": "stream",
     "text": [
      "39.00\n"
     ]
    }
   ],
   "source": [
    "num = int(input('enter the value:'))\n",
    "\n",
    "student_marks = {}\n",
    "\n",
    "for _ in range(num):\n",
    "    line = input().split()\n",
    "    student_marks[line[0]] = list(map(float,line[1:]))\n",
    "\n",
    "query = input('enter name that u want to fetch marks:')\n",
    "    \n",
    "average_marks = sum(student_marks[query]) / len(student_marks[query])\n",
    "print(\"{:.2f}\".format(average_marks))\n"
   ]
  },
  {
   "cell_type": "code",
   "execution_count": 26,
   "metadata": {},
   "outputs": [
    {
     "name": "stdout",
     "output_type": "stream",
     "text": [
      "4\n"
     ]
    }
   ],
   "source": [
    "n = int(input())\n",
    "p = []\n",
    "\n",
    "for _ in range(n):\n",
    "    p.append(int(input('enter the value:')))\n",
    "\n",
    "a = sorted(p,reverse = True)\n",
    "\n",
    "print(a[1])"
   ]
  },
  {
   "cell_type": "code",
   "execution_count": 27,
   "metadata": {},
   "outputs": [
    {
     "name": "stdout",
     "output_type": "stream",
     "text": [
      "[5, 4, 3, 2, 1]\n"
     ]
    }
   ],
   "source": [
    "print(a)"
   ]
  },
  {
   "cell_type": "code",
   "execution_count": 29,
   "metadata": {},
   "outputs": [
    {
     "name": "stdout",
     "output_type": "stream",
     "text": [
      "2\n"
     ]
    }
   ],
   "source": [
    "n = int(input())\n",
    "\n",
    "p = list(map(int,input().split()))\n",
    "\n",
    "print(p[-2])\n",
    "\n"
   ]
  },
  {
   "cell_type": "code",
   "execution_count": 30,
   "metadata": {},
   "outputs": [
    {
     "name": "stdout",
     "output_type": "stream",
     "text": [
      "[1, 2, 3]\n"
     ]
    }
   ],
   "source": [
    "print(p)"
   ]
  },
  {
   "cell_type": "code",
   "execution_count": 6,
   "metadata": {},
   "outputs": [
    {
     "name": "stdout",
     "output_type": "stream",
     "text": [
      "[]\n"
     ]
    }
   ],
   "source": [
    "n = int(input())\n",
    "k = []\n",
    "for i in range(n):\n",
    "    p = list(map(str,input().split()))\n",
    "    \n",
    "    \n",
    "\n"
   ]
  },
  {
   "cell_type": "code",
   "execution_count": 4,
   "metadata": {},
   "outputs": [
    {
     "name": "stdout",
     "output_type": "stream",
     "text": [
      "[1, 2, 3, 4]\n"
     ]
    }
   ],
   "source": [
    "lst = list(map(int,input().split()))\n",
    "print(lst)"
   ]
  },
  {
   "cell_type": "code",
   "execution_count": 7,
   "metadata": {},
   "outputs": [
    {
     "name": "stdout",
     "output_type": "stream",
     "text": [
      "['insert', '1', '0']\n"
     ]
    }
   ],
   "source": [
    "print(p)"
   ]
  },
  {
   "cell_type": "code",
   "execution_count": 8,
   "metadata": {},
   "outputs": [
    {
     "ename": "AttributeError",
     "evalue": "'list' object has no attribute 'p'",
     "output_type": "error",
     "traceback": [
      "\u001b[1;31m---------------------------------------------------------------------------\u001b[0m",
      "\u001b[1;31mAttributeError\u001b[0m                            Traceback (most recent call last)",
      "Cell \u001b[1;32mIn[8], line 1\u001b[0m\n\u001b[1;32m----> 1\u001b[0m k\u001b[38;5;241m.\u001b[39mp[\u001b[38;5;241m0\u001b[39m](p[\u001b[38;5;241m1\u001b[39m],p[\u001b[38;5;241m2\u001b[39m])\n",
      "\u001b[1;31mAttributeError\u001b[0m: 'list' object has no attribute 'p'"
     ]
    }
   ],
   "source": [
    "k.p[0](p[1],p[2])"
   ]
  },
  {
   "cell_type": "code",
   "execution_count": 9,
   "metadata": {},
   "outputs": [
    {
     "data": {
      "text/plain": [
       "'insert'"
      ]
     },
     "execution_count": 9,
     "metadata": {},
     "output_type": "execute_result"
    }
   ],
   "source": [
    "p[0]"
   ]
  },
  {
   "cell_type": "code",
   "execution_count": null,
   "metadata": {},
   "outputs": [],
   "source": [
    "# Read the number of students\n",
    "n = int(input())\n",
    "\n",
    "# Initialize an empty list to store student data\n",
    "students = []\n",
    "\n",
    "# Read each student's name and grade\n",
    "for _ in range(n):\n",
    "    name = input()\n",
    "    grade = float(input())\n",
    "    students.append([name, grade])\n",
    "\n",
    "# Extract grades and find unique ones\n",
    "grades = set([student[1] for student in students])\n",
    "sorted_grades = sorted(grades)\n",
    "\n",
    "# Get the second lowest grade\n",
    "second_lowest_grade = sorted_grades[1]\n",
    "\n",
    "# Find names of students with the second lowest grade\n",
    "names_with_second_lowest = [student[0] for student in students if student[1] == second_lowest_grade]\n",
    "\n",
    "# Sort names alphabetically\n",
    "names_with_second_lowest.sort()\n",
    "\n",
    "# Print each name on a new line\n",
    "for name in names_with_second_lowest:\n",
    "    print(name)\n"
   ]
  },
  {
   "cell_type": "code",
   "execution_count": 16,
   "metadata": {},
   "outputs": [
    {
     "name": "stdout",
     "output_type": "stream",
     "text": [
      "set()\n"
     ]
    }
   ],
   "source": [
    "num_1 = int(input())\n",
    "lst_1 = set()\n",
    "for i in range(num_1):\n",
    "    lst_1.add(int(input()))\n",
    "num_2 = int(input())\n",
    "lst_2 = set()\n",
    "for j in range(num_2):\n",
    "    lst_2.add(int(input()))\n",
    "\n",
    "print(lst_1.difference(lst_2))"
   ]
  },
  {
   "cell_type": "code",
   "execution_count": 18,
   "metadata": {},
   "outputs": [
    {
     "name": "stdout",
     "output_type": "stream",
     "text": [
      "set()\n"
     ]
    }
   ],
   "source": [
    "num_1 = int(input())\n",
    "lst_1 = set(map(int, input().split()))\n",
    "\n",
    "num_2 = int(input())\n",
    "lst_2 = set(map(int, input().split()))\n",
    "\n",
    "# Output the difference between lst_1 and lst_2\n",
    "print(lst_1.difference(lst_2))\n"
   ]
  },
  {
   "cell_type": "code",
   "execution_count": 20,
   "metadata": {},
   "outputs": [
    {
     "name": "stdout",
     "output_type": "stream",
     "text": [
      "1\n"
     ]
    }
   ],
   "source": [
    "# symmetric difference\n",
    "\n",
    "num_1 = int(input())\n",
    "a = set(map(int,input().split(',')))\n",
    "num_2 = int(input())\n",
    "b = set(map(int,input().split(',')))\n",
    "\n",
    "set_3 = a^b #symmetric difference\n",
    "\n",
    "for i in sorted(list(set_3)):\n",
    "    print(i)"
   ]
  },
  {
   "cell_type": "code",
   "execution_count": 21,
   "metadata": {},
   "outputs": [
    {
     "name": "stdout",
     "output_type": "stream",
     "text": [
      "{1, 2, 3}\n",
      "{2, 3}\n"
     ]
    }
   ],
   "source": [
    "print(a,b,sep = '\\n')"
   ]
  },
  {
   "cell_type": "code",
   "execution_count": 24,
   "metadata": {},
   "outputs": [
    {
     "name": "stdout",
     "output_type": "stream",
     "text": [
      "1\n"
     ]
    }
   ],
   "source": [
    "# Input for number of elements in the array and the size of sets A and B\n",
    "n, m = map(int, input().split())\n",
    "\n",
    "# Input for the array elements\n",
    "arr = list(map(int, input().split()))\n",
    "\n",
    "# Input for the elements in set A (liked integers)\n",
    "A = set(map(int, input().split()))\n",
    "\n",
    "# Input for the elements in set B (disliked integers)\n",
    "B = set(map(int, input().split()))\n",
    "\n",
    "# Initialize happiness score\n",
    "happiness = 0\n",
    "\n",
    "# Calculate happiness based on elements in arr\n",
    "for num in arr:\n",
    "    if num in A:\n",
    "        happiness += 1  # Gain happiness for liked numbers\n",
    "    elif num in B:\n",
    "        happiness -= 1  # Lose happiness for disliked numbers\n",
    "\n",
    "# Output the total happiness\n",
    "print(happiness)\n"
   ]
  },
  {
   "cell_type": "code",
   "execution_count": null,
   "metadata": {},
   "outputs": [],
   "source": [
    "# Step 1: Input\n",
    "n = int(input())  # number of elements in the set\n",
    "s = set(map(int, input().split()))  # elements of the set\n",
    "num_commands = int(input())  # number of commands\n",
    "\n",
    "# Step 2: Execute commands\n",
    "for _ in range(num_commands):\n",
    "    # Split the command\n",
    "    command = input().split()\n",
    "    operation = command[0]\n",
    "    \n",
    "    if operation == \"pop\":\n",
    "        s.pop()  # pop removes an arbitrary element\n",
    "    elif operation == \"remove\":\n",
    "        s.discard(int(command[1]))  # use discard to avoid KeyError\n",
    "    elif operation == \"discard\":\n",
    "        s.discard(int(command[1]))  # discard removes safely, no error raised\n",
    "\n",
    "# Step 3: Output the sum of the elements of the set\n",
    "print(sum(s))\n"
   ]
  },
  {
   "cell_type": "code",
   "execution_count": null,
   "metadata": {},
   "outputs": [],
   "source": [
    "n = int(input())\n",
    "n_set_A = int(input())\n",
    "set_A = set(map(int,input().split()))\n",
    "n_set_B = int(input())\n",
    "set_B = set(map(int,input().split()))\n",
    "n_set_A_1 = int(input())\n",
    "set_A_1 = set(map(int,input().split()))\n",
    "n_set_B_1 = int(input())\n",
    "set_B_1 = set(map(int,input().split()))\n",
    "n_set_A_2 = int(input())\n",
    "set_A_2 = set(map(int,input().split()))\n",
    "n_set_B_2 = int(input())\n",
    "set_B_2 = set(map(int,input().split()))\n",
    "\n",
    "print(set_A.issubset(set_B))\n",
    "print(set_A_1.issubset(set_B_1))\n",
    "print(set_A_2.issubset(set_B_2))\n"
   ]
  },
  {
   "cell_type": "code",
   "execution_count": 1,
   "metadata": {},
   "outputs": [
    {
     "name": "stdout",
     "output_type": "stream",
     "text": [
      "True\n"
     ]
    },
    {
     "ename": "ValueError",
     "evalue": "invalid literal for int() with base 10: '1 2'",
     "output_type": "error",
     "traceback": [
      "\u001b[1;31m---------------------------------------------------------------------------\u001b[0m",
      "\u001b[1;31mValueError\u001b[0m                                Traceback (most recent call last)",
      "Cell \u001b[1;32mIn[1], line 7\u001b[0m\n\u001b[0;32m      4\u001b[0m n_set_A \u001b[38;5;241m=\u001b[39m \u001b[38;5;28mint\u001b[39m(\u001b[38;5;28minput\u001b[39m())\n\u001b[0;32m      5\u001b[0m set_A \u001b[38;5;241m=\u001b[39m \u001b[38;5;28mset\u001b[39m(\u001b[38;5;28mmap\u001b[39m(\u001b[38;5;28mint\u001b[39m,\u001b[38;5;28minput\u001b[39m()\u001b[38;5;241m.\u001b[39msplit()))\n\u001b[1;32m----> 7\u001b[0m n_set_B \u001b[38;5;241m=\u001b[39m \u001b[38;5;28mint\u001b[39m(\u001b[38;5;28minput\u001b[39m())\n\u001b[0;32m      8\u001b[0m set_B \u001b[38;5;241m=\u001b[39m \u001b[38;5;28mset\u001b[39m(\u001b[38;5;28mmap\u001b[39m(\u001b[38;5;28mint\u001b[39m,\u001b[38;5;28minput\u001b[39m()\u001b[38;5;241m.\u001b[39msplit()))\n\u001b[0;32m     10\u001b[0m \u001b[38;5;28mprint\u001b[39m(set_A\u001b[38;5;241m.\u001b[39missubset(set_B))\n",
      "\u001b[1;31mValueError\u001b[0m: invalid literal for int() with base 10: '1 2'"
     ]
    }
   ],
   "source": [
    "n = int(input())\n",
    "\n",
    "for _ in range(n):\n",
    "    n_set_A = int(input())\n",
    "    set_A = set(map(int,input().split()))\n",
    "    \n",
    "    n_set_B = int(input())\n",
    "    set_B = set(map(int,input().split()))\n",
    "    \n",
    "    print(set_A.issubset(set_B))\n",
    "\n",
    "\n"
   ]
  },
  {
   "cell_type": "code",
   "execution_count": 4,
   "metadata": {},
   "outputs": [
    {
     "name": "stdout",
     "output_type": "stream",
     "text": [
      "{2}\n"
     ]
    }
   ],
   "source": [
    "# for the strict super set\n",
    "\n",
    "a = set(map(int,input().split()))\n",
    "n = int(input())\n",
    "\n",
    "p = []\n",
    "for _ in range(n):\n",
    "    set_a = set(map(int,input().split()))\n",
    "    p.append(a.issuperset(set_a) and len(a) > len(set_a))\n",
    "\n",
    "if all(p):\n",
    "    print('True')\n",
    "else:\n",
    "    print('False')  "
   ]
  },
  {
   "cell_type": "code",
   "execution_count": 5,
   "metadata": {},
   "outputs": [
    {
     "name": "stdout",
     "output_type": "stream",
     "text": [
      "{1, 2, 3, 4, 5, 66, 6}\n"
     ]
    }
   ],
   "source": [
    "k = int(input())\n",
    "\n",
    "p = list(map(int,input().split()))\n",
    "\n",
    "m = set(p)\n",
    "\n",
    "print(m)"
   ]
  },
  {
   "cell_type": "code",
   "execution_count": 7,
   "metadata": {},
   "outputs": [
    {
     "name": "stdout",
     "output_type": "stream",
     "text": [
      "[1, 2, 2, 3, 3, 4, 5, 66, 6, 6]\n"
     ]
    }
   ],
   "source": [
    "print(p)"
   ]
  },
  {
   "cell_type": "code",
   "execution_count": 10,
   "metadata": {},
   "outputs": [
    {
     "name": "stdout",
     "output_type": "stream",
     "text": [
      "1\n"
     ]
    }
   ],
   "source": [
    "for i in p :\n",
    "    if p.count(i) == 1:\n",
    "        print(i)\n",
    "    break"
   ]
  },
  {
   "cell_type": "code",
   "execution_count": 12,
   "metadata": {},
   "outputs": [
    {
     "data": {
      "text/plain": [
       "[1, 20, 3, 4]"
      ]
     },
     "execution_count": 12,
     "metadata": {},
     "output_type": "execute_result"
    }
   ],
   "source": [
    "[1,20]+[3,4]"
   ]
  },
  {
   "cell_type": "code",
   "execution_count": 5,
   "metadata": {},
   "outputs": [
    {
     "name": "stdout",
     "output_type": "stream",
     "text": [
      "1\n",
      "22\n",
      "333\n",
      "4444\n"
     ]
    }
   ],
   "source": [
    "n = 5\n",
    "\n",
    "for i in range(1,n):  # number selects from heree\n",
    "    for j in range(i): # here we are just using for repeatation\n",
    "        print(i,end = '')\n",
    "    print()"
   ]
  },
  {
   "cell_type": "code",
   "execution_count": 6,
   "metadata": {},
   "outputs": [
    {
     "name": "stdout",
     "output_type": "stream",
     "text": [
      "1\n",
      "22\n",
      "333\n",
      "4444\n",
      "55555\n"
     ]
    }
   ],
   "source": [
    "for i in range(1, int(input())+1):\n",
    "    print((10**i - 1) // 9 * i)\n"
   ]
  },
  {
   "cell_type": "code",
   "execution_count": 9,
   "metadata": {},
   "outputs": [
    {
     "name": "stdout",
     "output_type": "stream",
     "text": [
      "14\n",
      "2\n",
      "(14, 2)\n"
     ]
    }
   ],
   "source": [
    "a = int(input())\n",
    "b = int(input())\n",
    "\n",
    "c = divmod(a,b)\n",
    "print(c[0],c[1],sep = '\\n')\n",
    "\n",
    "print(divmod(a,b))"
   ]
  },
  {
   "cell_type": "code",
   "execution_count": 12,
   "metadata": {},
   "outputs": [
    {
     "name": "stdout",
     "output_type": "stream",
     "text": [
      "1\n"
     ]
    }
   ],
   "source": [
    "c  = pow(3,2,4)\n",
    "print(c)"
   ]
  },
  {
   "cell_type": "code",
   "execution_count": 3,
   "metadata": {},
   "outputs": [
    {
     "name": "stdout",
     "output_type": "stream",
     "text": [
      "1\n",
      "2\n",
      "3\n",
      "4\n"
     ]
    }
   ],
   "source": [
    "for i in range(1,int(input('enter:'))):\n",
    "    print()"
   ]
  },
  {
   "cell_type": "code",
   "execution_count": 4,
   "metadata": {},
   "outputs": [
    {
     "name": "stdout",
     "output_type": "stream",
     "text": [
      "1\n",
      "121\n",
      "12321\n",
      "1234321\n",
      "123454321\n"
     ]
    }
   ],
   "source": [
    "# Loop through consecutive numbers made up of 1's\n",
    "for i in range(1, 6):  # 1 to 5 rows\n",
    "    num = int('1' * i)  # Generate numbers like 1, 11, 111, etc.\n",
    "    squared = num ** 2  # Square the number\n",
    "    print(squared)      # Print the squared result\n"
   ]
  },
  {
   "cell_type": "code",
   "execution_count": 5,
   "metadata": {},
   "outputs": [
    {
     "name": "stdout",
     "output_type": "stream",
     "text": [
      "1\n",
      "121\n",
      "12321\n",
      "1234321\n",
      "123454321\n"
     ]
    }
   ],
   "source": [
    "for i in range(1, int(input()) + 1):\n",
    "     print((10**i - 1) ** 2 // 81)\n"
   ]
  },
  {
   "cell_type": "code",
   "execution_count": 8,
   "metadata": {},
   "outputs": [
    {
     "name": "stdout",
     "output_type": "stream",
     "text": [
      "89.23288960379851\n"
     ]
    }
   ],
   "source": [
    "import math\n",
    "\n",
    "a = int(input())\n",
    "b = int(input())\n",
    "\n",
    "angle = math.tan(a/b)\n",
    "deg = math.degrees(angle)\n",
    "\n",
    "print(deg)"
   ]
  },
  {
   "cell_type": "code",
   "execution_count": 1,
   "metadata": {},
   "outputs": [],
   "source": [
    "import string\n",
    "\n",
    "def print_rangoli(size):\n",
    "    # Get the lowercase alphabet letters\n",
    "    alphabet = string.ascii_lowercase\n",
    "\n",
    "    # List to store each row of the rangoli\n",
    "    pattern = []\n",
    "\n",
    "    # Build the top half of the rangoli (including the middle row)\n",
    "    for i in range(size):\n",
    "        # Create the letter pattern for the current row\n",
    "        s = '-'.join(alphabet[size-1:i:-1] + alphabet[i:size])\n",
    "        \n",
    "        # Center the string with '-' to make the row of correct width\n",
    "        pattern.append(s.center(4*size-3, '-'))\n",
    "\n",
    "    # Print the full rangoli by printing the top part and its mirror image\n",
    "    print('\\n'.join(pattern[::-1] + pattern[1:]))\n"
   ]
  },
  {
   "cell_type": "code",
   "execution_count": 2,
   "metadata": {},
   "outputs": [
    {
     "name": "stdout",
     "output_type": "stream",
     "text": [
      "--------e--------\n",
      "------e-d-e------\n",
      "----e-d-c-d-e----\n",
      "--e-d-c-b-c-d-e--\n",
      "e-d-c-b-a-b-c-d-e\n",
      "--e-d-c-b-c-d-e--\n",
      "----e-d-c-d-e----\n",
      "------e-d-e------\n",
      "--------e--------\n"
     ]
    }
   ],
   "source": [
    "print_rangoli(5)"
   ]
  },
  {
   "cell_type": "code",
   "execution_count": null,
   "metadata": {},
   "outputs": [],
   "source": []
  }
 ],
 "metadata": {
  "kernelspec": {
   "display_name": "base",
   "language": "python",
   "name": "python3"
  },
  "language_info": {
   "codemirror_mode": {
    "name": "ipython",
    "version": 3
   },
   "file_extension": ".py",
   "mimetype": "text/x-python",
   "name": "python",
   "nbconvert_exporter": "python",
   "pygments_lexer": "ipython3",
   "version": "3.11.5"
  }
 },
 "nbformat": 4,
 "nbformat_minor": 2
}
