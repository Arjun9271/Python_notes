{
 "cells": [
  {
   "cell_type": "markdown",
   "metadata": {
    "vscode": {
     "languageId": "plaintext"
    }
   },
   "source": [
    "\n",
    "\n",
    "\n",
    "1. Functions\n",
    "2. Global Variables Vs Local Variables\n",
    "3. Nested Functions\n",
    "4. Nonlocal Varibales\n",
    "5. Higher-Order Functions\n",
    "6. Anonymous Functions"
   ]
  },
  {
   "cell_type": "code",
   "execution_count": 1,
   "metadata": {},
   "outputs": [],
   "source": [
    "# gloabal variables vs local variables"
   ]
  },
  {
   "cell_type": "code",
   "execution_count": 2,
   "metadata": {},
   "outputs": [
    {
     "name": "stdout",
     "output_type": "stream",
     "text": [
      "Local_Variable-->a: 5\n"
     ]
    },
    {
     "ename": "NameError",
     "evalue": "name 'a' is not defined",
     "output_type": "error",
     "traceback": [
      "\u001b[1;31m---------------------------------------------------------------------------\u001b[0m",
      "\u001b[1;31mNameError\u001b[0m                                 Traceback (most recent call last)",
      "Cell \u001b[1;32mIn[2], line 6\u001b[0m\n\u001b[0;32m      4\u001b[0m     \u001b[38;5;28mprint\u001b[39m(\u001b[38;5;124m'\u001b[39m\u001b[38;5;124mLocal_Variable-->a:\u001b[39m\u001b[38;5;124m'\u001b[39m,a)\n\u001b[0;32m      5\u001b[0m func_a()\n\u001b[1;32m----> 6\u001b[0m \u001b[38;5;28mprint\u001b[39m(\u001b[38;5;124m'\u001b[39m\u001b[38;5;124mtry to access outside the function:\u001b[39m\u001b[38;5;124m'\u001b[39m,a)\n",
      "\u001b[1;31mNameError\u001b[0m: name 'a' is not defined"
     ]
    }
   ],
   "source": [
    "def func_a():\n",
    "    # local_variable\n",
    "    a = 5\n",
    "    print('Local_Variable-->a:',a)\n",
    "func_a()\n",
    "print('try to access outside the function:',a)"
   ]
  },
  {
   "cell_type": "code",
   "execution_count": 3,
   "metadata": {},
   "outputs": [],
   "source": [
    "# global varibale"
   ]
  },
  {
   "cell_type": "code",
   "execution_count": 5,
   "metadata": {},
   "outputs": [
    {
     "name": "stdout",
     "output_type": "stream",
     "text": [
      "access global variable: inside function: 100\n",
      "acessing the gloabl variable oout side the fun:b: 100\n",
      "Accessing b: 100\n"
     ]
    }
   ],
   "source": [
    "b = 100 # global variable\n",
    "\n",
    "def func_b():\n",
    "    print('access global variable: inside function:',b)\n",
    "    \n",
    "func_b()\n",
    "print('acessing the gloabl variable oout side the fun:b:',b)\n",
    "\n",
    "def func_new():\n",
    "    print('Accessing b:',b)\n",
    "    \n",
    "func_new()"
   ]
  },
  {
   "cell_type": "code",
   "execution_count": 6,
   "metadata": {},
   "outputs": [],
   "source": [
    "# global variable vs local variable"
   ]
  },
  {
   "cell_type": "code",
   "execution_count": 7,
   "metadata": {},
   "outputs": [
    {
     "name": "stdout",
     "output_type": "stream",
     "text": [
      "Gloabl variable c : 1000\n",
      "What will get printed:  200\n",
      "global variable: 1000\n"
     ]
    }
   ],
   "source": [
    "def fun_c():\n",
    "    c = 200 # treated as a local variable\n",
    "    print('What will get printed: ',c)\n",
    "c = 1000\n",
    "print('Gloabl variable c :',c)\n",
    "fun_c()\n",
    "print('global variable:',c)"
   ]
  },
  {
   "cell_type": "code",
   "execution_count": 8,
   "metadata": {},
   "outputs": [],
   "source": [
    "# purpose of \"global\" keyword"
   ]
  },
  {
   "cell_type": "code",
   "execution_count": 9,
   "metadata": {},
   "outputs": [
    {
     "name": "stdout",
     "output_type": "stream",
     "text": [
      "intialising d:---> 1000\n",
      "modifying d---> 1500\n"
     ]
    },
    {
     "ename": "UnboundLocalError",
     "evalue": "cannot access local variable 'd' where it is not associated with a value",
     "output_type": "error",
     "traceback": [
      "\u001b[1;31m---------------------------------------------------------------------------\u001b[0m",
      "\u001b[1;31mUnboundLocalError\u001b[0m                         Traceback (most recent call last)",
      "Cell \u001b[1;32mIn[9], line 10\u001b[0m\n\u001b[0;32m      8\u001b[0m d\u001b[38;5;241m+\u001b[39m\u001b[38;5;241m=\u001b[39m \u001b[38;5;241m500\u001b[39m\n\u001b[0;32m      9\u001b[0m \u001b[38;5;28mprint\u001b[39m(\u001b[38;5;124m'\u001b[39m\u001b[38;5;124mmodifying d--->\u001b[39m\u001b[38;5;124m'\u001b[39m,d)\n\u001b[1;32m---> 10\u001b[0m func_d()\n\u001b[0;32m     11\u001b[0m \u001b[38;5;28mprint\u001b[39m(\u001b[38;5;124m'\u001b[39m\u001b[38;5;124mout side function,d changed to\u001b[39m\u001b[38;5;124m'\u001b[39m,d)\n",
      "Cell \u001b[1;32mIn[9], line 2\u001b[0m, in \u001b[0;36mfunc_d\u001b[1;34m()\u001b[0m\n\u001b[0;32m      1\u001b[0m \u001b[38;5;28;01mdef\u001b[39;00m \u001b[38;5;21mfunc_d\u001b[39m():\n\u001b[1;32m----> 2\u001b[0m     \u001b[38;5;28mprint\u001b[39m(\u001b[38;5;124m'\u001b[39m\u001b[38;5;124mglobal variable d:\u001b[39m\u001b[38;5;124m'\u001b[39m,d)\n\u001b[0;32m      3\u001b[0m     d \u001b[38;5;241m+\u001b[39m\u001b[38;5;241m=\u001b[39m \u001b[38;5;241m500\u001b[39m\n\u001b[0;32m      4\u001b[0m     \u001b[38;5;28mprint\u001b[39m(\u001b[38;5;124m'\u001b[39m\u001b[38;5;124mchanging the d inside the function:\u001b[39m\u001b[38;5;124m'\u001b[39m,d)\n",
      "\u001b[1;31mUnboundLocalError\u001b[0m: cannot access local variable 'd' where it is not associated with a value"
     ]
    }
   ],
   "source": [
    "def func_d():\n",
    "    print('global variable d:',d)\n",
    "    d += 500\n",
    "    print('changing the d inside the function:',d)\n",
    "    \n",
    "d = 1000\n",
    "print('intialising d:--->',d)\n",
    "d+= 500\n",
    "print('modifying d--->',d)\n",
    "func_d()\n",
    "print('out side function,d changed to',d)"
   ]
  },
  {
   "cell_type": "code",
   "execution_count": 11,
   "metadata": {},
   "outputs": [
    {
     "name": "stdout",
     "output_type": "stream",
     "text": [
      "intialising d:---> 1000\n",
      "modifying d---> 1500\n",
      "global variable d: 1500\n",
      "changing the d inside the function: 2000\n",
      "out side function,d changed to 1500\n"
     ]
    }
   ],
   "source": [
    "def func_d(d):\n",
    "    print('global variable d:',d)\n",
    "    d += 500\n",
    "    print('changing the d inside the function:',d)\n",
    "    \n",
    "d = 1000\n",
    "print('intialising d:--->',d)\n",
    "d+= 500\n",
    "print('modifying d--->',d)\n",
    "func_d(d)\n",
    "print('out side function,d changed to',d)"
   ]
  },
  {
   "cell_type": "code",
   "execution_count": 12,
   "metadata": {},
   "outputs": [
    {
     "name": "stdout",
     "output_type": "stream",
     "text": [
      "Intializing d:---> 1000\n",
      "modfying d:---> 1500\n",
      "global variable d : 1500\n",
      "changing d inside the function: 2000\n",
      "outside function,d changed to : 2000\n"
     ]
    }
   ],
   "source": [
    "def func_d():\n",
    "    global d\n",
    "    print('global variable d :',d)\n",
    "    d += 500\n",
    "    print('changing d inside the function:',d)\n",
    "d = 1000\n",
    "print('Intializing d:--->',d)\n",
    "d += 500\n",
    "print('modfying d:--->',d) \n",
    "func_d()\n",
    "print('outside function,d changed to :',d)   "
   ]
  },
  {
   "cell_type": "code",
   "execution_count": 13,
   "metadata": {},
   "outputs": [
    {
     "name": "stdout",
     "output_type": "stream",
     "text": [
      "Intialising d: ---> 1000\n",
      "modifying d:---> 1500\n"
     ]
    },
    {
     "ename": "UnboundLocalError",
     "evalue": "cannot access local variable 'd' where it is not associated with a value",
     "output_type": "error",
     "traceback": [
      "\u001b[1;31m---------------------------------------------------------------------------\u001b[0m",
      "\u001b[1;31mUnboundLocalError\u001b[0m                         Traceback (most recent call last)",
      "Cell \u001b[1;32mIn[13], line 10\u001b[0m\n\u001b[0;32m      8\u001b[0m d \u001b[38;5;241m+\u001b[39m\u001b[38;5;241m=\u001b[39m \u001b[38;5;241m500\u001b[39m\n\u001b[0;32m      9\u001b[0m \u001b[38;5;28mprint\u001b[39m(\u001b[38;5;124m'\u001b[39m\u001b[38;5;124mmodifying d:--->\u001b[39m\u001b[38;5;124m'\u001b[39m,d)\n\u001b[1;32m---> 10\u001b[0m func_d()\n\u001b[0;32m     11\u001b[0m \u001b[38;5;28mprint\u001b[39m(\u001b[38;5;124m'\u001b[39m\u001b[38;5;124moutside function,d changed to\u001b[39m\u001b[38;5;124m'\u001b[39m,d)\n",
      "Cell \u001b[1;32mIn[13], line 2\u001b[0m, in \u001b[0;36mfunc_d\u001b[1;34m()\u001b[0m\n\u001b[0;32m      1\u001b[0m \u001b[38;5;28;01mdef\u001b[39;00m \u001b[38;5;21mfunc_d\u001b[39m():\n\u001b[1;32m----> 2\u001b[0m     \u001b[38;5;28mprint\u001b[39m(\u001b[38;5;124m'\u001b[39m\u001b[38;5;124mGlobal variable d:\u001b[39m\u001b[38;5;124m'\u001b[39m,d)\n\u001b[0;32m      3\u001b[0m     d \u001b[38;5;241m+\u001b[39m\u001b[38;5;241m=\u001b[39m \u001b[38;5;241m500\u001b[39m\n\u001b[0;32m      4\u001b[0m     \u001b[38;5;28mprint\u001b[39m(\u001b[38;5;124m'\u001b[39m\u001b[38;5;124mchanging the d inside the function:\u001b[39m\u001b[38;5;124m'\u001b[39m,d)\n",
      "\u001b[1;31mUnboundLocalError\u001b[0m: cannot access local variable 'd' where it is not associated with a value"
     ]
    }
   ],
   "source": [
    "def func_d():\n",
    "    print('Global variable d:',d)\n",
    "    d += 500\n",
    "    print('changing the d inside the function:',d)\n",
    "    \n",
    "d = 1000\n",
    "print('Intialising d: --->',d)\n",
    "d += 500\n",
    "print('modifying d:--->',d)\n",
    "func_d()\n",
    "print('outside function,d changed to',d)"
   ]
  },
  {
   "cell_type": "code",
   "execution_count": 14,
   "metadata": {},
   "outputs": [
    {
     "name": "stdout",
     "output_type": "stream",
     "text": [
      "Intialising d: ---> 1000\n",
      "modifying d:---> 1500\n",
      "local  variable d: 1500\n",
      "changing the d inside the function: 2000\n",
      "outside function,d changed to 1500\n"
     ]
    }
   ],
   "source": [
    "def func_d():\n",
    "    d = 1500\n",
    "    print('local  variable d:',d)\n",
    "    d += 500\n",
    "    print('changing the d inside the function:',d)\n",
    "    \n",
    "d = 1000\n",
    "print('Intialising d: --->',d)\n",
    "d += 500\n",
    "print('modifying d:--->',d)\n",
    "func_d()\n",
    "print('outside function,d changed to',d)"
   ]
  },
  {
   "cell_type": "code",
   "execution_count": 15,
   "metadata": {},
   "outputs": [],
   "source": [
    "# nested functions"
   ]
  },
  {
   "cell_type": "code",
   "execution_count": 16,
   "metadata": {},
   "outputs": [],
   "source": [
    "def func_outer():\n",
    "    # code block - outer func\n",
    "    x = 200\n",
    "    y = 300\n",
    "    def func_inner():\n",
    "        print(f'Accessing outer func variables x:{x};y:{y}')\n",
    "    \n",
    "func_outer()"
   ]
  },
  {
   "cell_type": "code",
   "execution_count": 18,
   "metadata": {},
   "outputs": [
    {
     "name": "stdout",
     "output_type": "stream",
     "text": [
      "acessing the inner function :x:200;y:300\n"
     ]
    }
   ],
   "source": [
    "def func_outer():\n",
    "    x = 200\n",
    "    y = 300\n",
    "    def func_inner():\n",
    "        print(f'acessing the inner function :x:{x};y:{y}')\n",
    "    func_inner()\n",
    "    \n",
    "func_outer()"
   ]
  },
  {
   "cell_type": "code",
   "execution_count": 24,
   "metadata": {},
   "outputs": [
    {
     "ename": "UnboundLocalError",
     "evalue": "cannot access local variable 'x' where it is not associated with a value",
     "output_type": "error",
     "traceback": [
      "\u001b[1;31m---------------------------------------------------------------------------\u001b[0m",
      "\u001b[1;31mUnboundLocalError\u001b[0m                         Traceback (most recent call last)",
      "Cell \u001b[1;32mIn[24], line 10\u001b[0m\n\u001b[0;32m      7\u001b[0m         \u001b[38;5;28mprint\u001b[39m(\u001b[38;5;124mf\u001b[39m\u001b[38;5;124m'\u001b[39m\u001b[38;5;124macessing func variables \u001b[39m\u001b[38;5;132;01m{\u001b[39;00mx\u001b[38;5;132;01m}\u001b[39;00m\u001b[38;5;124m and \u001b[39m\u001b[38;5;132;01m{\u001b[39;00my\u001b[38;5;132;01m}\u001b[39;00m\u001b[38;5;124m'\u001b[39m)\n\u001b[0;32m      8\u001b[0m     func_inner()\n\u001b[1;32m---> 10\u001b[0m func_outer()\n",
      "Cell \u001b[1;32mIn[24], line 8\u001b[0m, in \u001b[0;36mfunc_outer\u001b[1;34m()\u001b[0m\n\u001b[0;32m      6\u001b[0m     x \u001b[38;5;241m+\u001b[39m\u001b[38;5;241m=\u001b[39m \u001b[38;5;241m111\u001b[39m\n\u001b[0;32m      7\u001b[0m     \u001b[38;5;28mprint\u001b[39m(\u001b[38;5;124mf\u001b[39m\u001b[38;5;124m'\u001b[39m\u001b[38;5;124macessing func variables \u001b[39m\u001b[38;5;132;01m{\u001b[39;00mx\u001b[38;5;132;01m}\u001b[39;00m\u001b[38;5;124m and \u001b[39m\u001b[38;5;132;01m{\u001b[39;00my\u001b[38;5;132;01m}\u001b[39;00m\u001b[38;5;124m'\u001b[39m)\n\u001b[1;32m----> 8\u001b[0m func_inner()\n",
      "Cell \u001b[1;32mIn[24], line 6\u001b[0m, in \u001b[0;36mfunc_outer.<locals>.func_inner\u001b[1;34m()\u001b[0m\n\u001b[0;32m      5\u001b[0m \u001b[38;5;28;01mdef\u001b[39;00m \u001b[38;5;21mfunc_inner\u001b[39m():\n\u001b[1;32m----> 6\u001b[0m     x \u001b[38;5;241m+\u001b[39m\u001b[38;5;241m=\u001b[39m \u001b[38;5;241m111\u001b[39m\n\u001b[0;32m      7\u001b[0m     \u001b[38;5;28mprint\u001b[39m(\u001b[38;5;124mf\u001b[39m\u001b[38;5;124m'\u001b[39m\u001b[38;5;124macessing func variables \u001b[39m\u001b[38;5;132;01m{\u001b[39;00mx\u001b[38;5;132;01m}\u001b[39;00m\u001b[38;5;124m and \u001b[39m\u001b[38;5;132;01m{\u001b[39;00my\u001b[38;5;132;01m}\u001b[39;00m\u001b[38;5;124m'\u001b[39m)\n",
      "\u001b[1;31mUnboundLocalError\u001b[0m: cannot access local variable 'x' where it is not associated with a value"
     ]
    }
   ],
   "source": [
    "def func_outer():\n",
    "    # code bock - outer fun\n",
    "    x = 2\n",
    "    y = 3\n",
    "    def func_inner():\n",
    "        x += 111\n",
    "        print(f'acessing func variables {x} and {y}')\n",
    "    func_inner()\n",
    "\n",
    "func_outer()"
   ]
  },
  {
   "cell_type": "code",
   "execution_count": 28,
   "metadata": {},
   "outputs": [
    {
     "name": "stdout",
     "output_type": "stream",
     "text": [
      "inner func x:102 and y:2\n",
      "outer func--x 102\n",
      "x out side the outer func x--> 102\n"
     ]
    }
   ],
   "source": [
    "def func_outer():\n",
    "    # code block - outer func\n",
    "    global m\n",
    "    m = 100\n",
    "    n = 2\n",
    "    def func_inner():\n",
    "        global m\n",
    "        # x = 5000\n",
    "        m += 2\n",
    "        print(f'inner func x:{m} and y:{n}')\n",
    "    func_inner()\n",
    "    print('outer func--x',m)\n",
    "func_outer()\n",
    "print('x out side the outer func x-->',m)"
   ]
  },
  {
   "cell_type": "code",
   "execution_count": 29,
   "metadata": {},
   "outputs": [
    {
     "name": "stdout",
     "output_type": "stream",
     "text": [
      "50\n",
      "outer func,rohit:'504\n",
      "504\n"
     ]
    }
   ],
   "source": [
    "def outer():\n",
    "    v = 50 # local variable\n",
    "    def inner():\n",
    "        global rohit\n",
    "        rohit = 504\n",
    "        print(v) \n",
    "    inner()\n",
    "    print(f\"outer func,rohit:'{rohit}\")\n",
    "    \n",
    "outer()\n",
    "print(rohit)\n",
    "    "
   ]
  },
  {
   "cell_type": "code",
   "execution_count": 32,
   "metadata": {},
   "outputs": [
    {
     "ename": "NameError",
     "evalue": "name 'func_inner' is not defined",
     "output_type": "error",
     "traceback": [
      "\u001b[1;31m---------------------------------------------------------------------------\u001b[0m",
      "\u001b[1;31mNameError\u001b[0m                                 Traceback (most recent call last)",
      "Cell \u001b[1;32mIn[32], line 12\u001b[0m\n\u001b[0;32m     10\u001b[0m     func_inner()\n\u001b[0;32m     11\u001b[0m     \u001b[38;5;28mprint\u001b[39m(\u001b[38;5;124m'\u001b[39m\u001b[38;5;124mouter func:\u001b[39m\u001b[38;5;124m'\u001b[39m,x)\n\u001b[1;32m---> 12\u001b[0m func_inner()\n",
      "\u001b[1;31mNameError\u001b[0m: name 'func_inner' is not defined"
     ]
    }
   ],
   "source": [
    "def func_outer():\n",
    "    global x \n",
    "    x = 1000\n",
    "    y = 2000\n",
    "    def func_inner():\n",
    "        global x\n",
    "        x = 5000\n",
    "        x += 10000\n",
    "        print('Inner func:--x{x};--y{y}')\n",
    "    func_inner()\n",
    "    print('outer func:',x)\n",
    "func_inner()"
   ]
  },
  {
   "cell_type": "code",
   "execution_count": 33,
   "metadata": {},
   "outputs": [
    {
     "name": "stdout",
     "output_type": "stream",
     "text": [
      "Inner func: v1--11000\n",
      "outer func : v1--> 1000\n"
     ]
    },
    {
     "ename": "NameError",
     "evalue": "name 'v1' is not defined",
     "output_type": "error",
     "traceback": [
      "\u001b[1;31m---------------------------------------------------------------------------\u001b[0m",
      "\u001b[1;31mNameError\u001b[0m                                 Traceback (most recent call last)",
      "Cell \u001b[1;32mIn[33], line 11\u001b[0m\n\u001b[0;32m      8\u001b[0m     \u001b[38;5;28mprint\u001b[39m(\u001b[38;5;124m'\u001b[39m\u001b[38;5;124mouter func : v1-->\u001b[39m\u001b[38;5;124m'\u001b[39m,v1)\n\u001b[0;32m      9\u001b[0m func_outer()\n\u001b[1;32m---> 11\u001b[0m \u001b[38;5;28mprint\u001b[39m(\u001b[38;5;124m'\u001b[39m\u001b[38;5;124mv1 outside the outer /main function : v1 \u001b[39m\u001b[38;5;124m'\u001b[39m,v1)\n",
      "\u001b[1;31mNameError\u001b[0m: name 'v1' is not defined"
     ]
    }
   ],
   "source": [
    "def func_outer():\n",
    "    # code block - outer func\n",
    "    v1 = 1000 # local variable\n",
    "    def func_inner(v1):\n",
    "        v1 += 10000\n",
    "        print(f'Inner func: v1--{v1}')\n",
    "    func_inner(v1)\n",
    "    print('outer func : v1-->',v1)\n",
    "func_outer()\n",
    "\n",
    "print('v1 outside the outer /main function : v1 ',v1)"
   ]
  },
  {
   "cell_type": "code",
   "execution_count": 34,
   "metadata": {},
   "outputs": [],
   "source": [
    "# use of non local keywords"
   ]
  },
  {
   "cell_type": "code",
   "execution_count": 35,
   "metadata": {},
   "outputs": [
    {
     "name": "stdout",
     "output_type": "stream",
     "text": [
      "inner func --> v1:2000\n",
      "Outer func:v1--> 2000\n"
     ]
    },
    {
     "ename": "NameError",
     "evalue": "name 'v1' is not defined",
     "output_type": "error",
     "traceback": [
      "\u001b[1;31m---------------------------------------------------------------------------\u001b[0m",
      "\u001b[1;31mNameError\u001b[0m                                 Traceback (most recent call last)",
      "Cell \u001b[1;32mIn[35], line 13\u001b[0m\n\u001b[0;32m     10\u001b[0m     \u001b[38;5;28mprint\u001b[39m(\u001b[38;5;124m'\u001b[39m\u001b[38;5;124mOuter func:v1-->\u001b[39m\u001b[38;5;124m'\u001b[39m,v1)\n\u001b[0;32m     12\u001b[0m func_outer()\n\u001b[1;32m---> 13\u001b[0m \u001b[38;5;28mprint\u001b[39m(\u001b[38;5;124m'\u001b[39m\u001b[38;5;124min main code: v1 -->\u001b[39m\u001b[38;5;124m'\u001b[39m,v1)\n",
      "\u001b[1;31mNameError\u001b[0m: name 'v1' is not defined"
     ]
    }
   ],
   "source": [
    "def func_outer():\n",
    "    # code block - outer\n",
    "    v1 = 1000 # local variable to outer function\n",
    "    def func_inner():\n",
    "        nonlocal v1 # local variable to inner func\n",
    "        v1 += 1000\n",
    "        print(f'inner func --> v1:{v1}')\n",
    "    func_inner()\n",
    "    \n",
    "    print('Outer func:v1-->',v1)\n",
    "    \n",
    "func_outer()\n",
    "print('in main code: v1 -->',v1)\n",
    "    "
   ]
  },
  {
   "cell_type": "code",
   "execution_count": null,
   "metadata": {},
   "outputs": [],
   "source": []
  }
 ],
 "metadata": {
  "kernelspec": {
   "display_name": "base",
   "language": "python",
   "name": "python3"
  },
  "language_info": {
   "codemirror_mode": {
    "name": "ipython",
    "version": 3
   },
   "file_extension": ".py",
   "mimetype": "text/x-python",
   "name": "python",
   "nbconvert_exporter": "python",
   "pygments_lexer": "ipython3",
   "version": "3.11.5"
  }
 },
 "nbformat": 4,
 "nbformat_minor": 2
}
