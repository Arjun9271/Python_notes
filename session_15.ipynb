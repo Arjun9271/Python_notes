{
 "cells": [
  {
   "cell_type": "code",
   "execution_count": 1,
   "metadata": {},
   "outputs": [],
   "source": [
    "# FUnctions"
   ]
  },
  {
   "cell_type": "code",
   "execution_count": 2,
   "metadata": {},
   "outputs": [],
   "source": [
    "def condition_checker(f):\n",
    "    if f%2 == 0:\n",
    "        print('abc')\n",
    "    else:\n",
    "        print('cba')\n",
    "    "
   ]
  },
  {
   "cell_type": "code",
   "execution_count": 3,
   "metadata": {},
   "outputs": [
    {
     "name": "stdout",
     "output_type": "stream",
     "text": [
      "abc\n"
     ]
    }
   ],
   "source": [
    "condition_checker(10)"
   ]
  },
  {
   "cell_type": "code",
   "execution_count": 4,
   "metadata": {},
   "outputs": [
    {
     "name": "stdout",
     "output_type": "stream",
     "text": [
      "cba\n"
     ]
    }
   ],
   "source": [
    "condition_checker(15)"
   ]
  },
  {
   "cell_type": "code",
   "execution_count": 5,
   "metadata": {},
   "outputs": [],
   "source": [
    "def intro_to_python():\n",
    "    pass\n",
    "def teach_datatypes():\n",
    "    pass\n",
    "def teach_functions():\n",
    "    pass\n",
    "def teach_python():\n",
    "    a = intro_to_python()\n",
    "    b = teach_datatypes\n",
    "    c = teach_functions"
   ]
  },
  {
   "cell_type": "code",
   "execution_count": 8,
   "metadata": {},
   "outputs": [],
   "source": [
    "# defining a function"
   ]
  },
  {
   "cell_type": "code",
   "execution_count": 9,
   "metadata": {},
   "outputs": [],
   "source": [
    "def python_function():\n",
    "    print('learn python')\n",
    "    l = [1,2,3,4]\n",
    "    return l"
   ]
  },
  {
   "cell_type": "code",
   "execution_count": 10,
   "metadata": {},
   "outputs": [],
   "source": [
    "# calling a function"
   ]
  },
  {
   "cell_type": "code",
   "execution_count": 11,
   "metadata": {},
   "outputs": [
    {
     "name": "stdout",
     "output_type": "stream",
     "text": [
      "learn python\n",
      "[1, 2, 3, 4]\n",
      "<class 'list'>\n"
     ]
    }
   ],
   "source": [
    "func_return = python_function()\n",
    "print(func_return)\n",
    "print(type(func_return))"
   ]
  },
  {
   "cell_type": "code",
   "execution_count": 12,
   "metadata": {},
   "outputs": [],
   "source": [
    "# passing the arguments to the function"
   ]
  },
  {
   "cell_type": "code",
   "execution_count": 13,
   "metadata": {},
   "outputs": [],
   "source": [
    "def f_name(name):\n",
    "    print('Enter the Name:{}'.format(name))\n",
    "    return name*2"
   ]
  },
  {
   "cell_type": "code",
   "execution_count": 14,
   "metadata": {},
   "outputs": [
    {
     "name": "stdout",
     "output_type": "stream",
     "text": [
      "Enter the Name:Arjun\n",
      "ArjunArjun\n",
      "<class 'str'>\n"
     ]
    }
   ],
   "source": [
    "ret_val = f_name('Arjun')\n",
    "print(ret_val)\n",
    "print(type(ret_val))"
   ]
  },
  {
   "cell_type": "code",
   "execution_count": 17,
   "metadata": {},
   "outputs": [
    {
     "name": "stdout",
     "output_type": "stream",
     "text": [
      "Enter the Name:john\n"
     ]
    },
    {
     "data": {
      "text/plain": [
       "'johnjohn'"
      ]
     },
     "execution_count": 17,
     "metadata": {},
     "output_type": "execute_result"
    }
   ],
   "source": [
    "def f_name(name):\n",
    "    print(f'Enter the Name:{name}')\n",
    "    return name*2\n",
    "f_name('john')"
   ]
  },
  {
   "cell_type": "code",
   "execution_count": 18,
   "metadata": {},
   "outputs": [
    {
     "name": "stdout",
     "output_type": "stream",
     "text": [
      "Enter the Name:10\n"
     ]
    },
    {
     "data": {
      "text/plain": [
       "20"
      ]
     },
     "execution_count": 18,
     "metadata": {},
     "output_type": "execute_result"
    }
   ],
   "source": [
    "f_name(10)"
   ]
  },
  {
   "cell_type": "code",
   "execution_count": 19,
   "metadata": {},
   "outputs": [
    {
     "name": "stdout",
     "output_type": "stream",
     "text": [
      "Enter the Name:[1, 23, 4]\n"
     ]
    },
    {
     "data": {
      "text/plain": [
       "[1, 23, 4, 1, 23, 4]"
      ]
     },
     "execution_count": 19,
     "metadata": {},
     "output_type": "execute_result"
    }
   ],
   "source": [
    "f_name([1,23,4])"
   ]
  },
  {
   "cell_type": "code",
   "execution_count": 20,
   "metadata": {},
   "outputs": [
    {
     "name": "stdout",
     "output_type": "stream",
     "text": [
      "Enter the num:50\n",
      "a\n",
      "5050505050\n",
      "505\n"
     ]
    },
    {
     "ename": "TypeError",
     "evalue": "unsupported operand type(s) for -: 'int' and 'str'",
     "output_type": "error",
     "traceback": [
      "\u001b[1;31m---------------------------------------------------------------------------\u001b[0m",
      "\u001b[1;31mTypeError\u001b[0m                                 Traceback (most recent call last)",
      "Cell \u001b[1;32mIn[20], line 8\u001b[0m\n\u001b[0;32m      6\u001b[0m     \u001b[38;5;28mprint\u001b[39m(num\u001b[38;5;241m+\u001b[39m\u001b[38;5;124m'\u001b[39m\u001b[38;5;124m5\u001b[39m\u001b[38;5;124m'\u001b[39m)\n\u001b[0;32m      7\u001b[0m     \u001b[38;5;28;01mreturn\u001b[39;00m a\u001b[38;5;241m-\u001b[39mnum\n\u001b[1;32m----> 8\u001b[0m ret_val \u001b[38;5;241m=\u001b[39m sub_calculator(\u001b[38;5;124m'\u001b[39m\u001b[38;5;124m50\u001b[39m\u001b[38;5;124m'\u001b[39m)\n\u001b[0;32m      9\u001b[0m \u001b[38;5;28mprint\u001b[39m(ret_val)\n\u001b[0;32m     10\u001b[0m \u001b[38;5;28mprint\u001b[39m(\u001b[38;5;28mtype\u001b[39m(ret_val))\n",
      "Cell \u001b[1;32mIn[20], line 7\u001b[0m, in \u001b[0;36msub_calculator\u001b[1;34m(num)\u001b[0m\n\u001b[0;32m      5\u001b[0m \u001b[38;5;28mprint\u001b[39m(num\u001b[38;5;241m*\u001b[39m\u001b[38;5;241m5\u001b[39m)\n\u001b[0;32m      6\u001b[0m \u001b[38;5;28mprint\u001b[39m(num\u001b[38;5;241m+\u001b[39m\u001b[38;5;124m'\u001b[39m\u001b[38;5;124m5\u001b[39m\u001b[38;5;124m'\u001b[39m)\n\u001b[1;32m----> 7\u001b[0m \u001b[38;5;28;01mreturn\u001b[39;00m a\u001b[38;5;241m-\u001b[39mnum\n",
      "\u001b[1;31mTypeError\u001b[0m: unsupported operand type(s) for -: 'int' and 'str'"
     ]
    }
   ],
   "source": [
    "def sub_calculator(num):\n",
    "    print('Enter the num:{}'.format(num))\n",
    "    a = 20\n",
    "    print('a')\n",
    "    print(num*5)\n",
    "    print(num+'5')\n",
    "    return a-num\n",
    "ret_val = sub_calculator('50')\n",
    "print(ret_val)\n",
    "print(type(ret_val))\n",
    "\n"
   ]
  },
  {
   "cell_type": "code",
   "execution_count": 21,
   "metadata": {},
   "outputs": [
    {
     "ename": "TypeError",
     "evalue": "f_name() missing 1 required positional argument: 'name'",
     "output_type": "error",
     "traceback": [
      "\u001b[1;31m---------------------------------------------------------------------------\u001b[0m",
      "\u001b[1;31mTypeError\u001b[0m                                 Traceback (most recent call last)",
      "Cell \u001b[1;32mIn[21], line 4\u001b[0m\n\u001b[0;32m      1\u001b[0m \u001b[38;5;28;01mdef\u001b[39;00m \u001b[38;5;21mf_name\u001b[39m(name):\n\u001b[0;32m      2\u001b[0m     \u001b[38;5;28mprint\u001b[39m(\u001b[38;5;124mf\u001b[39m\u001b[38;5;124m'\u001b[39m\u001b[38;5;124mhello,this is \u001b[39m\u001b[38;5;132;01m{\u001b[39;00mname\u001b[38;5;132;01m}\u001b[39;00m\u001b[38;5;124m'\u001b[39m)\n\u001b[1;32m----> 4\u001b[0m f_name()\n",
      "\u001b[1;31mTypeError\u001b[0m: f_name() missing 1 required positional argument: 'name'"
     ]
    }
   ],
   "source": [
    "def f_name(name):\n",
    "    print(f'hello,this is {name}')\n",
    "    \n",
    "f_name()"
   ]
  },
  {
   "cell_type": "code",
   "execution_count": 25,
   "metadata": {},
   "outputs": [
    {
     "name": "stdout",
     "output_type": "stream",
     "text": [
      "Name: arjun\n",
      "Age: 26\n",
      "Occupation:ML_Engineer\n"
     ]
    }
   ],
   "source": [
    "def user_data(name,age,occupation):\n",
    "    print('Name: {}'.format(name))\n",
    "    print('Age: {}'.format(age))\n",
    "    print('Occupation:{}'.format(occupation))\n",
    "  \n",
    "    \n",
    "user_data('arjun',26,'ML_Engineer')"
   ]
  },
  {
   "cell_type": "code",
   "execution_count": 26,
   "metadata": {},
   "outputs": [
    {
     "ename": "TypeError",
     "evalue": "user_data() missing 2 required positional arguments: 'age' and 'occupation'",
     "output_type": "error",
     "traceback": [
      "\u001b[1;31m---------------------------------------------------------------------------\u001b[0m",
      "\u001b[1;31mTypeError\u001b[0m                                 Traceback (most recent call last)",
      "Cell \u001b[1;32mIn[26], line 1\u001b[0m\n\u001b[1;32m----> 1\u001b[0m user_data(\u001b[38;5;124m'\u001b[39m\u001b[38;5;124marjun\u001b[39m\u001b[38;5;124m'\u001b[39m)\n",
      "\u001b[1;31mTypeError\u001b[0m: user_data() missing 2 required positional arguments: 'age' and 'occupation'"
     ]
    }
   ],
   "source": [
    "user_data('arjun')"
   ]
  },
  {
   "cell_type": "code",
   "execution_count": 27,
   "metadata": {},
   "outputs": [
    {
     "name": "stdout",
     "output_type": "stream",
     "text": [
      "Name: 26\n",
      "Age: arjun\n",
      "Occupation:ML_Engineer\n"
     ]
    }
   ],
   "source": [
    "user_data(26,'arjun','ML_Engineer')"
   ]
  },
  {
   "cell_type": "code",
   "execution_count": 31,
   "metadata": {},
   "outputs": [
    {
     "name": "stdout",
     "output_type": "stream",
     "text": [
      "Name:ar\n",
      "Age:26\n",
      "Occupation:ML_Engineer\n"
     ]
    }
   ],
   "source": [
    "def user_data(name,age,occupation):\n",
    "    print(f'Name:{name}\\nAge:{age}\\nOccupation:{occupation}')\n",
    "  \n",
    "    \n",
    "user_data('ar',26,'ML_Engineer')"
   ]
  },
  {
   "cell_type": "code",
   "execution_count": 32,
   "metadata": {},
   "outputs": [],
   "source": [
    "# to pass any number of arguments, number of arguments is unknown"
   ]
  },
  {
   "cell_type": "code",
   "execution_count": 36,
   "metadata": {},
   "outputs": [
    {
     "name": "stdout",
     "output_type": "stream",
     "text": [
      "('a', 'b', 'c')\n",
      "<class 'tuple'>\n"
     ]
    }
   ],
   "source": [
    "def string_conc(*s):\n",
    "    print(s)\n",
    "    print(type(s))\n",
    "    \n",
    "string_conc('a','b','c')"
   ]
  },
  {
   "cell_type": "code",
   "execution_count": 37,
   "metadata": {},
   "outputs": [
    {
     "name": "stdout",
     "output_type": "stream",
     "text": [
      "('a',)\n",
      "<class 'tuple'>\n"
     ]
    }
   ],
   "source": [
    "string_conc('a')"
   ]
  },
  {
   "cell_type": "code",
   "execution_count": 38,
   "metadata": {},
   "outputs": [
    {
     "name": "stdout",
     "output_type": "stream",
     "text": [
      "()\n",
      "<class 'tuple'>\n"
     ]
    }
   ],
   "source": [
    "string_conc()"
   ]
  },
  {
   "cell_type": "code",
   "execution_count": 39,
   "metadata": {},
   "outputs": [
    {
     "name": "stdout",
     "output_type": "stream",
     "text": [
      "('',)\n",
      "<class 'tuple'>\n",
      "0\n"
     ]
    }
   ],
   "source": [
    "def string_conc(*s):\n",
    "    print(s)\n",
    "    print(type(s))\n",
    "    for i in s:\n",
    "        print(len(i))\n",
    "string_conc('')"
   ]
  },
  {
   "cell_type": "code",
   "execution_count": 40,
   "metadata": {},
   "outputs": [
    {
     "name": "stdout",
     "output_type": "stream",
     "text": [
      "('a', 'b', True, False, 12, 3, 7.0, [1, 2], {1, 2})\n",
      "<class 'tuple'>\n"
     ]
    }
   ],
   "source": [
    "def string_conc(*s):\n",
    "    print(s)\n",
    "    print(type(s))\n",
    "\n",
    "string_conc('a','b',True,False,12,3,7.0,[1,2],{1,2,2})"
   ]
  },
  {
   "cell_type": "code",
   "execution_count": 41,
   "metadata": {},
   "outputs": [],
   "source": [
    "# keyword arguments"
   ]
  },
  {
   "cell_type": "code",
   "execution_count": 42,
   "metadata": {},
   "outputs": [],
   "source": [
    "def info_data(name,age,location):\n",
    "    print('Name:{}'.format(name))\n",
    "    print('Age:{}'.format(age))\n",
    "    print('Location:{}'.format(location))"
   ]
  },
  {
   "cell_type": "code",
   "execution_count": 43,
   "metadata": {},
   "outputs": [
    {
     "name": "stdout",
     "output_type": "stream",
     "text": [
      "Name:arjun\n",
      "Age:22\n",
      "Location:arp\n"
     ]
    }
   ],
   "source": [
    "info_data(location = 'arp',name = 'arjun',age = 22)"
   ]
  },
  {
   "cell_type": "code",
   "execution_count": 46,
   "metadata": {},
   "outputs": [
    {
     "ename": "TypeError",
     "evalue": "info_data() got an unexpected keyword argument 'name_'",
     "output_type": "error",
     "traceback": [
      "\u001b[1;31m---------------------------------------------------------------------------\u001b[0m",
      "\u001b[1;31mTypeError\u001b[0m                                 Traceback (most recent call last)",
      "Cell \u001b[1;32mIn[46], line 1\u001b[0m\n\u001b[1;32m----> 1\u001b[0m info_data(location \u001b[38;5;241m=\u001b[39m \u001b[38;5;124m'\u001b[39m\u001b[38;5;124marp\u001b[39m\u001b[38;5;124m'\u001b[39m,name_ \u001b[38;5;241m=\u001b[39m \u001b[38;5;124m'\u001b[39m\u001b[38;5;124marjun\u001b[39m\u001b[38;5;124m'\u001b[39m,age \u001b[38;5;241m=\u001b[39m \u001b[38;5;241m22\u001b[39m)\n",
      "\u001b[1;31mTypeError\u001b[0m: info_data() got an unexpected keyword argument 'name_'"
     ]
    }
   ],
   "source": [
    "info_data(location = 'arp',name_ = 'arjun',age = 22)"
   ]
  },
  {
   "cell_type": "code",
   "execution_count": 47,
   "metadata": {},
   "outputs": [],
   "source": [
    "# let say we don't know how many keyword arguments are there, i.e keyword arguments is unknown"
   ]
  },
  {
   "cell_type": "code",
   "execution_count": 49,
   "metadata": {},
   "outputs": [
    {
     "name": "stdout",
     "output_type": "stream",
     "text": [
      "{'name': 'Arjun', 'Occupation': 'Data_Scientist', 'skills': ['DS', 'AI', 'ML']}\n",
      "<class 'dict'>\n"
     ]
    }
   ],
   "source": [
    "def info_data(**k): # **kwargs,**knames\n",
    "    print(k)\n",
    "    print(type(k))\n",
    "    \n",
    "info_data(name = 'Arjun',Occupation = 'Data_Scientist',skills = ['DS','AI','ML'])"
   ]
  },
  {
   "cell_type": "code",
   "execution_count": 51,
   "metadata": {},
   "outputs": [
    {
     "ename": "TypeError",
     "evalue": "info_data() takes 0 positional arguments but 2 were given",
     "output_type": "error",
     "traceback": [
      "\u001b[1;31m---------------------------------------------------------------------------\u001b[0m",
      "\u001b[1;31mTypeError\u001b[0m                                 Traceback (most recent call last)",
      "Cell \u001b[1;32mIn[51], line 1\u001b[0m\n\u001b[1;32m----> 1\u001b[0m info_data(\u001b[38;5;124m'\u001b[39m\u001b[38;5;124marjun\u001b[39m\u001b[38;5;124m'\u001b[39m,\u001b[38;5;124m'\u001b[39m\u001b[38;5;124mdata_scientist\u001b[39m\u001b[38;5;124m'\u001b[39m)\n",
      "\u001b[1;31mTypeError\u001b[0m: info_data() takes 0 positional arguments but 2 were given"
     ]
    }
   ],
   "source": [
    "info_data('arjun','data_scientist')\n",
    "\n",
    "#error: because it defined as kwargs"
   ]
  },
  {
   "cell_type": "code",
   "execution_count": 52,
   "metadata": {},
   "outputs": [],
   "source": [
    "# default parameter value"
   ]
  },
  {
   "cell_type": "code",
   "execution_count": 54,
   "metadata": {},
   "outputs": [
    {
     "name": "stdout",
     "output_type": "stream",
     "text": [
      "Im from India\n",
      "10\n",
      "Im from Russia\n",
      "10\n"
     ]
    }
   ],
   "source": [
    "def my_info(country = 'India'):\n",
    "    print('Im from {}'.format(country))\n",
    "    return 10\n",
    "print(my_info())\n",
    "\n",
    "print(my_info('Russia'))"
   ]
  },
  {
   "cell_type": "code",
   "execution_count": 56,
   "metadata": {},
   "outputs": [
    {
     "name": "stdout",
     "output_type": "stream",
     "text": [
      "Im arjun and I'm from India \n"
     ]
    }
   ],
   "source": [
    "def my_info(country = 'India',name = 'arjun'):\n",
    "    print(f'Im {name} and I\\'m from {country} ')\n",
    "    \n",
    "my_info()"
   ]
  },
  {
   "cell_type": "code",
   "execution_count": 57,
   "metadata": {},
   "outputs": [
    {
     "name": "stdout",
     "output_type": "stream",
     "text": [
      "Im russia and I'm from arj \n"
     ]
    }
   ],
   "source": [
    "my_info('arj','russia')"
   ]
  },
  {
   "cell_type": "code",
   "execution_count": 59,
   "metadata": {},
   "outputs": [
    {
     "name": "stdout",
     "output_type": "stream",
     "text": [
      "Im arj and I'm from china \n"
     ]
    }
   ],
   "source": [
    "my_info(name = 'arj',country = 'china')"
   ]
  },
  {
   "cell_type": "code",
   "execution_count": 60,
   "metadata": {},
   "outputs": [
    {
     "ename": "SyntaxError",
     "evalue": "non-default argument follows default argument (3319325389.py, line 1)",
     "output_type": "error",
     "traceback": [
      "\u001b[1;36m  Cell \u001b[1;32mIn[60], line 1\u001b[1;36m\u001b[0m\n\u001b[1;33m    def my_info(country = 'India',name):\u001b[0m\n\u001b[1;37m                                  ^\u001b[0m\n\u001b[1;31mSyntaxError\u001b[0m\u001b[1;31m:\u001b[0m non-default argument follows default argument\n"
     ]
    }
   ],
   "source": [
    "def my_info(country = 'India',name):\n",
    "    print(f'Im {name} and I\\'m from {country} ')\n",
    "    \n",
    "my_info()"
   ]
  },
  {
   "cell_type": "code",
   "execution_count": 62,
   "metadata": {},
   "outputs": [
    {
     "name": "stdout",
     "output_type": "stream",
     "text": [
      "Im arjun and I'm from India \n"
     ]
    }
   ],
   "source": [
    "def my_info(name,country = 'India'):\n",
    "    print(f'Im {name} and I\\'m from {country} ')\n",
    "    \n",
    "my_info('arjun')"
   ]
  },
  {
   "cell_type": "code",
   "execution_count": 1,
   "metadata": {},
   "outputs": [],
   "source": [
    "# Positional - Only Arguments"
   ]
  },
  {
   "cell_type": "code",
   "execution_count": 2,
   "metadata": {},
   "outputs": [],
   "source": [
    "def my_fun(a):\n",
    "    print(a)"
   ]
  },
  {
   "cell_type": "code",
   "execution_count": 3,
   "metadata": {},
   "outputs": [
    {
     "name": "stdout",
     "output_type": "stream",
     "text": [
      "3\n"
     ]
    }
   ],
   "source": [
    "my_fun(3)"
   ]
  },
  {
   "cell_type": "code",
   "execution_count": 4,
   "metadata": {},
   "outputs": [
    {
     "name": "stdout",
     "output_type": "stream",
     "text": [
      "3\n"
     ]
    }
   ],
   "source": [
    "my_fun(a = 3)"
   ]
  },
  {
   "cell_type": "code",
   "execution_count": 5,
   "metadata": {},
   "outputs": [],
   "source": [
    "# add ',/' after the positional arguments to indicate the function takes only positional\n",
    "# arguments"
   ]
  },
  {
   "cell_type": "code",
   "execution_count": 6,
   "metadata": {},
   "outputs": [],
   "source": [
    "def my_fun(a,/):\n",
    "    print(a)"
   ]
  },
  {
   "cell_type": "code",
   "execution_count": 7,
   "metadata": {},
   "outputs": [
    {
     "name": "stdout",
     "output_type": "stream",
     "text": [
      "3\n"
     ]
    }
   ],
   "source": [
    "my_fun(3)"
   ]
  },
  {
   "cell_type": "code",
   "execution_count": 9,
   "metadata": {},
   "outputs": [
    {
     "ename": "TypeError",
     "evalue": "my_fun() got some positional-only arguments passed as keyword arguments: 'a'",
     "output_type": "error",
     "traceback": [
      "\u001b[1;31m---------------------------------------------------------------------------\u001b[0m",
      "\u001b[1;31mTypeError\u001b[0m                                 Traceback (most recent call last)",
      "Cell \u001b[1;32mIn[9], line 1\u001b[0m\n\u001b[1;32m----> 1\u001b[0m my_fun(a \u001b[38;5;241m=\u001b[39m \u001b[38;5;241m3\u001b[39m)\n",
      "\u001b[1;31mTypeError\u001b[0m: my_fun() got some positional-only arguments passed as keyword arguments: 'a'"
     ]
    }
   ],
   "source": [
    "my_fun(a = 3)"
   ]
  },
  {
   "cell_type": "code",
   "execution_count": 10,
   "metadata": {},
   "outputs": [
    {
     "data": {
      "text/plain": [
       "36"
      ]
     },
     "execution_count": 10,
     "metadata": {},
     "output_type": "execute_result"
    }
   ],
   "source": [
    "# key word onlly arguments : (*,)"
   ]
  },
  {
   "cell_type": "code",
   "execution_count": 11,
   "metadata": {},
   "outputs": [],
   "source": [
    "def my_keyfunc(*,x):\n",
    "    print(x)"
   ]
  },
  {
   "cell_type": "code",
   "execution_count": 13,
   "metadata": {},
   "outputs": [
    {
     "name": "stdout",
     "output_type": "stream",
     "text": [
      "5\n"
     ]
    }
   ],
   "source": [
    "my_keyfunc(x = 5)"
   ]
  },
  {
   "cell_type": "code",
   "execution_count": 12,
   "metadata": {},
   "outputs": [
    {
     "ename": "TypeError",
     "evalue": "my_keyfunc() takes 0 positional arguments but 1 was given",
     "output_type": "error",
     "traceback": [
      "\u001b[1;31m---------------------------------------------------------------------------\u001b[0m",
      "\u001b[1;31mTypeError\u001b[0m                                 Traceback (most recent call last)",
      "Cell \u001b[1;32mIn[12], line 1\u001b[0m\n\u001b[1;32m----> 1\u001b[0m my_keyfunc(\u001b[38;5;241m4\u001b[39m)\n",
      "\u001b[1;31mTypeError\u001b[0m: my_keyfunc() takes 0 positional arguments but 1 was given"
     ]
    }
   ],
   "source": [
    "my_keyfunc(4)"
   ]
  },
  {
   "cell_type": "code",
   "execution_count": 14,
   "metadata": {},
   "outputs": [],
   "source": [
    "# combining the positional only arguments and the keyword arguments"
   ]
  },
  {
   "cell_type": "code",
   "execution_count": 15,
   "metadata": {},
   "outputs": [],
   "source": [
    "def poskeyFun(a,b,/,*,c,d):\n",
    "    print(f'values a:{a} b:{b} c:{c} d:{d}')"
   ]
  },
  {
   "cell_type": "code",
   "execution_count": 17,
   "metadata": {},
   "outputs": [
    {
     "ename": "TypeError",
     "evalue": "poskeyFun() takes 2 positional arguments but 4 were given",
     "output_type": "error",
     "traceback": [
      "\u001b[1;31m---------------------------------------------------------------------------\u001b[0m",
      "\u001b[1;31mTypeError\u001b[0m                                 Traceback (most recent call last)",
      "Cell \u001b[1;32mIn[17], line 1\u001b[0m\n\u001b[1;32m----> 1\u001b[0m poskeyFun(\u001b[38;5;241m10\u001b[39m,\u001b[38;5;241m12\u001b[39m,\u001b[38;5;241m3\u001b[39m,\u001b[38;5;241m4\u001b[39m)\n",
      "\u001b[1;31mTypeError\u001b[0m: poskeyFun() takes 2 positional arguments but 4 were given"
     ]
    }
   ],
   "source": [
    "poskeyFun(10,12,3,4)"
   ]
  },
  {
   "cell_type": "code",
   "execution_count": 16,
   "metadata": {},
   "outputs": [
    {
     "name": "stdout",
     "output_type": "stream",
     "text": [
      "values a:2 b:3 c:[2, 34, 5] d:[1, 23]\n"
     ]
    }
   ],
   "source": [
    "poskeyFun(2,3,c = [2,34,5],d = [1,23])"
   ]
  },
  {
   "cell_type": "code",
   "execution_count": 18,
   "metadata": {},
   "outputs": [
    {
     "ename": "TypeError",
     "evalue": "poskeyFun() missing 2 required positional arguments: 'a' and 'b'",
     "output_type": "error",
     "traceback": [
      "\u001b[1;31m---------------------------------------------------------------------------\u001b[0m",
      "\u001b[1;31mTypeError\u001b[0m                                 Traceback (most recent call last)",
      "Cell \u001b[1;32mIn[18], line 1\u001b[0m\n\u001b[1;32m----> 1\u001b[0m poskeyFun(c \u001b[38;5;241m=\u001b[39m\u001b[38;5;241m2\u001b[39m,d \u001b[38;5;241m=\u001b[39m \u001b[38;5;241m4\u001b[39m)\n",
      "\u001b[1;31mTypeError\u001b[0m: poskeyFun() missing 2 required positional arguments: 'a' and 'b'"
     ]
    }
   ],
   "source": [
    "poskeyFun(c =2,d = 4)"
   ]
  },
  {
   "cell_type": "code",
   "execution_count": 24,
   "metadata": {},
   "outputs": [],
   "source": [
    "# when u don't know how many need to pass\n",
    "\n",
    "def my_fun(*s,**k):\n",
    "    print('it\\'s tuple:',s)\n",
    "    print(type(s))\n",
    "    print('it\\'s dict:',k)\n",
    "    print(type(k))"
   ]
  },
  {
   "cell_type": "code",
   "execution_count": 25,
   "metadata": {},
   "outputs": [
    {
     "name": "stdout",
     "output_type": "stream",
     "text": [
      "it's tuple: (1.5, 1, 2, 3)\n",
      "<class 'tuple'>\n",
      "it's dict: {'name': 'arjun', 'domain': 'data science'}\n",
      "<class 'dict'>\n"
     ]
    }
   ],
   "source": [
    "my_fun(1.5,1,2,3,name = 'arjun',domain = 'data science')"
   ]
  },
  {
   "cell_type": "code",
   "execution_count": 26,
   "metadata": {},
   "outputs": [],
   "source": [
    "# Docstring"
   ]
  },
  {
   "cell_type": "markdown",
   "metadata": {},
   "source": [
    "-  *****A docstring is a string placed inside a function, class, or module to describe its purpose and usage. It's enclosed in triple quotes (\"\"\") and helps explain the code for better readability and documentation.*****"
   ]
  },
  {
   "cell_type": "code",
   "execution_count": 27,
   "metadata": {},
   "outputs": [],
   "source": [
    "def add(a, b):\n",
    "    \"\"\"\n",
    "    Adds two numbers and returns the result.\n",
    "    \n",
    "    Args:\n",
    "        a (int or float): The first number.\n",
    "        b (int or float): The second number.\n",
    "    \n",
    "    Returns:\n",
    "        int or float: The sum of a and b.\n",
    "    \"\"\"\n",
    "    return a + b\n"
   ]
  },
  {
   "cell_type": "code",
   "execution_count": 28,
   "metadata": {},
   "outputs": [
    {
     "name": "stdout",
     "output_type": "stream",
     "text": [
      "Help on function add in module __main__:\n",
      "\n",
      "add(a, b)\n",
      "    Adds two numbers and returns the result.\n",
      "    \n",
      "    Args:\n",
      "        a (int or float): The first number.\n",
      "        b (int or float): The second number.\n",
      "    \n",
      "    Returns:\n",
      "        int or float: The sum of a and b.\n",
      "\n"
     ]
    }
   ],
   "source": [
    "help(add)"
   ]
  },
  {
   "cell_type": "code",
   "execution_count": 29,
   "metadata": {},
   "outputs": [],
   "source": [
    "# passing variables to the function"
   ]
  },
  {
   "cell_type": "code",
   "execution_count": 30,
   "metadata": {},
   "outputs": [
    {
     "name": "stdout",
     "output_type": "stream",
     "text": [
      "100\n",
      "id of b: 140705683840904\n",
      "Inside function\n",
      "100\n",
      "<class 'int'>\n",
      "140705683840904\n",
      "Returning From FUnction\n",
      "100\n",
      "id of c: 140705683840904\n"
     ]
    }
   ],
   "source": [
    "def my_fun(a): #a = b\n",
    "    print('Inside function')\n",
    "    print(a)\n",
    "    print(type(a))\n",
    "    print(id(a))\n",
    "    print('Returning From FUnction')\n",
    "    return a\n",
    "b = 100\n",
    "print(b)\n",
    "print('id of b:',id(b))\n",
    "c = my_fun(b) #c = a\n",
    "print(c)\n",
    "print('id of c:',id(c))"
   ]
  },
  {
   "cell_type": "code",
   "execution_count": 33,
   "metadata": {},
   "outputs": [
    {
     "name": "stdout",
     "output_type": "stream",
     "text": [
      "b:100:140705683840904\n",
      "Inside Function\n",
      "a:100:140705683840904\n",
      "a:220:140705683844744\n",
      "Returning From Function\n",
      "c:220:140705683844744\n",
      "b:100:140705683840904\n"
     ]
    }
   ],
   "source": [
    "def myFun(a): #a = b\n",
    "    print('Inside Function')\n",
    "    print(f'a:{a}:{id(a)}')\n",
    "    a += 120\n",
    "    print(f'a:{a}:{id(a)}')\n",
    "    print('Returning From Function')\n",
    "    return a\n",
    "b = 100\n",
    "print(f'b:{b}:{id(b)}')\n",
    "c = myFun(b)\n",
    "print(f'c:{c}:{id(c)}')\n",
    "print(f'b:{b}:{id(b)}')"
   ]
  },
  {
   "cell_type": "code",
   "execution_count": null,
   "metadata": {},
   "outputs": [],
   "source": []
  },
  {
   "cell_type": "code",
   "execution_count": 43,
   "metadata": {},
   "outputs": [
    {
     "name": "stdout",
     "output_type": "stream",
     "text": [
      "220\n",
      "id : outside fun: 140705683844744\n",
      "before variable and inside fun: 220\n",
      "inside fun:id: 140705683844744\n"
     ]
    },
    {
     "data": {
      "text/plain": [
       "100"
      ]
     },
     "execution_count": 43,
     "metadata": {},
     "output_type": "execute_result"
    }
   ],
   "source": [
    "def my_fun(a): # b = a\n",
    "    print('before variable and inside fun:',a)\n",
    "    print('inside fun:id:',id(a))\n",
    "    a = 100\n",
    "    return a\n",
    "b = 220\n",
    "print(b)\n",
    "print('id : outside fun:',id(b))\n",
    "my_fun(b)"
   ]
  },
  {
   "cell_type": "code",
   "execution_count": 39,
   "metadata": {},
   "outputs": [
    {
     "name": "stdout",
     "output_type": "stream",
     "text": [
      "before calling function:200\n",
      "Before varibale update in Function :200\n",
      "Inside function:100\n"
     ]
    },
    {
     "ename": "NameError",
     "evalue": "name '_c' is not defined",
     "output_type": "error",
     "traceback": [
      "\u001b[1;31m---------------------------------------------------------------------------\u001b[0m",
      "\u001b[1;31mNameError\u001b[0m                                 Traceback (most recent call last)",
      "Cell \u001b[1;32mIn[39], line 8\u001b[0m\n\u001b[0;32m      6\u001b[0m \u001b[38;5;28mprint\u001b[39m(\u001b[38;5;124mf\u001b[39m\u001b[38;5;124m'\u001b[39m\u001b[38;5;124mbefore calling function:\u001b[39m\u001b[38;5;132;01m{\u001b[39;00mb\u001b[38;5;132;01m}\u001b[39;00m\u001b[38;5;124m'\u001b[39m)\n\u001b[0;32m      7\u001b[0m my_fun(b)\n\u001b[1;32m----> 8\u001b[0m \u001b[38;5;28mprint\u001b[39m(\u001b[38;5;124mf\u001b[39m\u001b[38;5;124m'\u001b[39m\u001b[38;5;124mafter calling fun:which is outside fun-->\u001b[39m\u001b[38;5;132;01m{\u001b[39;00m_c\u001b[38;5;132;01m}\u001b[39;00m\u001b[38;5;124m'\u001b[39m)\n",
      "\u001b[1;31mNameError\u001b[0m: name '_c' is not defined"
     ]
    }
   ],
   "source": [
    "def my_fun(_c):\n",
    "    print(f'Before varibale update in Function :{b}')\n",
    "    _c = 100\n",
    "    print(f'Inside function:{_c}')\n",
    "b = 200\n",
    "print(f'before calling function:{b}')\n",
    "my_fun(b)\n",
    "print(f'after calling fun:which is outside fun-->{_c}')\n",
    "\n"
   ]
  },
  {
   "cell_type": "code",
   "execution_count": 50,
   "metadata": {},
   "outputs": [
    {
     "name": "stdout",
     "output_type": "stream",
     "text": [
      "true\n"
     ]
    }
   ],
   "source": [
    "a = 1729\n",
    "b = 1729\n",
    "\n",
    "if a == b:\n",
    "    print('true')\n",
    "    "
   ]
  },
  {
   "cell_type": "code",
   "execution_count": 51,
   "metadata": {},
   "outputs": [
    {
     "data": {
      "text/plain": [
       "False"
      ]
     },
     "execution_count": 51,
     "metadata": {},
     "output_type": "execute_result"
    }
   ],
   "source": [
    "a is b"
   ]
  },
  {
   "cell_type": "code",
   "execution_count": 56,
   "metadata": {},
   "outputs": [
    {
     "name": "stdout",
     "output_type": "stream",
     "text": [
      "1388042134160\n",
      "1388042134160\n",
      "true\n"
     ]
    }
   ],
   "source": [
    "def my_fun():\n",
    "    \"\"\" inside the functions \n",
    "    memory id matches \"\"\"\n",
    "    a = 1729\n",
    "    b = 1729\n",
    "    print(id(a),id(b),sep = '\\n')\n",
    "    if a is b:\n",
    "        print('true')\n",
    "my_fun()\n",
    "    "
   ]
  },
  {
   "cell_type": "code",
   "execution_count": 57,
   "metadata": {},
   "outputs": [
    {
     "name": "stdout",
     "output_type": "stream",
     "text": [
      "(10, 20, 30)\n",
      "(100, 20, 30)\n"
     ]
    }
   ],
   "source": [
    "def func(a):\n",
    "    a = list(a)\n",
    "    a[0] = 100\n",
    "    return tuple(a)\n",
    "b = (10,20,30)\n",
    "c = func(b)\n",
    "print(b)\n",
    "print(c)"
   ]
  },
  {
   "cell_type": "code",
   "execution_count": 59,
   "metadata": {},
   "outputs": [
    {
     "name": "stdout",
     "output_type": "stream",
     "text": [
      "1388043805568\n",
      "1388043805568\n",
      "[100, 2, 3]\n",
      "[100, 2, 3]\n"
     ]
    }
   ],
   "source": [
    "def my_fun():\n",
    "    a = [1,2,3]\n",
    "    b = a\n",
    "    print(id(a))\n",
    "    print(id(b))\n",
    "    b[0] = 100\n",
    "    print(b)\n",
    "    print(a)\n",
    "    \n",
    "my_fun()"
   ]
  },
  {
   "cell_type": "code",
   "execution_count": null,
   "metadata": {},
   "outputs": [],
   "source": []
  },
  {
   "cell_type": "code",
   "execution_count": null,
   "metadata": {},
   "outputs": [],
   "source": []
  },
  {
   "cell_type": "code",
   "execution_count": null,
   "metadata": {},
   "outputs": [],
   "source": []
  }
 ],
 "metadata": {
  "kernelspec": {
   "display_name": "base",
   "language": "python",
   "name": "python3"
  },
  "language_info": {
   "codemirror_mode": {
    "name": "ipython",
    "version": 3
   },
   "file_extension": ".py",
   "mimetype": "text/x-python",
   "name": "python",
   "nbconvert_exporter": "python",
   "pygments_lexer": "ipython3",
   "version": "3.11.5"
  }
 },
 "nbformat": 4,
 "nbformat_minor": 2
}
