{
 "cells": [
  {
   "cell_type": "code",
   "execution_count": 5,
   "metadata": {},
   "outputs": [
    {
     "name": "stdout",
     "output_type": "stream",
     "text": [
      "---- 0 outside the loop ---\n",
      "inside the loop 0\n",
      "inside the loop 1\n",
      "inside the loop 2\n",
      "-----it is outside exiting :0--------\n",
      "---- 1 outside the loop ---\n",
      "inside the loop 0\n",
      "inside the loop 1\n",
      "inside the loop 2\n",
      "-----it is outside exiting :1--------\n",
      "---- 2 outside the loop ---\n",
      "inside the loop 0\n",
      "inside the loop 1\n",
      "inside the loop 2\n",
      "-----it is outside exiting :2--------\n",
      "---- 3 outside the loop ---\n",
      "inside the loop 0\n",
      "inside the loop 1\n",
      "inside the loop 2\n",
      "-----it is outside exiting :3--------\n"
     ]
    }
   ],
   "source": [
    "for i in range(4):\n",
    "    print('----',i,'outside the loop','---')\n",
    "    for j in range(3):\n",
    "        print('inside the loop',j)\n",
    "    print(f'-----it is outside exiting :{i}--------')"
   ]
  },
  {
   "cell_type": "code",
   "execution_count": 16,
   "metadata": {},
   "outputs": [
    {
     "name": "stdout",
     "output_type": "stream",
     "text": [
      "0 0\n",
      "0 1\n",
      "0 2\n",
      "1 0\n",
      "1 1\n",
      "1 2\n",
      "2 0\n",
      "2 1\n",
      "2 2\n",
      "3 0\n",
      "3 1\n",
      "3 2\n"
     ]
    }
   ],
   "source": [
    "matrix = [[1,2,3],[4,5,6],[7,8,9],[10,12,13]]\n",
    "r = len(matrix)\n",
    "c = len(matrix[0])\n",
    "for i in range(r):\n",
    "    for j in range(c):\n",
    "        print(i,j)"
   ]
  },
  {
   "cell_type": "code",
   "execution_count": 17,
   "metadata": {},
   "outputs": [
    {
     "name": "stdout",
     "output_type": "stream",
     "text": [
      "1\n",
      "2\n",
      "3\n",
      "4\n",
      "5\n",
      "6\n",
      "7\n",
      "8\n",
      "9\n",
      "10\n",
      "12\n",
      "13\n"
     ]
    }
   ],
   "source": [
    "for i in range(r):\n",
    "    for j in range(c):\n",
    "        print(matrix[i][j])"
   ]
  },
  {
   "cell_type": "code",
   "execution_count": null,
   "metadata": {},
   "outputs": [],
   "source": []
  },
  {
   "cell_type": "code",
   "execution_count": null,
   "metadata": {},
   "outputs": [],
   "source": []
  },
  {
   "cell_type": "code",
   "execution_count": null,
   "metadata": {},
   "outputs": [],
   "source": []
  },
  {
   "cell_type": "code",
   "execution_count": null,
   "metadata": {},
   "outputs": [],
   "source": []
  },
  {
   "cell_type": "code",
   "execution_count": null,
   "metadata": {},
   "outputs": [],
   "source": []
  }
 ],
 "metadata": {
  "kernelspec": {
   "display_name": "base",
   "language": "python",
   "name": "python3"
  },
  "language_info": {
   "codemirror_mode": {
    "name": "ipython",
    "version": 3
   },
   "file_extension": ".py",
   "mimetype": "text/x-python",
   "name": "python",
   "nbconvert_exporter": "python",
   "pygments_lexer": "ipython3",
   "version": "3.11.5"
  }
 },
 "nbformat": 4,
 "nbformat_minor": 2
}
