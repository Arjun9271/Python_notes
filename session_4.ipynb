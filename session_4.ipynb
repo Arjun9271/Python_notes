{
 "cells": [
  {
   "cell_type": "markdown",
   "metadata": {},
   "source": [
    "### **Typecating**\n",
    "### **Operators**"
   ]
  },
  {
   "cell_type": "markdown",
   "metadata": {},
   "source": [
    "- **type_casting** : conversion of one data type to another data type\n",
    "- **2 types** :\n",
    "-  ***implicit type casting*** : done by compiler automatically\n",
    "- ***explicit type casting*** : done by programmer manually\n",
    "\n",
    "----------------------------------------------------------------\n",
    "\n",
    "- **operators** are symbols that  are used to perform operations between operands (or) variables and values\n",
    "\n",
    "- <small>**Arithmetic Operator**</small>\n",
    "- <small>**Assignment Operator**</small>\n",
    "- <small>**Bitwise Operator**</small>\n",
    "- <small>**Comparison Operator**</small>\n",
    "- <small>**Logical Operator**</small>\n",
    "- <small>**Membership Operator**</small>\n",
    "- <small>**Identity Operator**</small>\n",
    "\n",
    "\n",
    "\n",
    "\n",
    "\n",
    "\n"
   ]
  },
  {
   "cell_type": "code",
   "execution_count": 16,
   "metadata": {},
   "outputs": [
    {
     "name": "stdout",
     "output_type": "stream",
     "text": [
      "<class 'int'>\n",
      "<class 'int'>\n",
      "2.0\n",
      "<class 'float'>\n"
     ]
    }
   ],
   "source": [
    "a = 6\n",
    "print(type(a))\n",
    "b = 3\n",
    "print(type(b))\n",
    "c = a/b\n",
    "print(c)\n",
    "\n",
    "print(type(c))\n"
   ]
  },
  {
   "cell_type": "code",
   "execution_count": 10,
   "metadata": {},
   "outputs": [
    {
     "name": "stdout",
     "output_type": "stream",
     "text": [
      "3 <class 'int'>\n",
      "1 <class 'int'>\n",
      "5 <class 'int'>\n"
     ]
    },
    {
     "ename": "ValueError",
     "evalue": "invalid literal for int() with base 10: '3.3'",
     "output_type": "error",
     "traceback": [
      "\u001b[1;31m---------------------------------------------------------------------------\u001b[0m",
      "\u001b[1;31mValueError\u001b[0m                                Traceback (most recent call last)",
      "Cell \u001b[1;32mIn[10], line 12\u001b[0m\n\u001b[0;32m      8\u001b[0m a_5 \u001b[38;5;241m=\u001b[39m  \u001b[38;5;28mint\u001b[39m(\u001b[38;5;241m5.5\u001b[39m)\n\u001b[0;32m      9\u001b[0m \u001b[38;5;28mprint\u001b[39m(a_5,\u001b[38;5;28mtype\u001b[39m(a_5))\n\u001b[1;32m---> 12\u001b[0m a_3 \u001b[38;5;241m=\u001b[39m \u001b[38;5;28mint\u001b[39m(\u001b[38;5;124m'\u001b[39m\u001b[38;5;124m3.3\u001b[39m\u001b[38;5;124m'\u001b[39m)\n\u001b[0;32m     14\u001b[0m \u001b[38;5;28mprint\u001b[39m(\u001b[38;5;28mtype\u001b[39m(a_3))\n\u001b[0;32m     15\u001b[0m a_4 \u001b[38;5;241m=\u001b[39m \u001b[38;5;28mint\u001b[39m(\u001b[38;5;124m'\u001b[39m\u001b[38;5;124mhel\u001b[39m\u001b[38;5;124m'\u001b[39m)\n",
      "\u001b[1;31mValueError\u001b[0m: invalid literal for int() with base 10: '3.3'"
     ]
    }
   ],
   "source": [
    "a_2 = int('3') \n",
    "\n",
    "print(a_2,type(a_2))\n",
    "\n",
    "a_1 = int(1)\n",
    "print(a_1,type(a_1))\n",
    "\n",
    "a_5 =  int(5.5)\n",
    "print(a_5,type(a_5))\n",
    "\n",
    "\n",
    "a_3 = int('3.3')\n",
    "\n",
    "print(type(a_3))\n",
    "a_4 = int('hel')\n",
    "\n",
    "print(type(a_4))\n",
    "\n"
   ]
  },
  {
   "cell_type": "code",
   "execution_count": 12,
   "metadata": {},
   "outputs": [
    {
     "name": "stdout",
     "output_type": "stream",
     "text": [
      "3.0 <class 'float'>\n",
      "1.0 <class 'float'>\n",
      "5.5 <class 'float'>\n",
      "3.3 <class 'float'>\n"
     ]
    },
    {
     "ename": "ValueError",
     "evalue": "could not convert string to float: 'hel'",
     "output_type": "error",
     "traceback": [
      "\u001b[1;31m---------------------------------------------------------------------------\u001b[0m",
      "\u001b[1;31mValueError\u001b[0m                                Traceback (most recent call last)",
      "Cell \u001b[1;32mIn[12], line 16\u001b[0m\n\u001b[0;32m     12\u001b[0m a_3 \u001b[38;5;241m=\u001b[39m \u001b[38;5;28mfloat\u001b[39m(\u001b[38;5;124m'\u001b[39m\u001b[38;5;124m3.3\u001b[39m\u001b[38;5;124m'\u001b[39m)\n\u001b[0;32m     14\u001b[0m \u001b[38;5;28mprint\u001b[39m(a_3,\u001b[38;5;28mtype\u001b[39m(a_3))\n\u001b[1;32m---> 16\u001b[0m a_4 \u001b[38;5;241m=\u001b[39m \u001b[38;5;28mfloat\u001b[39m(\u001b[38;5;124m'\u001b[39m\u001b[38;5;124mhel\u001b[39m\u001b[38;5;124m'\u001b[39m)\n\u001b[0;32m     18\u001b[0m \u001b[38;5;28mprint\u001b[39m(a_4,\u001b[38;5;28mtype\u001b[39m(a_4))\n",
      "\u001b[1;31mValueError\u001b[0m: could not convert string to float: 'hel'"
     ]
    }
   ],
   "source": [
    "a_2 = float('3') \n",
    "\n",
    "print(a_2,type(a_2))\n",
    "\n",
    "a_1 = float(1)\n",
    "print(a_1,type(a_1))\n",
    "\n",
    "a_5 =  float(5.5)\n",
    "print(a_5,type(a_5))\n",
    "\n",
    "\n",
    "a_3 = float('3.3')\n",
    "\n",
    "print(a_3,type(a_3))\n",
    "\n",
    "a_4 = float('hel')\n",
    "\n",
    "print(a_4,type(a_4))\n",
    "\n"
   ]
  },
  {
   "cell_type": "code",
   "execution_count": 14,
   "metadata": {},
   "outputs": [
    {
     "name": "stdout",
     "output_type": "stream",
     "text": [
      "1 <class 'str'>\n",
      "3.0 <class 'str'>\n",
      "he <class 'str'>\n"
     ]
    }
   ],
   "source": [
    "a_ = str(1) \n",
    "print(a_,type(a_))\n",
    "\n",
    "b_ = str(3.0)\n",
    "print(b_,type (b_))\n",
    "\n",
    "\n",
    "c_ = str('he')\n",
    "print(c_,type(c_))"
   ]
  },
  {
   "cell_type": "code",
   "execution_count": 1,
   "metadata": {},
   "outputs": [
    {
     "name": "stdout",
     "output_type": "stream",
     "text": [
      "+ 12\n",
      "- 8\n",
      "* 20\n",
      "/ 5.0\n",
      "// 5\n",
      "** 100\n"
     ]
    }
   ],
   "source": [
    "# Arithematic Operator\n",
    "\n",
    "a = 10\n",
    "b = 2\n",
    "print('+',a+b)\n",
    "print('-',a-b)\n",
    "print('*',a*b)\n",
    "print('/',a/b)\n",
    "print('//',a//b)\n",
    "print('**',a**b)"
   ]
  },
  {
   "cell_type": "code",
   "execution_count": 2,
   "metadata": {},
   "outputs": [
    {
     "name": "stdout",
     "output_type": "stream",
     "text": [
      "== False\n",
      ">= True\n",
      "<= False\n",
      "> True\n",
      "< False\n",
      "!= True\n"
     ]
    }
   ],
   "source": [
    "# comparision Operators\n",
    "\n",
    "a = 10\n",
    "b = 2\n",
    "print('==',a==b)\n",
    "print('>=',a>=b)\n",
    "print('<=',a<=b)\n",
    "print('>',a>b)\n",
    "print('<',a<b)\n",
    "print('!=',a!=b)"
   ]
  },
  {
   "cell_type": "code",
   "execution_count": 6,
   "metadata": {},
   "outputs": [
    {
     "name": "stdout",
     "output_type": "stream",
     "text": [
      "True\n",
      "False\n",
      "False\n"
     ]
    }
   ],
   "source": [
    "# membership operators\n",
    "\n",
    "# whether the member is present in given data structure or not\n",
    "\n",
    "mem = [1,2,3,4,5]\n",
    "\n",
    "print(1 in mem)\n",
    "print(7 in mem)\n",
    "print(2 not in mem)"
   ]
  },
  {
   "cell_type": "code",
   "execution_count": 7,
   "metadata": {},
   "outputs": [
    {
     "name": "stdout",
     "output_type": "stream",
     "text": [
      "True\n",
      "False\n"
     ]
    }
   ],
   "source": [
    "# identity operators\n",
    "\n",
    "# it will check the memory address of the variables; whether they eqaul or not\n",
    "\n",
    "a = 100\n",
    "b = 100\n",
    "c = 1000\n",
    "d = 1000\n",
    "\n",
    "print(a is b)\n",
    "print(c is d)\n"
   ]
  },
  {
   "cell_type": "code",
   "execution_count": 10,
   "metadata": {},
   "outputs": [
    {
     "name": "stdout",
     "output_type": "stream",
     "text": [
      "and\n",
      "or\n",
      "not\n"
     ]
    }
   ],
   "source": [
    "# Logical Operators\n",
    "\n",
    "print('and','or','not',sep = '\\n')"
   ]
  },
  {
   "cell_type": "code",
   "execution_count": 19,
   "metadata": {},
   "outputs": [
    {
     "name": "stdout",
     "output_type": "stream",
     "text": [
      "False\n",
      "True\n",
      "True\n",
      "True\n",
      "False\n",
      "True\n",
      "False\n"
     ]
    }
   ],
   "source": [
    "a = 10\n",
    "b = 5\n",
    "\n",
    "print(a < b and b<a)\n",
    "print(a >b and b<a)\n",
    "print(a == b or a != b)\n",
    "print(a+b == 15 or a/b == 2.0)\n",
    "print(not a)\n",
    "print(not False)\n",
    "print(not True)"
   ]
  },
  {
   "cell_type": "code",
   "execution_count": 20,
   "metadata": {},
   "outputs": [
    {
     "name": "stdout",
     "output_type": "stream",
     "text": [
      "12\n"
     ]
    }
   ],
   "source": [
    "print( 3 and 5 and 12)"
   ]
  },
  {
   "cell_type": "code",
   "execution_count": 22,
   "metadata": {},
   "outputs": [
    {
     "name": "stdout",
     "output_type": "stream",
     "text": [
      "0\n"
     ]
    }
   ],
   "source": [
    "print( 3 and 5 and 0)"
   ]
  },
  {
   "cell_type": "code",
   "execution_count": 23,
   "metadata": {},
   "outputs": [
    {
     "name": "stdout",
     "output_type": "stream",
     "text": [
      "0\n"
     ]
    }
   ],
   "source": [
    "print( 0 and 3 and 2)"
   ]
  },
  {
   "cell_type": "code",
   "execution_count": 24,
   "metadata": {},
   "outputs": [
    {
     "name": "stdout",
     "output_type": "stream",
     "text": [
      "0\n"
     ]
    }
   ],
   "source": [
    "print(3 and 0 and 2)"
   ]
  },
  {
   "cell_type": "code",
   "execution_count": 25,
   "metadata": {},
   "outputs": [
    {
     "name": "stdout",
     "output_type": "stream",
     "text": [
      "3\n"
     ]
    }
   ],
   "source": [
    "print(3 or 2 or 0)"
   ]
  },
  {
   "cell_type": "code",
   "execution_count": null,
   "metadata": {},
   "outputs": [],
   "source": []
  },
  {
   "cell_type": "code",
   "execution_count": null,
   "metadata": {},
   "outputs": [],
   "source": []
  }
 ],
 "metadata": {
  "kernelspec": {
   "display_name": "base",
   "language": "python",
   "name": "python3"
  },
  "language_info": {
   "codemirror_mode": {
    "name": "ipython",
    "version": 3
   },
   "file_extension": ".py",
   "mimetype": "text/x-python",
   "name": "python",
   "nbconvert_exporter": "python",
   "pygments_lexer": "ipython3",
   "version": "3.11.5"
  }
 },
 "nbformat": 4,
 "nbformat_minor": 2
}
