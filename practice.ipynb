{
 "cells": [
  {
   "cell_type": "code",
   "execution_count": null,
   "metadata": {},
   "outputs": [],
   "source": [
    "# problem solving"
   ]
  },
  {
   "cell_type": "code",
   "execution_count": 8,
   "metadata": {},
   "outputs": [
    {
     "name": "stdout",
     "output_type": "stream",
     "text": [
      "factorial is 24\n"
     ]
    }
   ],
   "source": [
    "# factorial\n",
    "\n",
    "num = int(input())\n",
    "\n",
    "product = 1\n",
    "while num > 1:\n",
    "    product *= num\n",
    "    num -= 1\n",
    "print(f'factorial is {product}')"
   ]
  },
  {
   "cell_type": "code",
   "execution_count": 6,
   "metadata": {},
   "outputs": [
    {
     "name": "stdout",
     "output_type": "stream",
     "text": [
      "factoria is :24\n"
     ]
    }
   ],
   "source": [
    "# factorial\n",
    "n = int(input('enter the value:'))\n",
    "fact = 1\n",
    "for i in range(2,n+1):\n",
    "    fact *= i\n",
    "print(f'factoria is :{fact}')\n",
    "    "
   ]
  },
  {
   "cell_type": "code",
   "execution_count": 10,
   "metadata": {},
   "outputs": [
    {
     "data": {
      "text/plain": [
       "153"
      ]
     },
     "execution_count": 10,
     "metadata": {},
     "output_type": "execute_result"
    }
   ],
   "source": [
    "# armstrong number\n",
    "\n",
    "1**3+5**3+3**3"
   ]
  },
  {
   "cell_type": "code",
   "execution_count": 14,
   "metadata": {},
   "outputs": [
    {
     "name": "stdout",
     "output_type": "stream",
     "text": [
      "yes\n"
     ]
    }
   ],
   "source": [
    "num = int(input('enter the value:'))\n",
    "sum = 0\n",
    "temp = num\n",
    "while num > 0:\n",
    "    digit = num %10\n",
    "    sum += digit**3\n",
    "    num //= 10\n",
    "print('yes' if sum == temp else 'no')\n"
   ]
  },
  {
   "cell_type": "code",
   "execution_count": 19,
   "metadata": {},
   "outputs": [
    {
     "name": "stdout",
     "output_type": "stream",
     "text": [
      "[5, 4, 3]\n"
     ]
    }
   ],
   "source": [
    "p = [1,2,3,4,5]\n",
    "k = []\n",
    "for i in p:\n",
    "    item = p.pop()\n",
    "    k.append(item)\n",
    "print(k)"
   ]
  },
  {
   "cell_type": "code",
   "execution_count": 1,
   "metadata": {},
   "outputs": [
    {
     "name": "stdout",
     "output_type": "stream",
     "text": [
      "[9, 2, 7, 1]\n"
     ]
    }
   ],
   "source": [
    "# reversing the list\n",
    "\n",
    "a = [1,7,2,9]\n",
    "b = list()\n",
    "while a:\n",
    "    b.append(a.pop())\n",
    "print(b)"
   ]
  },
  {
   "cell_type": "code",
   "execution_count": 7,
   "metadata": {},
   "outputs": [
    {
     "name": "stdout",
     "output_type": "stream",
     "text": [
      "[1, 0, 0, 2, 0, 1, 7, 1]\n"
     ]
    }
   ],
   "source": [
    "# approach - 2\n",
    "\n",
    "a = [1,7,1,0,2,0,0,1]\n",
    "b = []\n",
    "p = len(a)-1\n",
    "while p  >= 0:\n",
    "    b += [a[p]]\n",
    "    p -= 1\n",
    "print(b)\n"
   ]
  },
  {
   "cell_type": "code",
   "execution_count": 22,
   "metadata": {},
   "outputs": [
    {
     "name": "stdout",
     "output_type": "stream",
     "text": [
      "not prime\n"
     ]
    }
   ],
   "source": [
    "# prime numbers\n",
    "\n",
    "num = int(input('enter the value:'))\n",
    "p = list()\n",
    "for i in range(2,num):\n",
    "    if num % i == 0:\n",
    "        p.append(i)\n",
    "if len(p) == 0:\n",
    "    print('prime')\n",
    "else:\n",
    "    print('not prime')"
   ]
  },
  {
   "cell_type": "code",
   "execution_count": 27,
   "metadata": {},
   "outputs": [
    {
     "name": "stdout",
     "output_type": "stream",
     "text": [
      "-10\n"
     ]
    }
   ],
   "source": [
    "# minimum value\n",
    "lst = [1,2,3,4,5,-5,-10]\n",
    "minimun_val = lst[0]\n",
    "for i in lst:\n",
    "    if i < minimun_val:\n",
    "        minimun_val = i\n",
    "print(minimun_val)\n",
    "    \n",
    "        "
   ]
  },
  {
   "cell_type": "code",
   "execution_count": 30,
   "metadata": {},
   "outputs": [
    {
     "name": "stdout",
     "output_type": "stream",
     "text": [
      "5432\n"
     ]
    }
   ],
   "source": [
    "# maximum value\n",
    "\n",
    "lst_1 = [10,12,35,78,100,5432]\n",
    "max_val = lst_1[0]\n",
    "for i in lst_1:\n",
    "    if i > max_val:\n",
    "        max_val = i\n",
    "print(max_val)"
   ]
  },
  {
   "cell_type": "code",
   "execution_count": 21,
   "metadata": {},
   "outputs": [
    {
     "name": "stdout",
     "output_type": "stream",
     "text": [
      "11\n"
     ]
    }
   ],
   "source": [
    "# program for max vale abs(lst[i] - lst[j])\n",
    "\n",
    "lst = [-1,0,5,7,10]\n",
    "p = lst[0]\n",
    "\n",
    "for i in range(len(lst)):\n",
    "    for j in range(len(lst)):\n",
    "        abs_diff = abs(lst[i] - lst[j])\n",
    "        if abs_diff > p:\n",
    "            p = abs_diff\n",
    "print(p)"
   ]
  },
  {
   "cell_type": "code",
   "execution_count": 24,
   "metadata": {},
   "outputs": [
    {
     "name": "stdout",
     "output_type": "stream",
     "text": [
      "11\n"
     ]
    }
   ],
   "source": [
    "# updated one\n",
    "\n",
    "new_list = [-1,0,5,7,10]\n",
    "\n",
    "min_val = new_list[0]\n",
    "max_val = new_list[0]\n",
    "\n",
    "for i in range(1,len(lst)):\n",
    "    if new_list[i] < min_val:\n",
    "        min_val = new_list[i]\n",
    "    if new_list[i] > max_val:\n",
    "        max_val = new_list[i]\n",
    "print(abs(max_val - min_val))\n",
    "        \n",
    "    "
   ]
  },
  {
   "cell_type": "code",
   "execution_count": 2,
   "metadata": {},
   "outputs": [
    {
     "name": "stdout",
     "output_type": "stream",
     "text": [
      "[1, 2, 3, 3]\n"
     ]
    }
   ],
   "source": [
    "# list methods\n",
    "\n",
    "n = int(input())\n",
    "\n",
    "lst_1 = list()\n",
    "\n",
    "for i in range(n):\n",
    "    lst_1.append(int(input('Enter the value:')))\n",
    "print(lst_1)"
   ]
  },
  {
   "cell_type": "code",
   "execution_count": 3,
   "metadata": {},
   "outputs": [
    {
     "name": "stdout",
     "output_type": "stream",
     "text": [
      "1854234179904\n",
      "[1, 2, 3, 3]\n",
      "1854234179904\n",
      "140704527510256\n",
      "None\n",
      "<class 'NoneType'>\n"
     ]
    }
   ],
   "source": [
    "print(id(lst_1))\n",
    "print(lst_1)\n",
    "lst_1.append('hello')\n",
    "print(id(lst_1))\n",
    "new_lst = lst_1.append(['arjun','it\\'s time now'])\n",
    "print(id(new_lst))\n",
    "print(new_lst)\n",
    "print(type(new_lst))"
   ]
  },
  {
   "cell_type": "code",
   "execution_count": 4,
   "metadata": {},
   "outputs": [
    {
     "data": {
      "text/plain": [
       "[1, 2, 3, 3, 'hello', ['arjun', \"it's time now\"]]"
      ]
     },
     "execution_count": 4,
     "metadata": {},
     "output_type": "execute_result"
    }
   ],
   "source": [
    "lst_1"
   ]
  },
  {
   "cell_type": "code",
   "execution_count": 5,
   "metadata": {},
   "outputs": [
    {
     "name": "stdout",
     "output_type": "stream",
     "text": [
      "1 2 3 3 hello ['arjun', \"it's time now\"] \n",
      "--------------------------------------------------\n",
      "1\n",
      "2\n",
      "3\n",
      "3\n",
      "hello\n",
      "['arjun', \"it's time now\"]\n"
     ]
    }
   ],
   "source": [
    "for i in lst_1: print(i,end = ' ')\n",
    "print()\n",
    "print('-'*50)\n",
    "\n",
    "for i in range(len(lst_1)):\n",
    "    if lst_1[i] == 4:\n",
    "        continue\n",
    "    print(lst_1[i])"
   ]
  },
  {
   "cell_type": "code",
   "execution_count": 6,
   "metadata": {},
   "outputs": [
    {
     "data": {
      "text/plain": [
       "[1, 2, 3, 3, 'hello', ['arjun', \"it's time now\"]]"
      ]
     },
     "execution_count": 6,
     "metadata": {},
     "output_type": "execute_result"
    }
   ],
   "source": [
    "lst_1"
   ]
  },
  {
   "cell_type": "code",
   "execution_count": 7,
   "metadata": {},
   "outputs": [],
   "source": [
    "lst_1.extend(['dhathathreya','dhigambara'])"
   ]
  },
  {
   "cell_type": "code",
   "execution_count": 13,
   "metadata": {},
   "outputs": [
    {
     "data": {
      "text/plain": [
       "[1,\n",
       " 2,\n",
       " 3,\n",
       " 3,\n",
       " 'hello',\n",
       " ['arjun', \"it's time now\"],\n",
       " 'dhathathreya',\n",
       " 'dhigambara',\n",
       " 'padhavallaba']"
      ]
     },
     "execution_count": 13,
     "metadata": {},
     "output_type": "execute_result"
    }
   ],
   "source": [
    "lst_1"
   ]
  },
  {
   "cell_type": "code",
   "execution_count": 12,
   "metadata": {},
   "outputs": [
    {
     "data": {
      "text/plain": [
       "9"
      ]
     },
     "execution_count": 12,
     "metadata": {},
     "output_type": "execute_result"
    }
   ],
   "source": [
    "len(lst_1)"
   ]
  },
  {
   "cell_type": "code",
   "execution_count": 10,
   "metadata": {},
   "outputs": [],
   "source": [
    "lst_1.insert(8,'padhavallaba')"
   ]
  },
  {
   "cell_type": "code",
   "execution_count": 11,
   "metadata": {},
   "outputs": [
    {
     "data": {
      "text/plain": [
       "[1,\n",
       " 2,\n",
       " 3,\n",
       " 3,\n",
       " 'hello',\n",
       " ['arjun', \"it's time now\"],\n",
       " 'dhathathreya',\n",
       " 'dhigambara',\n",
       " 'padhavallaba']"
      ]
     },
     "execution_count": 11,
     "metadata": {},
     "output_type": "execute_result"
    }
   ],
   "source": [
    "lst_1"
   ]
  },
  {
   "cell_type": "code",
   "execution_count": 14,
   "metadata": {},
   "outputs": [],
   "source": [
    "lst_1.insert(7,'dhigambara')"
   ]
  },
  {
   "cell_type": "code",
   "execution_count": 15,
   "metadata": {},
   "outputs": [
    {
     "data": {
      "text/plain": [
       "[1,\n",
       " 2,\n",
       " 3,\n",
       " 3,\n",
       " 'hello',\n",
       " ['arjun', \"it's time now\"],\n",
       " 'dhathathreya',\n",
       " 'dhigambara',\n",
       " 'dhigambara',\n",
       " 'padhavallaba']"
      ]
     },
     "execution_count": 15,
     "metadata": {},
     "output_type": "execute_result"
    }
   ],
   "source": [
    "lst_1"
   ]
  },
  {
   "cell_type": "code",
   "execution_count": 16,
   "metadata": {},
   "outputs": [],
   "source": [
    "lst_1.insert(7,'sarana:mama')"
   ]
  },
  {
   "cell_type": "code",
   "execution_count": 17,
   "metadata": {},
   "outputs": [
    {
     "data": {
      "text/plain": [
       "[1,\n",
       " 2,\n",
       " 3,\n",
       " 3,\n",
       " 'hello',\n",
       " ['arjun', \"it's time now\"],\n",
       " 'dhathathreya',\n",
       " 'sarana:mama',\n",
       " 'dhigambara',\n",
       " 'dhigambara',\n",
       " 'padhavallaba']"
      ]
     },
     "execution_count": 17,
     "metadata": {},
     "output_type": "execute_result"
    }
   ],
   "source": [
    "lst_1"
   ]
  },
  {
   "cell_type": "code",
   "execution_count": 18,
   "metadata": {},
   "outputs": [],
   "source": [
    "lst_1.append('dhigambara')"
   ]
  },
  {
   "cell_type": "code",
   "execution_count": 19,
   "metadata": {},
   "outputs": [
    {
     "data": {
      "text/plain": [
       "[1,\n",
       " 2,\n",
       " 3,\n",
       " 3,\n",
       " 'hello',\n",
       " ['arjun', \"it's time now\"],\n",
       " 'dhathathreya',\n",
       " 'sarana:mama',\n",
       " 'dhigambara',\n",
       " 'dhigambara',\n",
       " 'padhavallaba',\n",
       " 'dhigambara']"
      ]
     },
     "execution_count": 19,
     "metadata": {},
     "output_type": "execute_result"
    }
   ],
   "source": [
    "lst_1"
   ]
  },
  {
   "cell_type": "code",
   "execution_count": 29,
   "metadata": {},
   "outputs": [
    {
     "name": "stdout",
     "output_type": "stream",
     "text": [
      "[1, 2, 3, 3, 'hello', ['arjun', \"it's time now\"], 'dhathathreya', 'sarana:mama', 'dhigambara', 'dhigambara', 'sri_padha_vallaba', 'dhigambara']\n"
     ]
    }
   ],
   "source": [
    "for i in range(len(lst_1)):\n",
    "    if type(lst_1[i]) != int :\n",
    "        if lst_1[i] == 'padhavallaba':\n",
    "            lst_1[i] = 'sri_padha_vallaba'\n",
    "print(lst_1)"
   ]
  },
  {
   "cell_type": "code",
   "execution_count": 30,
   "metadata": {},
   "outputs": [
    {
     "data": {
      "text/plain": [
       "[1,\n",
       " 2,\n",
       " 3,\n",
       " 3,\n",
       " 'hello',\n",
       " ['arjun', \"it's time now\"],\n",
       " 'dhathathreya',\n",
       " 'sarana:mama',\n",
       " 'dhigambara',\n",
       " 'dhigambara',\n",
       " 'sri_padha_vallaba',\n",
       " 'dhigambara']"
      ]
     },
     "execution_count": 30,
     "metadata": {},
     "output_type": "execute_result"
    }
   ],
   "source": [
    "lst_1"
   ]
  },
  {
   "cell_type": "code",
   "execution_count": 3,
   "metadata": {},
   "outputs": [
    {
     "name": "stdout",
     "output_type": "stream",
     "text": [
      "OddEvenOddEvenOddEven"
     ]
    }
   ],
   "source": [
    "p = list(map(int,input().split()))\n",
    "for item in p:\n",
    "    if item %2 == 0:\n",
    "        print('Even',end = '')\n",
    "    else:\n",
    "        print('Odd',end = '')"
   ]
  },
  {
   "cell_type": "code",
   "execution_count": 22,
   "metadata": {},
   "outputs": [
    {
     "name": "stdout",
     "output_type": "stream",
     "text": [
      "cc"
     ]
    }
   ],
   "source": [
    "str_1 = input('Enter:')\n",
    "\n",
    "str_2 = input('Enter:')\n",
    "\n",
    "for i in str_1:\n",
    "    if i not in str_2:\n",
    "        print(i,end = '')"
   ]
  },
  {
   "cell_type": "code",
   "execution_count": 6,
   "metadata": {},
   "outputs": [],
   "source": []
  },
  {
   "cell_type": "code",
   "execution_count": 1,
   "metadata": {},
   "outputs": [],
   "source": [
    "# minumum_number "
   ]
  },
  {
   "cell_type": "code",
   "execution_count": 4,
   "metadata": {},
   "outputs": [
    {
     "name": "stdout",
     "output_type": "stream",
     "text": [
      "5\n"
     ]
    }
   ],
   "source": [
    "\n",
    "lst_1 = list(map(int,input('Enter the number:').split()))\n",
    "\n",
    "min_num = lst_1[0]\n",
    "\n",
    "for i in range(len(lst_1)):\n",
    "    if lst_1[i] < min_num:\n",
    "        min_num = lst_1[i]\n",
    "print(min_num)"
   ]
  },
  {
   "cell_type": "code",
   "execution_count": 13,
   "metadata": {},
   "outputs": [
    {
     "data": {
      "text/plain": [
       "{1: 2, 3: 5}"
      ]
     },
     "execution_count": 13,
     "metadata": {},
     "output_type": "execute_result"
    }
   ],
   "source": [
    "dict([(1,2),(3,5)])"
   ]
  },
  {
   "cell_type": "code",
   "execution_count": 14,
   "metadata": {},
   "outputs": [
    {
     "name": "stdout",
     "output_type": "stream",
     "text": [
      "keys----> rohit ; values----> 45\n",
      "keys----> virat ; values----> 18\n",
      "keys----> dhoni ; values----> 7\n"
     ]
    }
   ],
   "source": [
    "a = {'rohit':45,'virat':18,'dhoni':7}\n",
    "\n",
    "for i,j in a.items():\n",
    "    print('keys---->',i,';','values---->',j)"
   ]
  },
  {
   "cell_type": "code",
   "execution_count": 16,
   "metadata": {},
   "outputs": [
    {
     "name": "stdout",
     "output_type": "stream",
     "text": [
      "45\n",
      "18\n",
      "7\n"
     ]
    }
   ],
   "source": [
    "for i in a.keys():\n",
    "    print(a.get(i))"
   ]
  },
  {
   "cell_type": "code",
   "execution_count": 20,
   "metadata": {},
   "outputs": [
    {
     "ename": "KeyError",
     "evalue": "'sky'",
     "output_type": "error",
     "traceback": [
      "\u001b[1;31m---------------------------------------------------------------------------\u001b[0m",
      "\u001b[1;31mKeyError\u001b[0m                                  Traceback (most recent call last)",
      "Cell \u001b[1;32mIn[20], line 1\u001b[0m\n\u001b[1;32m----> 1\u001b[0m \u001b[38;5;28mprint\u001b[39m(a[\u001b[38;5;124m'\u001b[39m\u001b[38;5;124msky\u001b[39m\u001b[38;5;124m'\u001b[39m])\n",
      "\u001b[1;31mKeyError\u001b[0m: 'sky'"
     ]
    }
   ],
   "source": [
    "print(a['sky'])"
   ]
  },
  {
   "cell_type": "code",
   "execution_count": 19,
   "metadata": {},
   "outputs": [
    {
     "name": "stdout",
     "output_type": "stream",
     "text": [
      "None\n"
     ]
    }
   ],
   "source": [
    "print(a.get('sky'))"
   ]
  },
  {
   "cell_type": "code",
   "execution_count": 3,
   "metadata": {},
   "outputs": [],
   "source": [
    "def factorial_num(n):\n",
    "    product = 1\n",
    "    for i in range(1,n+1):\n",
    "        product *= i\n",
    "    print(product)\n",
    "\n",
    "    "
   ]
  },
  {
   "cell_type": "code",
   "execution_count": 6,
   "metadata": {},
   "outputs": [
    {
     "name": "stdout",
     "output_type": "stream",
     "text": [
      "24\n"
     ]
    }
   ],
   "source": [
    "factorial_num(4)"
   ]
  },
  {
   "cell_type": "code",
   "execution_count": 11,
   "metadata": {},
   "outputs": [],
   "source": [
    "def smallest_num_list(l):\n",
    "    smallest = l[0]\n",
    "    for i in range(len(l)):\n",
    "        if smallest > l[i]:\n",
    "            smallest = l[i]\n",
    "    return smallest\n",
    "\n",
    "        \n",
    "    "
   ]
  },
  {
   "cell_type": "code",
   "execution_count": 13,
   "metadata": {},
   "outputs": [
    {
     "data": {
      "text/plain": [
       "0.05"
      ]
     },
     "execution_count": 13,
     "metadata": {},
     "output_type": "execute_result"
    }
   ],
   "source": [
    "smallest_num_list([1,2,1,10,1000,0.05])"
   ]
  },
  {
   "cell_type": "code",
   "execution_count": 1,
   "metadata": {},
   "outputs": [
    {
     "name": "stdout",
     "output_type": "stream",
     "text": [
      "5 6 7 8 \n",
      "5 6 7 \n",
      "5 6 \n",
      "5 \n"
     ]
    }
   ],
   "source": [
    "n = list(map(int,input().split()))\n",
    "start = n[0]\n",
    "end = n[1]\n",
    "\n",
    "for i in range(start,end+1):  #-----------> (5,9) 2nd iteration (5,8) 3rd (5,7)\n",
    "    for j in range(start,end+1): #--------> (5,9) 2nd iteration (5,8) 3rd (5,7)\n",
    "        print(j,end = ' ')\n",
    "    end -= 1\n",
    "    print()"
   ]
  },
  {
   "cell_type": "code",
   "execution_count": 5,
   "metadata": {},
   "outputs": [],
   "source": [
    "def add_num(*s):\n",
    "    ''' \n",
    "    it helps to print the \n",
    "    sum of the numbers\n",
    "    '''\n",
    "    sum = 0\n",
    "    for i in s:\n",
    "        sum += i\n",
    "    return sum\n",
    "\n",
    "    "
   ]
  },
  {
   "cell_type": "code",
   "execution_count": 6,
   "metadata": {},
   "outputs": [
    {
     "data": {
      "text/plain": [
       "15"
      ]
     },
     "execution_count": 6,
     "metadata": {},
     "output_type": "execute_result"
    }
   ],
   "source": [
    "add_num(5,4,3,2,1)"
   ]
  },
  {
   "cell_type": "code",
   "execution_count": 7,
   "metadata": {},
   "outputs": [
    {
     "name": "stdout",
     "output_type": "stream",
     "text": [
      "Help on function add_num in module __main__:\n",
      "\n",
      "add_num(*s)\n",
      "    it helps to print the \n",
      "    sum of the numbers\n",
      "\n"
     ]
    }
   ],
   "source": [
    "help(add_num)"
   ]
  },
  {
   "cell_type": "code",
   "execution_count": null,
   "metadata": {},
   "outputs": [],
   "source": []
  }
 ],
 "metadata": {
  "kernelspec": {
   "display_name": "base",
   "language": "python",
   "name": "python3"
  },
  "language_info": {
   "codemirror_mode": {
    "name": "ipython",
    "version": 3
   },
   "file_extension": ".py",
   "mimetype": "text/x-python",
   "name": "python",
   "nbconvert_exporter": "python",
   "pygments_lexer": "ipython3",
   "version": "3.11.5"
  }
 },
 "nbformat": 4,
 "nbformat_minor": 2
}
