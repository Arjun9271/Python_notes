{
 "cells": [
  {
   "cell_type": "code",
   "execution_count": null,
   "metadata": {},
   "outputs": [],
   "source": [
    "# problem solving"
   ]
  },
  {
   "cell_type": "code",
   "execution_count": 8,
   "metadata": {},
   "outputs": [
    {
     "name": "stdout",
     "output_type": "stream",
     "text": [
      "factorial is 24\n"
     ]
    }
   ],
   "source": [
    "# factorial\n",
    "\n",
    "num = int(input())\n",
    "\n",
    "product = 1\n",
    "while num > 1:\n",
    "    product *= num\n",
    "    num -= 1\n",
    "print(f'factorial is {product}')"
   ]
  },
  {
   "cell_type": "code",
   "execution_count": 6,
   "metadata": {},
   "outputs": [
    {
     "name": "stdout",
     "output_type": "stream",
     "text": [
      "factoria is :24\n"
     ]
    }
   ],
   "source": [
    "# factorial\n",
    "n = int(input('enter the value:'))\n",
    "fact = 1\n",
    "for i in range(2,n+1):\n",
    "    fact *= i\n",
    "print(f'factoria is :{fact}')\n",
    "    "
   ]
  },
  {
   "cell_type": "code",
   "execution_count": 10,
   "metadata": {},
   "outputs": [
    {
     "data": {
      "text/plain": [
       "153"
      ]
     },
     "execution_count": 10,
     "metadata": {},
     "output_type": "execute_result"
    }
   ],
   "source": [
    "# armstrong number\n",
    "\n",
    "1**3+5**3+3**3"
   ]
  },
  {
   "cell_type": "code",
   "execution_count": 14,
   "metadata": {},
   "outputs": [
    {
     "name": "stdout",
     "output_type": "stream",
     "text": [
      "yes\n"
     ]
    }
   ],
   "source": [
    "num = int(input('enter the value:'))\n",
    "sum = 0\n",
    "temp = num\n",
    "while num > 0:\n",
    "    digit = num %10\n",
    "    sum += digit**3\n",
    "    num //= 10\n",
    "print('yes' if sum == temp else 'no')\n"
   ]
  },
  {
   "cell_type": "code",
   "execution_count": 19,
   "metadata": {},
   "outputs": [
    {
     "name": "stdout",
     "output_type": "stream",
     "text": [
      "[5, 4, 3]\n"
     ]
    }
   ],
   "source": [
    "p = [1,2,3,4,5]\n",
    "k = []\n",
    "for i in p:\n",
    "    item = p.pop()\n",
    "    k.append(item)\n",
    "print(k)"
   ]
  },
  {
   "cell_type": "code",
   "execution_count": 1,
   "metadata": {},
   "outputs": [
    {
     "name": "stdout",
     "output_type": "stream",
     "text": [
      "[9, 2, 7, 1]\n"
     ]
    }
   ],
   "source": [
    "# reversing the list\n",
    "\n",
    "a = [1,7,2,9]\n",
    "b = list()\n",
    "while a:\n",
    "    b.append(a.pop())\n",
    "print(b)"
   ]
  },
  {
   "cell_type": "code",
   "execution_count": 7,
   "metadata": {},
   "outputs": [
    {
     "name": "stdout",
     "output_type": "stream",
     "text": [
      "[1, 0, 0, 2, 0, 1, 7, 1]\n"
     ]
    }
   ],
   "source": [
    "# approach - 2\n",
    "\n",
    "a = [1,7,1,0,2,0,0,1]\n",
    "b = []\n",
    "p = len(a)-1\n",
    "while p  >= 0:\n",
    "    b += [a[p]]\n",
    "    p -= 1\n",
    "print(b)\n"
   ]
  },
  {
   "cell_type": "code",
   "execution_count": 22,
   "metadata": {},
   "outputs": [
    {
     "name": "stdout",
     "output_type": "stream",
     "text": [
      "not prime\n"
     ]
    }
   ],
   "source": [
    "# prime numbers\n",
    "\n",
    "num = int(input('enter the value:'))\n",
    "p = list()\n",
    "for i in range(2,num):\n",
    "    if num % i == 0:\n",
    "        p.append(i)\n",
    "if len(p) == 0:\n",
    "    print('prime')\n",
    "else:\n",
    "    print('not prime')"
   ]
  },
  {
   "cell_type": "code",
   "execution_count": 27,
   "metadata": {},
   "outputs": [
    {
     "name": "stdout",
     "output_type": "stream",
     "text": [
      "-10\n"
     ]
    }
   ],
   "source": [
    "# minimum value\n",
    "lst = [1,2,3,4,5,-5,-10]\n",
    "minimun_val = lst[0]\n",
    "for i in lst:\n",
    "    if i < minimun_val:\n",
    "        minimun_val = i\n",
    "print(minimun_val)\n",
    "    \n",
    "        "
   ]
  },
  {
   "cell_type": "code",
   "execution_count": 30,
   "metadata": {},
   "outputs": [
    {
     "name": "stdout",
     "output_type": "stream",
     "text": [
      "5432\n"
     ]
    }
   ],
   "source": [
    "# maximum value\n",
    "\n",
    "lst_1 = [10,12,35,78,100,5432]\n",
    "max_val = lst_1[0]\n",
    "for i in lst_1:\n",
    "    if i > max_val:\n",
    "        max_val = i\n",
    "print(max_val)"
   ]
  },
  {
   "cell_type": "code",
   "execution_count": 21,
   "metadata": {},
   "outputs": [
    {
     "name": "stdout",
     "output_type": "stream",
     "text": [
      "11\n"
     ]
    }
   ],
   "source": [
    "# program for max vale abs(lst[i] - lst[j])\n",
    "\n",
    "lst = [-1,0,5,7,10]\n",
    "p = lst[0]\n",
    "\n",
    "for i in range(len(lst)):\n",
    "    for j in range(len(lst)):\n",
    "        abs_diff = abs(lst[i] - lst[j])\n",
    "        if abs_diff > p:\n",
    "            p = abs_diff\n",
    "print(p)"
   ]
  },
  {
   "cell_type": "code",
   "execution_count": 24,
   "metadata": {},
   "outputs": [
    {
     "name": "stdout",
     "output_type": "stream",
     "text": [
      "11\n"
     ]
    }
   ],
   "source": [
    "# updated one\n",
    "\n",
    "new_list = [-1,0,5,7,10]\n",
    "\n",
    "min_val = new_list[0]\n",
    "max_val = new_list[0]\n",
    "\n",
    "for i in range(1,len(lst)):\n",
    "    if new_list[i] < min_val:\n",
    "        min_val = new_list[i]\n",
    "    if new_list[i] > max_val:\n",
    "        max_val = new_list[i]\n",
    "print(abs(max_val - min_val))\n",
    "        \n",
    "    "
   ]
  },
  {
   "cell_type": "code",
   "execution_count": 2,
   "metadata": {},
   "outputs": [
    {
     "name": "stdout",
     "output_type": "stream",
     "text": [
      "[1, 2, 3, 3]\n"
     ]
    }
   ],
   "source": [
    "# list methods\n",
    "\n",
    "n = int(input())\n",
    "\n",
    "lst_1 = list()\n",
    "\n",
    "for i in range(n):\n",
    "    lst_1.append(int(input('Enter the value:')))\n",
    "print(lst_1)"
   ]
  },
  {
   "cell_type": "code",
   "execution_count": 3,
   "metadata": {},
   "outputs": [
    {
     "name": "stdout",
     "output_type": "stream",
     "text": [
      "1854234179904\n",
      "[1, 2, 3, 3]\n",
      "1854234179904\n",
      "140704527510256\n",
      "None\n",
      "<class 'NoneType'>\n"
     ]
    }
   ],
   "source": [
    "print(id(lst_1))\n",
    "print(lst_1)\n",
    "lst_1.append('hello')\n",
    "print(id(lst_1))\n",
    "new_lst = lst_1.append(['arjun','it\\'s time now'])\n",
    "print(id(new_lst))\n",
    "print(new_lst)\n",
    "print(type(new_lst))"
   ]
  },
  {
   "cell_type": "code",
   "execution_count": 4,
   "metadata": {},
   "outputs": [
    {
     "data": {
      "text/plain": [
       "[1, 2, 3, 3, 'hello', ['arjun', \"it's time now\"]]"
      ]
     },
     "execution_count": 4,
     "metadata": {},
     "output_type": "execute_result"
    }
   ],
   "source": [
    "lst_1"
   ]
  },
  {
   "cell_type": "code",
   "execution_count": 5,
   "metadata": {},
   "outputs": [
    {
     "name": "stdout",
     "output_type": "stream",
     "text": [
      "1 2 3 3 hello ['arjun', \"it's time now\"] \n",
      "--------------------------------------------------\n",
      "1\n",
      "2\n",
      "3\n",
      "3\n",
      "hello\n",
      "['arjun', \"it's time now\"]\n"
     ]
    }
   ],
   "source": [
    "for i in lst_1: print(i,end = ' ')\n",
    "print()\n",
    "print('-'*50)\n",
    "\n",
    "for i in range(len(lst_1)):\n",
    "    if lst_1[i] == 4:\n",
    "        continue\n",
    "    print(lst_1[i])"
   ]
  },
  {
   "cell_type": "code",
   "execution_count": 6,
   "metadata": {},
   "outputs": [
    {
     "data": {
      "text/plain": [
       "[1, 2, 3, 3, 'hello', ['arjun', \"it's time now\"]]"
      ]
     },
     "execution_count": 6,
     "metadata": {},
     "output_type": "execute_result"
    }
   ],
   "source": [
    "lst_1"
   ]
  },
  {
   "cell_type": "code",
   "execution_count": 7,
   "metadata": {},
   "outputs": [],
   "source": [
    "lst_1.extend(['dhathathreya','dhigambara'])"
   ]
  },
  {
   "cell_type": "code",
   "execution_count": 13,
   "metadata": {},
   "outputs": [
    {
     "data": {
      "text/plain": [
       "[1,\n",
       " 2,\n",
       " 3,\n",
       " 3,\n",
       " 'hello',\n",
       " ['arjun', \"it's time now\"],\n",
       " 'dhathathreya',\n",
       " 'dhigambara',\n",
       " 'padhavallaba']"
      ]
     },
     "execution_count": 13,
     "metadata": {},
     "output_type": "execute_result"
    }
   ],
   "source": [
    "lst_1"
   ]
  },
  {
   "cell_type": "code",
   "execution_count": 12,
   "metadata": {},
   "outputs": [
    {
     "data": {
      "text/plain": [
       "9"
      ]
     },
     "execution_count": 12,
     "metadata": {},
     "output_type": "execute_result"
    }
   ],
   "source": [
    "len(lst_1)"
   ]
  },
  {
   "cell_type": "code",
   "execution_count": 10,
   "metadata": {},
   "outputs": [],
   "source": [
    "lst_1.insert(8,'padhavallaba')"
   ]
  },
  {
   "cell_type": "code",
   "execution_count": 11,
   "metadata": {},
   "outputs": [
    {
     "data": {
      "text/plain": [
       "[1,\n",
       " 2,\n",
       " 3,\n",
       " 3,\n",
       " 'hello',\n",
       " ['arjun', \"it's time now\"],\n",
       " 'dhathathreya',\n",
       " 'dhigambara',\n",
       " 'padhavallaba']"
      ]
     },
     "execution_count": 11,
     "metadata": {},
     "output_type": "execute_result"
    }
   ],
   "source": [
    "lst_1"
   ]
  },
  {
   "cell_type": "code",
   "execution_count": 14,
   "metadata": {},
   "outputs": [],
   "source": [
    "lst_1.insert(7,'dhigambara')"
   ]
  },
  {
   "cell_type": "code",
   "execution_count": 15,
   "metadata": {},
   "outputs": [
    {
     "data": {
      "text/plain": [
       "[1,\n",
       " 2,\n",
       " 3,\n",
       " 3,\n",
       " 'hello',\n",
       " ['arjun', \"it's time now\"],\n",
       " 'dhathathreya',\n",
       " 'dhigambara',\n",
       " 'dhigambara',\n",
       " 'padhavallaba']"
      ]
     },
     "execution_count": 15,
     "metadata": {},
     "output_type": "execute_result"
    }
   ],
   "source": [
    "lst_1"
   ]
  },
  {
   "cell_type": "code",
   "execution_count": 16,
   "metadata": {},
   "outputs": [],
   "source": [
    "lst_1.insert(7,'sarana:mama')"
   ]
  },
  {
   "cell_type": "code",
   "execution_count": 17,
   "metadata": {},
   "outputs": [
    {
     "data": {
      "text/plain": [
       "[1,\n",
       " 2,\n",
       " 3,\n",
       " 3,\n",
       " 'hello',\n",
       " ['arjun', \"it's time now\"],\n",
       " 'dhathathreya',\n",
       " 'sarana:mama',\n",
       " 'dhigambara',\n",
       " 'dhigambara',\n",
       " 'padhavallaba']"
      ]
     },
     "execution_count": 17,
     "metadata": {},
     "output_type": "execute_result"
    }
   ],
   "source": [
    "lst_1"
   ]
  },
  {
   "cell_type": "code",
   "execution_count": 18,
   "metadata": {},
   "outputs": [],
   "source": [
    "lst_1.append('dhigambara')"
   ]
  },
  {
   "cell_type": "code",
   "execution_count": 19,
   "metadata": {},
   "outputs": [
    {
     "data": {
      "text/plain": [
       "[1,\n",
       " 2,\n",
       " 3,\n",
       " 3,\n",
       " 'hello',\n",
       " ['arjun', \"it's time now\"],\n",
       " 'dhathathreya',\n",
       " 'sarana:mama',\n",
       " 'dhigambara',\n",
       " 'dhigambara',\n",
       " 'padhavallaba',\n",
       " 'dhigambara']"
      ]
     },
     "execution_count": 19,
     "metadata": {},
     "output_type": "execute_result"
    }
   ],
   "source": [
    "lst_1"
   ]
  },
  {
   "cell_type": "code",
   "execution_count": 29,
   "metadata": {},
   "outputs": [
    {
     "name": "stdout",
     "output_type": "stream",
     "text": [
      "[1, 2, 3, 3, 'hello', ['arjun', \"it's time now\"], 'dhathathreya', 'sarana:mama', 'dhigambara', 'dhigambara', 'sri_padha_vallaba', 'dhigambara']\n"
     ]
    }
   ],
   "source": [
    "for i in range(len(lst_1)):\n",
    "    if type(lst_1[i]) != int :\n",
    "        if lst_1[i] == 'padhavallaba':\n",
    "            lst_1[i] = 'sri_padha_vallaba'\n",
    "print(lst_1)"
   ]
  },
  {
   "cell_type": "code",
   "execution_count": 30,
   "metadata": {},
   "outputs": [
    {
     "data": {
      "text/plain": [
       "[1,\n",
       " 2,\n",
       " 3,\n",
       " 3,\n",
       " 'hello',\n",
       " ['arjun', \"it's time now\"],\n",
       " 'dhathathreya',\n",
       " 'sarana:mama',\n",
       " 'dhigambara',\n",
       " 'dhigambara',\n",
       " 'sri_padha_vallaba',\n",
       " 'dhigambara']"
      ]
     },
     "execution_count": 30,
     "metadata": {},
     "output_type": "execute_result"
    }
   ],
   "source": [
    "lst_1"
   ]
  },
  {
   "cell_type": "code",
   "execution_count": 3,
   "metadata": {},
   "outputs": [
    {
     "name": "stdout",
     "output_type": "stream",
     "text": [
      "OddEvenOddEvenOddEven"
     ]
    }
   ],
   "source": [
    "p = list(map(int,input().split()))\n",
    "for item in p:\n",
    "    if item %2 == 0:\n",
    "        print('Even',end = '')\n",
    "    else:\n",
    "        print('Odd',end = '')"
   ]
  },
  {
   "cell_type": "code",
   "execution_count": 22,
   "metadata": {},
   "outputs": [
    {
     "name": "stdout",
     "output_type": "stream",
     "text": [
      "cc"
     ]
    }
   ],
   "source": [
    "str_1 = input('Enter:')\n",
    "\n",
    "str_2 = input('Enter:')\n",
    "\n",
    "for i in str_1:\n",
    "    if i not in str_2:\n",
    "        print(i,end = '')"
   ]
  },
  {
   "cell_type": "code",
   "execution_count": 1,
   "metadata": {},
   "outputs": [],
   "source": [
    "# minumum_number "
   ]
  },
  {
   "cell_type": "code",
   "execution_count": 4,
   "metadata": {},
   "outputs": [
    {
     "name": "stdout",
     "output_type": "stream",
     "text": [
      "5\n"
     ]
    }
   ],
   "source": [
    "\n",
    "lst_1 = list(map(int,input('Enter the number:').split()))\n",
    "\n",
    "min_num = lst_1[0]\n",
    "\n",
    "for i in range(len(lst_1)):\n",
    "    if lst_1[i] < min_num:\n",
    "        min_num = lst_1[i]\n",
    "print(min_num)"
   ]
  },
  {
   "cell_type": "code",
   "execution_count": 13,
   "metadata": {},
   "outputs": [
    {
     "data": {
      "text/plain": [
       "{1: 2, 3: 5}"
      ]
     },
     "execution_count": 13,
     "metadata": {},
     "output_type": "execute_result"
    }
   ],
   "source": [
    "dict([(1,2),(3,5)])"
   ]
  },
  {
   "cell_type": "code",
   "execution_count": 14,
   "metadata": {},
   "outputs": [
    {
     "name": "stdout",
     "output_type": "stream",
     "text": [
      "keys----> rohit ; values----> 45\n",
      "keys----> virat ; values----> 18\n",
      "keys----> dhoni ; values----> 7\n"
     ]
    }
   ],
   "source": [
    "a = {'rohit':45,'virat':18,'dhoni':7}\n",
    "\n",
    "for i,j in a.items():\n",
    "    print('keys---->',i,';','values---->',j)"
   ]
  },
  {
   "cell_type": "code",
   "execution_count": 16,
   "metadata": {},
   "outputs": [
    {
     "name": "stdout",
     "output_type": "stream",
     "text": [
      "45\n",
      "18\n",
      "7\n"
     ]
    }
   ],
   "source": [
    "for i in a.keys():\n",
    "    print(a.get(i))"
   ]
  },
  {
   "cell_type": "code",
   "execution_count": 20,
   "metadata": {},
   "outputs": [
    {
     "ename": "KeyError",
     "evalue": "'sky'",
     "output_type": "error",
     "traceback": [
      "\u001b[1;31m---------------------------------------------------------------------------\u001b[0m",
      "\u001b[1;31mKeyError\u001b[0m                                  Traceback (most recent call last)",
      "Cell \u001b[1;32mIn[20], line 1\u001b[0m\n\u001b[1;32m----> 1\u001b[0m \u001b[38;5;28mprint\u001b[39m(a[\u001b[38;5;124m'\u001b[39m\u001b[38;5;124msky\u001b[39m\u001b[38;5;124m'\u001b[39m])\n",
      "\u001b[1;31mKeyError\u001b[0m: 'sky'"
     ]
    }
   ],
   "source": [
    "print(a['sky'])"
   ]
  },
  {
   "cell_type": "code",
   "execution_count": 19,
   "metadata": {},
   "outputs": [
    {
     "name": "stdout",
     "output_type": "stream",
     "text": [
      "None\n"
     ]
    }
   ],
   "source": [
    "print(a.get('sky'))"
   ]
  },
  {
   "cell_type": "code",
   "execution_count": 3,
   "metadata": {},
   "outputs": [],
   "source": [
    "def factorial_num(n):\n",
    "    product = 1\n",
    "    for i in range(1,n+1):\n",
    "        product *= i\n",
    "    print(product)\n",
    "\n",
    "    "
   ]
  },
  {
   "cell_type": "code",
   "execution_count": 6,
   "metadata": {},
   "outputs": [
    {
     "name": "stdout",
     "output_type": "stream",
     "text": [
      "24\n"
     ]
    }
   ],
   "source": [
    "factorial_num(4)"
   ]
  },
  {
   "cell_type": "code",
   "execution_count": 11,
   "metadata": {},
   "outputs": [],
   "source": [
    "def smallest_num_list(l):\n",
    "    smallest = l[0]\n",
    "    for i in range(len(l)):\n",
    "        if smallest > l[i]:\n",
    "            smallest = l[i]\n",
    "    return smallest\n",
    "\n",
    "        \n",
    "    "
   ]
  },
  {
   "cell_type": "code",
   "execution_count": 13,
   "metadata": {},
   "outputs": [
    {
     "data": {
      "text/plain": [
       "0.05"
      ]
     },
     "execution_count": 13,
     "metadata": {},
     "output_type": "execute_result"
    }
   ],
   "source": [
    "smallest_num_list([1,2,1,10,1000,0.05])"
   ]
  },
  {
   "cell_type": "code",
   "execution_count": 1,
   "metadata": {},
   "outputs": [
    {
     "name": "stdout",
     "output_type": "stream",
     "text": [
      "5 6 7 8 \n",
      "5 6 7 \n",
      "5 6 \n",
      "5 \n"
     ]
    }
   ],
   "source": [
    "n = list(map(int,input().split()))\n",
    "start = n[0]\n",
    "end = n[1]\n",
    "\n",
    "for i in range(start,end+1):  #-----------> (5,9) 2nd iteration (5,8) 3rd (5,7)\n",
    "    for j in range(start,end+1): #--------> (5,9) 2nd iteration (5,8) 3rd (5,7)\n",
    "        print(j,end = ' ')\n",
    "    end -= 1\n",
    "    print()"
   ]
  },
  {
   "cell_type": "code",
   "execution_count": 5,
   "metadata": {},
   "outputs": [],
   "source": [
    "def add_num(*s):\n",
    "    ''' \n",
    "    it helps to print the \n",
    "    sum of the numbers\n",
    "    '''\n",
    "    sum = 0\n",
    "    for i in s:\n",
    "        sum += i\n",
    "    return sum\n",
    "\n",
    "    "
   ]
  },
  {
   "cell_type": "code",
   "execution_count": 6,
   "metadata": {},
   "outputs": [
    {
     "data": {
      "text/plain": [
       "15"
      ]
     },
     "execution_count": 6,
     "metadata": {},
     "output_type": "execute_result"
    }
   ],
   "source": [
    "add_num(5,4,3,2,1)"
   ]
  },
  {
   "cell_type": "code",
   "execution_count": 7,
   "metadata": {},
   "outputs": [
    {
     "name": "stdout",
     "output_type": "stream",
     "text": [
      "Help on function add_num in module __main__:\n",
      "\n",
      "add_num(*s)\n",
      "    it helps to print the \n",
      "    sum of the numbers\n",
      "\n"
     ]
    }
   ],
   "source": [
    "help(add_num)"
   ]
  },
  {
   "cell_type": "code",
   "execution_count": 23,
   "metadata": {},
   "outputs": [
    {
     "name": "stdout",
     "output_type": "stream",
     "text": [
      "1 2 3 4 \n",
      "5 6 7 8 \n",
      "9 10 11 12 \n",
      "13 14 15 16 \n"
     ]
    }
   ],
   "source": [
    "def num_pattern(start,end):\n",
    "    p = len(range(start,end))\n",
    "    current = start\n",
    "    for i in  range(p):\n",
    "        for j in range(p):\n",
    "            print(current,end = ' ')\n",
    "            current += 1\n",
    "    \n",
    "        print()\n",
    "        \n",
    "num_pattern(1,5)\n",
    "    "
   ]
  },
  {
   "cell_type": "code",
   "execution_count": 21,
   "metadata": {},
   "outputs": [],
   "source": [
    "def star_pattern(n):\n",
    "    for i in range(n):\n",
    "        for j in range(n):\n",
    "            if i == 0 or j == 0 or i == n-1 or j == n-1 :\n",
    "                print('*',end = ' ')\n",
    "            else:\n",
    "                print(' ',end = ' ')\n",
    "        print()"
   ]
  },
  {
   "cell_type": "code",
   "execution_count": 22,
   "metadata": {},
   "outputs": [
    {
     "name": "stdout",
     "output_type": "stream",
     "text": [
      "* * * * * \n",
      "*       * \n",
      "*       * \n",
      "*       * \n",
      "* * * * * \n"
     ]
    }
   ],
   "source": [
    "star_pattern(5)"
   ]
  },
  {
   "cell_type": "code",
   "execution_count": 19,
   "metadata": {},
   "outputs": [],
   "source": [
    "def matrix_creation():\n",
    "    n = int(input('Enter the num of  lists :'))\n",
    "    p = list()\n",
    "    for i in range(n):\n",
    "        p.append(list(map(int,input('enter the lists:').split())))\n",
    "    print(p)"
   ]
  },
  {
   "cell_type": "code",
   "execution_count": 20,
   "metadata": {},
   "outputs": [
    {
     "name": "stdout",
     "output_type": "stream",
     "text": [
      "[[1, 2], [3, 4]]\n"
     ]
    }
   ],
   "source": [
    "matrix_creation()"
   ]
  },
  {
   "cell_type": "code",
   "execution_count": 23,
   "metadata": {},
   "outputs": [],
   "source": [
    "# niven number"
   ]
  },
  {
   "cell_type": "code",
   "execution_count": 45,
   "metadata": {},
   "outputs": [
    {
     "name": "stdout",
     "output_type": "stream",
     "text": [
      "132 is a niven number\n",
      "6\n"
     ]
    }
   ],
   "source": [
    "def is_nivennumber(n):\n",
    "    temp = n\n",
    "    sum = 0\n",
    "    while temp > 0:\n",
    "        digit = temp%10\n",
    "        sum += digit\n",
    "        temp //= 10\n",
    "    return sum\n",
    "\n",
    "\n",
    "p = is_nivennumber(123)\n",
    "if n%p == 0:\n",
    "    print(f'{n} is a niven number')\n",
    "else:\n",
    "    print(f'{n} is not a niven number')\n",
    "print(sum)"
   ]
  },
  {
   "cell_type": "code",
   "execution_count": 51,
   "metadata": {},
   "outputs": [
    {
     "data": {
      "text/plain": [
       "720"
      ]
     },
     "execution_count": 51,
     "metadata": {},
     "output_type": "execute_result"
    }
   ],
   "source": [
    "def fact_num(n):\n",
    "    fact = 1\n",
    "    for i in range(n,0,-1):\n",
    "        fact *= i\n",
    "    return fact\n",
    "fact_num(6)"
   ]
  },
  {
   "cell_type": "code",
   "execution_count": 66,
   "metadata": {},
   "outputs": [
    {
     "name": "stdout",
     "output_type": "stream",
     "text": [
      "***\n",
      "**\n",
      "*\n",
      "\n"
     ]
    }
   ],
   "source": [
    "n = 4\n",
    "\n",
    "for i in range(1,n+1):\n",
    "    for j in range(1,n+1):\n",
    "        temp = n-i\n",
    "    print('*'*temp,end = '' )\n",
    "    print()"
   ]
  },
  {
   "cell_type": "code",
   "execution_count": 68,
   "metadata": {},
   "outputs": [
    {
     "name": "stdout",
     "output_type": "stream",
     "text": [
      "1 3 6 10 15 "
     ]
    }
   ],
   "source": [
    "n = 5\n",
    "sum = 0\n",
    "for i in range(1,n+1):\n",
    "    sum += i\n",
    "    print(sum,end = ' ')"
   ]
  },
  {
   "cell_type": "code",
   "execution_count": 71,
   "metadata": {},
   "outputs": [
    {
     "name": "stdout",
     "output_type": "stream",
     "text": [
      "15\n"
     ]
    }
   ],
   "source": [
    "n = 5\n",
    "sum = 0\n",
    "for i in range(1,n+1):\n",
    "    sum += i\n",
    "print(sum)"
   ]
  },
  {
   "cell_type": "code",
   "execution_count": 97,
   "metadata": {},
   "outputs": [
    {
     "name": "stdout",
     "output_type": "stream",
     "text": [
      "***\n",
      "**\n",
      "*\n",
      "\n"
     ]
    }
   ],
   "source": [
    "def reverse_star(n):\n",
    "    for i in range(n,0,-1):\n",
    "        for j in range(i-1):\n",
    "            print('*',end = '')\n",
    "        print()\n",
    "reverse_star(4)"
   ]
  },
  {
   "cell_type": "code",
   "execution_count": 13,
   "metadata": {},
   "outputs": [
    {
     "name": "stdout",
     "output_type": "stream",
     "text": [
      "before continue: -1\n",
      "before continue: 2\n",
      "after continue: 2\n",
      "before continue: 3\n",
      "after continue: 3\n",
      "before continue: 4\n",
      "after continue: 4\n",
      "before continue: -5\n",
      "before continue: 1\n",
      "after continue: 1\n",
      "10\n"
     ]
    }
   ],
   "source": [
    "# sum \n",
    "\n",
    "lst = [-1,2,3,4,-5,1]\n",
    "\n",
    "non_neg_sum = 0\n",
    "\n",
    "for i in lst:\n",
    "    print('before continue:',i)\n",
    "    if i<0:\n",
    "        continue\n",
    "    print('after continue:',i)\n",
    "    non_neg_sum += i\n",
    "print(non_neg_sum)"
   ]
  },
  {
   "cell_type": "code",
   "execution_count": 19,
   "metadata": {},
   "outputs": [
    {
     "name": "stdout",
     "output_type": "stream",
     "text": [
      "['1', 't', 'h', 'i', 's']\n",
      "['e', 'x', 'a', '3', 'm']\n",
      "['q', 'u', 'e', 's', 't', 'i', 'o', '4', 'n']\n",
      "['i', '2', 's']\n"
     ]
    }
   ],
   "source": [
    "l = ['1this','exa3m','questio4n','i2s']\n",
    "k = list()\n",
    "for i in l:\n",
    "    m = list(i)\n",
    "    print(m)"
   ]
  },
  {
   "cell_type": "code",
   "execution_count": 63,
   "metadata": {},
   "outputs": [
    {
     "name": "stdout",
     "output_type": "stream",
     "text": [
      "1this\n",
      "exa3m\n",
      "questio4n\n",
      "i2s\n"
     ]
    },
    {
     "data": {
      "text/plain": [
       "['this', 'exam', 'question', 'is']"
      ]
     },
     "execution_count": 63,
     "metadata": {},
     "output_type": "execute_result"
    }
   ],
   "source": [
    "a = ['1this','exa3m','questio4n','i2s']\n",
    "k = list()\n",
    "new_lst = list()\n",
    "for i in a:\n",
    "    print(i)\n",
    "    k.append(list(i))       \n",
    "\n",
    "for j in k:\n",
    "    for l in j:\n",
    "        if l.isnumeric():\n",
    "           j.remove(l)\n",
    "for s in k:\n",
    "    new_lst.append(''.join(s))\n",
    "new_lst\n",
    "\n",
    "           \n",
    "\n"
   ]
  },
  {
   "cell_type": "code",
   "execution_count": null,
   "metadata": {},
   "outputs": [],
   "source": []
  },
  {
   "cell_type": "code",
   "execution_count": 3,
   "metadata": {},
   "outputs": [
    {
     "name": "stdout",
     "output_type": "stream",
     "text": [
      "arjun thatha|\n"
     ]
    }
   ],
   "source": [
    "firstname,lastname = input().strip().split()\n",
    "\n",
    "\n",
    "print(firstname,lastname)"
   ]
  },
  {
   "cell_type": "code",
   "execution_count": 4,
   "metadata": {},
   "outputs": [
    {
     "data": {
      "text/plain": [
       "[3, 2, 1]"
      ]
     },
     "execution_count": 4,
     "metadata": {},
     "output_type": "execute_result"
    }
   ],
   "source": [
    "p = [1,2,3]\n",
    "p.reverse()\n",
    "p"
   ]
  },
  {
   "cell_type": "code",
   "execution_count": 8,
   "metadata": {},
   "outputs": [
    {
     "name": "stdout",
     "output_type": "stream",
     "text": [
      "3 12 5 10 7 8 9 6 11 4 "
     ]
    }
   ],
   "source": [
    "a = 3\n",
    "b = 12\n",
    "lst1 = []\n",
    "lst2 = []\n",
    "for i in range(2,13):\n",
    "    if i%2 == 0:\n",
    "         lst2.append(i)\n",
    "    else:\n",
    "        lst1.append(i)\n",
    "lst2.reverse()\n",
    "for m,n in zip(lst1,lst2):\n",
    "    print(m,n,end = ' ')\n",
    "             "
   ]
  },
  {
   "cell_type": "code",
   "execution_count": 13,
   "metadata": {},
   "outputs": [
    {
     "name": "stdout",
     "output_type": "stream",
     "text": [
      "a\n"
     ]
    }
   ],
   "source": [
    "cars = list(map(str,input().split()))\n",
    "p = cars[0].index('@')\n",
    "\n",
    "smallest = float(cars[0][p+1:])\n",
    "smallest_car = cars[0][:p]\n",
    "\n",
    "for val in cars:\n",
    "    p = val.index('@')\n",
    "    if smallest > float(val[p+1:]):\n",
    "        smallest = float(val[p+1:])\n",
    "        smallest_car = val[:p]\n",
    "        \n",
    "print(smallest_car)\n",
    "    "
   ]
  },
  {
   "cell_type": "code",
   "execution_count": 14,
   "metadata": {},
   "outputs": [],
   "source": [
    "def sum_all_digits(n):\n",
    "    while n >= 10:\n",
    "        su = 0\n",
    "        while n > 0:\n",
    "            su += n%10\n",
    "            n //= 10\n",
    "        n = su\n",
    "    return n"
   ]
  },
  {
   "cell_type": "code",
   "execution_count": 15,
   "metadata": {},
   "outputs": [
    {
     "data": {
      "text/plain": [
       "6"
      ]
     },
     "execution_count": 15,
     "metadata": {},
     "output_type": "execute_result"
    }
   ],
   "source": [
    "sum_all_digits(1257)"
   ]
  },
  {
   "cell_type": "code",
   "execution_count": 21,
   "metadata": {},
   "outputs": [
    {
     "name": "stdout",
     "output_type": "stream",
     "text": [
      "sum of divisors is 8\n"
     ]
    }
   ],
   "source": [
    "# sum of proper dividors\n",
    "\n",
    "n = int(input())\n",
    "\n",
    "divisors = [i for i in range(1,n) if n%i == 0]\n",
    "\n",
    "sum = 0\n",
    "for i in divisors:\n",
    "    sum += i\n",
    "print(f'sum of divisors is {sum}')"
   ]
  },
  {
   "cell_type": "code",
   "execution_count": 10,
   "metadata": {},
   "outputs": [
    {
     "name": "stdout",
     "output_type": "stream",
     "text": [
      "25.00 kmph\n"
     ]
    }
   ],
   "source": [
    "# example: input\n",
    "'''\n",
    "120@3 30@2\n",
    "\n",
    "\n",
    "'''\n",
    "\n",
    "\n",
    "\n",
    "a = list(map(str,input().split()))\n",
    "\n",
    "distance = 0\n",
    "speed = 0\n",
    "\n",
    "for i in a:\n",
    "    m = i.split('@')\n",
    "    distance += int(m[0])\n",
    "    speed += int(m[1])\n",
    "print(f'{distance/speed:.2f} kmph')"
   ]
  },
  {
   "cell_type": "code",
   "execution_count": 13,
   "metadata": {},
   "outputs": [
    {
     "name": "stdout",
     "output_type": "stream",
     "text": [
      "4\n",
      "6\n",
      "8\n",
      "10\n",
      "bdfh\n"
     ]
    }
   ],
   "source": [
    "# printing the multiples of respective number slicing\n",
    "\n",
    "\n",
    "str1 = 'abcdefghi'\n",
    "str2 = ''\n",
    "n = 2\n",
    "p = n\n",
    "for i in range(len(str1)):\n",
    "    str2 += str1[p-1]\n",
    "    p += n\n",
    "    print(p)\n",
    "    if p >= len(str1):\n",
    "        break\n",
    "print(str2)"
   ]
  },
  {
   "cell_type": "code",
   "execution_count": 15,
   "metadata": {},
   "outputs": [
    {
     "name": "stdout",
     "output_type": "stream",
     "text": [
      "bdfh\n"
     ]
    }
   ],
   "source": [
    "str1 = 'abcdefghi'\n",
    "new_str = ''\n",
    "n = 2\n",
    "i = n\n",
    "while i <= len(str1):\n",
    "    new_str += str1[i-1]\n",
    "    i += n\n",
    "print(new_str)"
   ]
  },
  {
   "cell_type": "code",
   "execution_count": 17,
   "metadata": {},
   "outputs": [
    {
     "data": {
      "text/plain": [
       "'HE IS VERY GOOD'"
      ]
     },
     "execution_count": 17,
     "metadata": {},
     "output_type": "execute_result"
    }
   ],
   "source": [
    "n = 'he is very good'\n",
    "\n",
    "n.upper()"
   ]
  },
  {
   "cell_type": "code",
   "execution_count": 18,
   "metadata": {},
   "outputs": [
    {
     "name": "stdout",
     "output_type": "stream",
     "text": [
      "She Is            Happy\n"
     ]
    }
   ],
   "source": [
    "# Example input\n",
    "input_text = \"she is            happy\"\n",
    "\n",
    "# Initialize an empty result string\n",
    "output_text = \"\"\n",
    "\n",
    "# Iterate through the input string with the index\n",
    "for i in range(len(input_text)):\n",
    "    # Capitalize the first character or a character following a space\n",
    "    if i == 0:  # Check if it's the first character\n",
    "        output_text += input_text[i].upper()  # Capitalize it\n",
    "    elif input_text[i - 1] == \" \":  # Check if the previous character is a space\n",
    "        output_text += input_text[i].upper()  # Capitalize it\n",
    "    else:\n",
    "        output_text += input_text[i]  # Keep the character as is\n",
    "\n",
    "# Print the result\n",
    "print(output_text)\n"
   ]
  },
  {
   "cell_type": "code",
   "execution_count": 6,
   "metadata": {},
   "outputs": [
    {
     "name": "stdout",
     "output_type": "stream",
     "text": [
      "Enter the number greater than 1\n"
     ]
    }
   ],
   "source": [
    "# prime or not\n",
    "\n",
    "n = int(input())\n",
    "if n > 1:\n",
    "\n",
    "    for i in range(2,n):\n",
    "        if n%i == 0:\n",
    "            print('NO it\\'s not a prime')\n",
    "            break\n",
    "    else:\n",
    "        print('YES it is')\n",
    "else:\n",
    "    print('Enter the number greater than 1')"
   ]
  },
  {
   "cell_type": "code",
   "execution_count": 7,
   "metadata": {},
   "outputs": [
    {
     "name": "stdout",
     "output_type": "stream",
     "text": [
      "None has the highest sum: -inf\n"
     ]
    }
   ],
   "source": [
    "# maximum scores\n",
    "\n",
    "# Get the number of lines (excluding the first line with the number)\n",
    "n = int(input(\"Enter the number of entries: \"))\n",
    "\n",
    "# Create a dictionary to store the data\n",
    "data = {}\n",
    "\n",
    "# Loop over to get the rest of the inputs\n",
    "for _ in range(n):\n",
    "    entry = input()  # Each input will be something like 'arjun:1:2:3'\n",
    "    \n",
    "    # Split the input at ':' into a name and a list of numbers\n",
    "    name, *numbers = entry.split(\":\")\n",
    "    \n",
    "    # Store the name as the key and the list of numbers (converted to integers) as the value\n",
    "    data[name] = list(map(int, numbers))\n",
    "\n",
    "# Manually find the person with the highest sum\n",
    "max_sum_name = None\n",
    "max_sum_value = float('-inf')  # Initialize to negative infinity for comparison\n",
    "\n",
    "for name, numbers in data.items():\n",
    "    current_sum = sum(numbers)\n",
    "    if current_sum > max_sum_value:\n",
    "        max_sum_value = current_sum\n",
    "        max_sum_name = name\n",
    "\n",
    "# Print the result\n",
    "print(f\"{max_sum_name} has the highest sum: {max_sum_value}\")\n"
   ]
  },
  {
   "cell_type": "code",
   "execution_count": 9,
   "metadata": {},
   "outputs": [
    {
     "name": "stdout",
     "output_type": "stream",
     "text": [
      "['', 'arjun']\n"
     ]
    }
   ],
   "source": [
    "n = '_arjun'.split('_')\n",
    "print(n)"
   ]
  },
  {
   "cell_type": "code",
   "execution_count": 34,
   "metadata": {},
   "outputs": [
    {
     "name": "stdout",
     "output_type": "stream",
     "text": [
      "olleh_arjun\n"
     ]
    }
   ],
   "source": [
    "n = input()\n",
    "\n",
    "\n",
    "\n",
    "if n.find('_') == -1:\n",
    "    print(n[::-1])\n",
    "else:\n",
    "    new = n.split('_')\n",
    "    new[0] = new[0][::-1]\n",
    "    print('_'.join(new))\n"
   ]
  },
  {
   "cell_type": "code",
   "execution_count": 21,
   "metadata": {},
   "outputs": [
    {
     "name": "stdout",
     "output_type": "stream",
     "text": [
      "jlpoopqzyxedcba\n",
      "{'j': 1, 'l': 1, 'p': 2, 'o': 2, 'q': 1, 'z': 1, 'y': 1, 'x': 1, 'e': 1, 'd': 1, 'c': 1, 'b': 1, 'a': 1}\n",
      "p\n"
     ]
    }
   ],
   "source": [
    "# finding the repeating character\n",
    "\n",
    "n = input()[::-1]\n",
    "print(n)\n",
    "d = {}\n",
    "\n",
    "\n",
    "for char in n:\n",
    "    if char in d:\n",
    "        d[char] += 1\n",
    "    else:\n",
    "        d[char] = 1\n",
    "        \n",
    "print(d)\n",
    "\n",
    "m = {}\n",
    "for char,count in d.items():\n",
    "    if count > 1:\n",
    "        m[char] = count\n",
    "print(list(m.items())[0][0])\n",
    "    \n",
    "    "
   ]
  },
  {
   "cell_type": "code",
   "execution_count": 18,
   "metadata": {},
   "outputs": [
    {
     "name": "stdout",
     "output_type": "stream",
     "text": [
      "-5240\n",
      "5240\n"
     ]
    }
   ],
   "source": [
    "#########bhayya gurthupetko\n",
    "\n",
    "n = int(input())\n",
    "print(n)\n",
    "if n == 0:\n",
    "    print(n)\n",
    "    \n",
    "elif n > 0:\n",
    "    print(-n)\n",
    "elif n < 0:\n",
    "    print(-n)"
   ]
  },
  {
   "cell_type": "code",
   "execution_count": 20,
   "metadata": {},
   "outputs": [
    {
     "data": {
      "text/plain": [
       "1130"
      ]
     },
     "execution_count": 20,
     "metadata": {},
     "output_type": "execute_result"
    }
   ],
   "source": [
    "round(11.30*100)"
   ]
  },
  {
   "cell_type": "code",
   "execution_count": 15,
   "metadata": {},
   "outputs": [
    {
     "name": "stdout",
     "output_type": "stream",
     "text": [
      "0ww"
     ]
    }
   ],
   "source": [
    "n = input()\n",
    "num = []\n",
    "letters = []\n",
    "\n",
    "for i in range(len(n)):\n",
    "    if i%2 == 0:\n",
    "        num.append(int(n[i]))\n",
    "    else:\n",
    "        letters.append(n[i])\n",
    "        \n",
    "for m,n in zip(num,letters):\n",
    "    print(m*n,end = '')"
   ]
  },
  {
   "cell_type": "code",
   "execution_count": 16,
   "metadata": {},
   "outputs": [
    {
     "data": {
      "text/plain": [
       "100"
      ]
     },
     "execution_count": 16,
     "metadata": {},
     "output_type": "execute_result"
    }
   ],
   "source": [
    "int('100')"
   ]
  },
  {
   "cell_type": "code",
   "execution_count": 23,
   "metadata": {},
   "outputs": [
    {
     "name": "stdout",
     "output_type": "stream",
     "text": [
      "abbccc\n"
     ]
    }
   ],
   "source": [
    "n = '1a2b3c'\n",
    "\n",
    "result = ''\n",
    "num_str = ''\n",
    "\n",
    "for i in range(len(n)):\n",
    "    if n[i].isdigit():\n",
    "        num_str += n[i]\n",
    "        \n",
    "\n",
    "    elif  n[i].isalpha():\n",
    "        number = int(num_str)\n",
    "        result += number*n[i]\n",
    "        \n",
    "        num_str = ''\n",
    "\n",
    "print(result)        \n",
    "        \n"
   ]
  },
  {
   "cell_type": "code",
   "execution_count": 46,
   "metadata": {},
   "outputs": [
    {
     "name": "stdout",
     "output_type": "stream",
     "text": [
      "[1, 2, 3, 4, 5]\n"
     ]
    },
    {
     "data": {
      "text/plain": [
       "True"
      ]
     },
     "execution_count": 46,
     "metadata": {},
     "output_type": "execute_result"
    }
   ],
   "source": [
    "def is_prime(lst):\n",
    "    print(lst)\n",
    "    for j in lst:\n",
    "        if j > 1:\n",
    "            for i in range(2,j):\n",
    "                if j%i == 0:\n",
    "                    return False\n",
    "                else:\n",
    "                    return True\n",
    "is_prime(lst = [1,2,3,4,5])"
   ]
  },
  {
   "cell_type": "code",
   "execution_count": 39,
   "metadata": {},
   "outputs": [
    {
     "ename": "TypeError",
     "evalue": "is_prime() takes 0 positional arguments but 1 was given",
     "output_type": "error",
     "traceback": [
      "\u001b[1;31m---------------------------------------------------------------------------\u001b[0m",
      "\u001b[1;31mTypeError\u001b[0m                                 Traceback (most recent call last)",
      "Cell \u001b[1;32mIn[39], line 1\u001b[0m\n\u001b[1;32m----> 1\u001b[0m \u001b[38;5;28mlist\u001b[39m(\u001b[38;5;28mfilter\u001b[39m(is_prime,\u001b[38;5;28mlist\u001b[39m(\u001b[38;5;28mrange\u001b[39m(\u001b[38;5;241m1\u001b[39m,\u001b[38;5;241m12\u001b[39m))))\n",
      "\u001b[1;31mTypeError\u001b[0m: is_prime() takes 0 positional arguments but 1 was given"
     ]
    }
   ],
   "source": [
    "list(filter(is_prime,list(range(1,12))))"
   ]
  },
  {
   "cell_type": "code",
   "execution_count": 11,
   "metadata": {},
   "outputs": [
    {
     "name": "stdout",
     "output_type": "stream",
     "text": [
      "aaaaaaaaaaaaaaaaaaaaaaaaaaaaaaaaaaaaaaaaaaaaaaaaaaaaaaaaaaaaaaaaaaaaaaaaaaaaaaaaaaaaaaaaaaaaaaaaaaaabbccc\n"
     ]
    }
   ],
   "source": [
    "n = '100a2b3c'\n",
    "\n",
    "num_str = ''\n",
    "result = ''\n",
    "\n",
    "for i in range(len(n)):\n",
    "    if n[i].isdigit():\n",
    "        num_str += n[i]\n",
    "        \n",
    "    elif n[i].isalpha():\n",
    "        number = int(num_str)\n",
    "        result += number*n[i]\n",
    "        \n",
    "        num_str = ''\n",
    "print(result)"
   ]
  },
  {
   "cell_type": "code",
   "execution_count": 22,
   "metadata": {},
   "outputs": [
    {
     "name": "stdout",
     "output_type": "stream",
     "text": [
      "a \n",
      "- r \n",
      "- - j \n",
      "- - - u \n",
      "- - - - n \n"
     ]
    }
   ],
   "source": [
    "n = 'arjun'\n",
    "\n",
    "for i in range(len(n)):\n",
    "    for j in range(i+1):\n",
    "        if j >= i:\n",
    "            print(n[i],end = ' ')\n",
    "        else:\n",
    "            print('-',end = ' ')\n",
    "    print()"
   ]
  },
  {
   "cell_type": "code",
   "execution_count": 54,
   "metadata": {},
   "outputs": [
    {
     "name": "stdout",
     "output_type": "stream",
     "text": [
      "    \n",
      "   r\n",
      "  jj\n",
      " uuu\n",
      "nnnn\n"
     ]
    }
   ],
   "source": [
    "n = 'arjun'\n",
    "for i in range(len(n)):\n",
    "    for j in range(len(n)-i-1):\n",
    "        print('',end = ' ')\n",
    "    for k in range(i+1):\n",
    "        if k >= i:\n",
    "            print('',end = '')\n",
    "        else:\n",
    "          print(n[i],end = '')\n",
    "    print()"
   ]
  },
  {
   "cell_type": "code",
   "execution_count": 15,
   "metadata": {},
   "outputs": [
    {
     "name": "stdout",
     "output_type": "stream",
     "text": [
      "666\n"
     ]
    }
   ],
   "source": [
    "n = 3\n",
    "\n",
    "p = n*n - n\n",
    "for i in range(n):\n",
    "    \n",
    "    for j in range(n-i-1):\n",
    "        print(p,end = '')\n",
    "        p -= j\n",
    "    p = n*n -n\n",
    "print()"
   ]
  },
  {
   "cell_type": "code",
   "execution_count": null,
   "metadata": {},
   "outputs": [],
   "source": []
  },
  {
   "cell_type": "code",
   "execution_count": 42,
   "metadata": {},
   "outputs": [
    {
     "name": "stdout",
     "output_type": "stream",
     "text": [
      "15 10 6 3 1 \n",
      "14 9 5 2 \n",
      "13 8 4 \n",
      "12 7 \n",
      "11 \n"
     ]
    }
   ],
   "source": [
    "n = 5\n",
    "\n",
    "s = n-1\n",
    "num = n*n - (s*s+s)//2\n",
    "for i in range(1,n+1):\n",
    "\n",
    "    p = n\n",
    "    for j in range(n-i+1):\n",
    "        print(num,end = ' ')\n",
    "        num -= p\n",
    "        p -= 1\n",
    "    num = n*n - (s*s+s)//2\n",
    "    num -= i\n",
    "    print()"
   ]
  },
  {
   "cell_type": "code",
   "execution_count": 11,
   "metadata": {},
   "outputs": [
    {
     "data": {
      "text/plain": [
       "[2, 3, 5, 7]"
      ]
     },
     "execution_count": 11,
     "metadata": {},
     "output_type": "execute_result"
    }
   ],
   "source": [
    "def is_prime(n):\n",
    "    if n<= 1:\n",
    "        return False\n",
    "    for i in range(2,n):\n",
    "        if n%i == 0:\n",
    "            return False\n",
    "    return True\n",
    "\n",
    "list(filter(is_prime,list(range(1,11))))"
   ]
  },
  {
   "cell_type": "code",
   "execution_count": 19,
   "metadata": {},
   "outputs": [],
   "source": [
    "def is_prime(n):\n",
    "    if n<= 1:\n",
    "        return False\n",
    "    for i in range(2,n):\n",
    "        if n%i == 0:\n",
    "            return False\n",
    "    return True\n",
    "\n",
    "while not is_prime(n):\n",
    "    n += 1\n",
    "    print(n)\n",
    "    \n"
   ]
  },
  {
   "cell_type": "code",
   "execution_count": 20,
   "metadata": {},
   "outputs": [
    {
     "name": "stdout",
     "output_type": "stream",
     "text": [
      "17\n"
     ]
    }
   ],
   "source": [
    "# for finding the next prime number\n",
    "\n",
    "n = 13\n",
    "while True:\n",
    "    n += 1\n",
    "    if  is_prime(n):\n",
    "        print(n)\n",
    "        break\n",
    " \n",
    "   \n",
    "    "
   ]
  },
  {
   "cell_type": "code",
   "execution_count": 5,
   "metadata": {},
   "outputs": [
    {
     "name": "stdout",
     "output_type": "stream",
     "text": [
      "[[1, 2, 3], [4, 5, 6], [7, 8, 9]]\n",
      "sum is 20\n"
     ]
    }
   ],
   "source": [
    "# sum of the corners in amtrix\n",
    "\n",
    "n = int(input())\n",
    "\n",
    "l = list()\n",
    "for i in range(n):\n",
    "    l.append(list(map(int,input().split())))\n",
    "\n",
    "print(l)\n",
    "rows = len(l)\n",
    "cols = len(l[0])\n",
    "top_left = l[0][0]\n",
    "top_right = l[0][cols-1]\n",
    "bottom_left = l[rows-1][0]\n",
    "bottom_right = l[rows-1][cols-1]\n",
    "\n",
    "print(f'sum is {top_left+top_right+bottom_left+bottom_right}')"
   ]
  },
  {
   "cell_type": "code",
   "execution_count": 7,
   "metadata": {},
   "outputs": [
    {
     "data": {
      "text/plain": [
       "True"
      ]
     },
     "execution_count": 7,
     "metadata": {},
     "output_type": "execute_result"
    }
   ],
   "source": [
    "'a' in ['a','b','c']"
   ]
  },
  {
   "cell_type": "code",
   "execution_count": 2,
   "metadata": {},
   "outputs": [
    {
     "name": "stdout",
     "output_type": "stream",
     "text": [
      "1\n",
      "4\n"
     ]
    }
   ],
   "source": [
    "l = [[1,2],[3,4]]\n",
    "\n",
    "for i in range(len(l)):\n",
    "    print(l[i][i])\n"
   ]
  },
  {
   "cell_type": "code",
   "execution_count": 1,
   "metadata": {},
   "outputs": [
    {
     "name": "stdout",
     "output_type": "stream",
     "text": [
      "1 2 3 4 5 6 7 8 9 10\n"
     ]
    }
   ],
   "source": [
    "print(*list(range(1,11)))"
   ]
  },
  {
   "cell_type": "code",
   "execution_count": 2,
   "metadata": {},
   "outputs": [
    {
     "name": "stdout",
     "output_type": "stream",
     "text": [
      "ArJuN\n"
     ]
    }
   ],
   "source": [
    "def alternate_case(s):\n",
    "    words = s.split()  # Split the input string into words\n",
    "    result = []\n",
    "    \n",
    "    for word in words:\n",
    "        new_word = []\n",
    "        for i in range(len(word)):\n",
    "            if i % 2 == 0:\n",
    "                new_word.append(word[i].upper())  # Uppercase for odd positions (0-based index)\n",
    "            else:\n",
    "                new_word.append(word[i].lower())  # Lowercase for even positions\n",
    "        result.append(\"\".join(new_word))\n",
    "    \n",
    "    return \" \".join(result)\n",
    "\n",
    "# Example usage\n",
    "s = input(\"Enter the string: \")  # Input the string\n",
    "print(alternate_case(s))\n"
   ]
  },
  {
   "cell_type": "code",
   "execution_count": 9,
   "metadata": {},
   "outputs": [],
   "source": []
  },
  {
   "cell_type": "code",
   "execution_count": 10,
   "metadata": {},
   "outputs": [
    {
     "name": "stdout",
     "output_type": "stream",
     "text": [
      "yes\n"
     ]
    }
   ],
   "source": [
    "is_prime(19)"
   ]
  },
  {
   "cell_type": "code",
   "execution_count": 16,
   "metadata": {},
   "outputs": [
    {
     "data": {
      "text/plain": [
       "'yes'"
      ]
     },
     "execution_count": 16,
     "metadata": {},
     "output_type": "execute_result"
    }
   ],
   "source": [
    "# prime numbers\n",
    "\n",
    "def is_prime(n):\n",
    "    if n == 1:\n",
    "        return 'no'\n",
    "    if n == 2:\n",
    "        return 'yes'\n",
    "    i = 2\n",
    "    while i*i <= n :\n",
    "        if n%i == 0:\n",
    "            return 'no'\n",
    "        i += 1\n",
    "    return 'yes'\n",
    "is_prime(19)"
   ]
  },
  {
   "cell_type": "code",
   "execution_count": 28,
   "metadata": {},
   "outputs": [
    {
     "name": "stdout",
     "output_type": "stream",
     "text": [
      "2 3 5 7 11 13 17 19 23 29 31 37 41 43 47 53 59 61 67 71 73 79 83 89 97 "
     ]
    }
   ],
   "source": [
    "def sieve_algo(n):\n",
    "    prime = [True for i in range(n)]\n",
    "    p = 2\n",
    "    while (p*p <= n):\n",
    "        \n",
    "        if prime[p] == True:\n",
    "            \n",
    "            for i in range(p*p,n+1,p):\n",
    "                prime[i] = False\n",
    "        p += 1\n",
    "    for i in range(2,n+1):\n",
    "        if prime[i]:\n",
    "            print(i,end = ' ')\n",
    "sieve_algo(100)"
   ]
  },
  {
   "cell_type": "code",
   "execution_count": 29,
   "metadata": {},
   "outputs": [
    {
     "name": "stdout",
     "output_type": "stream",
     "text": [
      "[0, 1, 2, 3]\n"
     ]
    }
   ],
   "source": [
    "print(list(range(3+1)))"
   ]
  },
  {
   "cell_type": "code",
   "execution_count": 30,
   "metadata": {},
   "outputs": [
    {
     "name": "stdout",
     "output_type": "stream",
     "text": [
      "[0, 1, 2]\n"
     ]
    }
   ],
   "source": [
    "print(list(range(3)))"
   ]
  },
  {
   "cell_type": "code",
   "execution_count": 24,
   "metadata": {},
   "outputs": [
    {
     "name": "stdout",
     "output_type": "stream",
     "text": [
      "2 3 5 7 11 13 17 19 23 29 31 "
     ]
    }
   ],
   "source": [
    "n = int(input())\n",
    "prime_num = [True for i in range(n)]\n",
    "p = 2\n",
    "while (p*p <= n):\n",
    "    if prime_num[p]:\n",
    "        for i in range(p*p,n,p):\n",
    "            prime_num[i] = False\n",
    "    p += 1\n",
    "       \n",
    "for i in range(2,n):\n",
    "    if prime_num[i]:\n",
    "        print(i,end = ' ')"
   ]
  },
  {
   "cell_type": "code",
   "execution_count": 44,
   "metadata": {},
   "outputs": [
    {
     "name": "stdout",
     "output_type": "stream",
     "text": [
      "A \n",
      "B C \n",
      "D E F \n",
      "G H I J \n",
      "K L M N O \n"
     ]
    }
   ],
   "source": [
    "n = 5\n",
    "\n",
    "p = 65\n",
    "for i in range(n):\n",
    "    for j in range(i+1):\n",
    "        print(chr(p),end = ' ')\n",
    "        p += 1\n",
    "    print()"
   ]
  },
  {
   "cell_type": "code",
   "execution_count": 25,
   "metadata": {},
   "outputs": [
    {
     "name": "stdout",
     "output_type": "stream",
     "text": [
      "YES\n"
     ]
    }
   ],
   "source": [
    "s1 = 'belb'\n",
    "s2 = 'bell'\n",
    "\n",
    "\n",
    "if sorted(list(set(s1))) == sorted(list(set(s2))):\n",
    "    print('YES')\n",
    "else:\n",
    "    print('NO')\n",
    "\n"
   ]
  },
  {
   "cell_type": "code",
   "execution_count": 28,
   "metadata": {},
   "outputs": [
    {
     "name": "stdout",
     "output_type": "stream",
     "text": [
      "NO\n"
     ]
    }
   ],
   "source": [
    "s1 = list(set(input()))\n",
    "s2 = list(set(input()))\n",
    "s1.sort()\n",
    "s2.sort()\n",
    "\n",
    "if s1 == s2:\n",
    "    print('YES')\n",
    "else:\n",
    "    print('NO')"
   ]
  },
  {
   "cell_type": "code",
   "execution_count": 15,
   "metadata": {},
   "outputs": [
    {
     "name": "stdout",
     "output_type": "stream",
     "text": [
      "None\n"
     ]
    }
   ],
   "source": [
    "a = list(set(s1)).sort()\n",
    "print(a)"
   ]
  },
  {
   "cell_type": "code",
   "execution_count": 29,
   "metadata": {},
   "outputs": [
    {
     "name": "stdout",
     "output_type": "stream",
     "text": [
      "['e', 'h', 'l', 'o']\n"
     ]
    }
   ],
   "source": [
    "a = list(set(s1))\n",
    "a.sort()\n",
    "print(a)"
   ]
  },
  {
   "cell_type": "code",
   "execution_count": 34,
   "metadata": {},
   "outputs": [
    {
     "name": "stdout",
     "output_type": "stream",
     "text": [
      "a\n"
     ]
    }
   ],
   "source": [
    "print('a')\n",
    "\n",
    "for i in range(1,5):\n",
    "    if i == 3:\n",
    "        break\n",
    "else:\n",
    "    print('b')"
   ]
  },
  {
   "cell_type": "code",
   "execution_count": 40,
   "metadata": {},
   "outputs": [
    {
     "name": "stdout",
     "output_type": "stream",
     "text": [
      "this is exam question\n"
     ]
    }
   ],
   "source": [
    "s1 = '1this ex3am 2is question4'.split()\n",
    "lst2 = [list(i) for i in s1]\n",
    "lst2\n",
    "d = {}\n",
    "lst1 = []\n",
    "for i in lst2:\n",
    "    for j in i:\n",
    "        if j.isnumeric():\n",
    "            i.remove(j)\n",
    "            d[int(j)] = ''.join(i)\n",
    "for i in sorted(d.items()):\n",
    "    lst1.append(i[1])\n",
    "print(' '.join(lst1))\n",
    "    "
   ]
  },
  {
   "cell_type": "code",
   "execution_count": 42,
   "metadata": {},
   "outputs": [
    {
     "name": "stdout",
     "output_type": "stream",
     "text": [
      "2 3 5 7 11 13 17 19 23 "
     ]
    }
   ],
   "source": [
    "n = 25\n",
    "\n",
    "prime_num = [True for i in range(n+1)]\n",
    "p = 2\n",
    "while (p*p <= n):\n",
    "    if prime_num[p]:\n",
    "        for i in range(p*p,n+1,p):\n",
    "            prime_num[i] = False\n",
    "    p += 1\n",
    "for k in range(2,n+1):\n",
    "    if prime_num[k]:\n",
    "        print(k,end = ' ')"
   ]
  },
  {
   "cell_type": "code",
   "execution_count": 5,
   "metadata": {},
   "outputs": [
    {
     "name": "stdout",
     "output_type": "stream",
     "text": [
      "yes it's palindrome\n"
     ]
    }
   ],
   "source": [
    "# palindrome\n",
    "\n",
    "def check_palindrome(n):\n",
    "        valid = True\n",
    "        l = 0\n",
    "        r = len(n)-1\n",
    "        for i in range(len(n)//2):\n",
    "            if n[l] == n[r]:\n",
    "                l += 1\n",
    "                r -= 1\n",
    "            else:\n",
    "                valid = False\n",
    "                break\n",
    "        print('yes it\\'s palindrome' if valid else 'no its not a palindrome')\n",
    "check_palindrome('12321')    "
   ]
  },
  {
   "cell_type": "code",
   "execution_count": 3,
   "metadata": {},
   "outputs": [
    {
     "data": {
      "text/plain": [
       "3"
      ]
     },
     "execution_count": 3,
     "metadata": {},
     "output_type": "execute_result"
    }
   ],
   "source": [
    "def count_words(n):\n",
    "    ans = 0\n",
    "    for i in range(len(n)):\n",
    "            s = n[i]\n",
    "            temp = 1\n",
    "            for j in range(len(s)):\n",
    "                ch = s[j]\n",
    "                if ch == \" \":\n",
    "                    temp += 1\n",
    "            ans = max(ans,temp)\n",
    "    return ans\n",
    "\n",
    "count_words(['hello macha','bye','antha ledule macha'])"
   ]
  },
  {
   "cell_type": "code",
   "execution_count": 6,
   "metadata": {},
   "outputs": [
    {
     "name": "stdout",
     "output_type": "stream",
     "text": [
      "47/15\n"
     ]
    }
   ],
   "source": [
    "\n",
    "from fraction import Fraction\n",
    "\n",
    "x = Fraction(4,5)\n",
    "y = Fraction(7,3)\n",
    "\n",
    "print(x+y)"
   ]
  },
  {
   "cell_type": "code",
   "execution_count": 35,
   "metadata": {},
   "outputs": [],
   "source": [
    "from oops import Atm\n",
    "\n",
    "obj = Atm()"
   ]
  },
  {
   "cell_type": "code",
   "execution_count": 37,
   "metadata": {},
   "outputs": [],
   "source": [
    "obj.__pin = 'abd'"
   ]
  },
  {
   "cell_type": "code",
   "execution_count": 38,
   "metadata": {},
   "outputs": [
    {
     "name": "stdout",
     "output_type": "stream",
     "text": [
      "Pin succesfully created ✌️\n",
      "Deposit succesfull 😎\n",
      "the balance amount is 50000\n"
     ]
    }
   ],
   "source": [
    "\n",
    "obj.menu()"
   ]
  },
  {
   "cell_type": "code",
   "execution_count": null,
   "metadata": {},
   "outputs": [
    {
     "name": "stdout",
     "output_type": "stream",
     "text": [
      "[1, 2, 3, 4, 5, 10, 100]\n"
     ]
    }
   ],
   "source": [
    "# bubble sort\n",
    "\n",
    "arr = [5,4,3,2,1,10,100]\n",
    "\n",
    "n = len(arr)\n",
    "for i in range(n-1):\n",
    "    for j in range(n-i-1):\n",
    "        if arr[j] > arr[j+1]:\n",
    "            arr[j],arr[j+1] = arr[j+1],arr[j]\n",
    "            \n",
    "print(arr)"
   ]
  },
  {
   "cell_type": "code",
   "execution_count": null,
   "metadata": {},
   "outputs": [],
   "source": []
  }
 ],
 "metadata": {
  "kernelspec": {
   "display_name": "base",
   "language": "python",
   "name": "python3"
  },
  "language_info": {
   "codemirror_mode": {
    "name": "ipython",
    "version": 3
   },
   "file_extension": ".py",
   "mimetype": "text/x-python",
   "name": "python",
   "nbconvert_exporter": "python",
   "pygments_lexer": "ipython3",
   "version": "3.11.5"
  }
 },
 "nbformat": 4,
 "nbformat_minor": 2
}
