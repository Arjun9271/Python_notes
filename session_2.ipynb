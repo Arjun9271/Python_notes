{
 "cells": [
  {
   "cell_type": "code",
   "execution_count": 6,
   "metadata": {},
   "outputs": [
    {
     "name": "stdout",
     "output_type": "stream",
     "text": [
      "['False', 'None', 'True', 'and', 'as', 'assert', 'async', 'await', 'break', 'class', 'continue', 'def', 'del', 'elif', 'else', 'except', 'finally', 'for', 'from', 'global', 'if', 'import', 'in', 'is', 'lambda', 'nonlocal', 'not', 'or', 'pass', 'raise', 'return', 'try', 'while', 'with', 'yield']\n"
     ]
    }
   ],
   "source": [
    "import keyword\n",
    "keywords = keyword.kwlist\n",
    "print(keywords)"
   ]
  },
  {
   "cell_type": "code",
   "execution_count": 7,
   "metadata": {},
   "outputs": [
    {
     "name": "stdout",
     "output_type": "stream",
     "text": [
      "total no .of .keywords:35\n"
     ]
    }
   ],
   "source": [
    "print(f'total no .of .keywords:{len(keywords)}')"
   ]
  },
  {
   "cell_type": "code",
   "execution_count": 9,
   "metadata": {},
   "outputs": [
    {
     "data": {
      "text/html": [
       "<div>\n",
       "<style scoped>\n",
       "    .dataframe tbody tr th:only-of-type {\n",
       "        vertical-align: middle;\n",
       "    }\n",
       "\n",
       "    .dataframe tbody tr th {\n",
       "        vertical-align: top;\n",
       "    }\n",
       "\n",
       "    .dataframe thead th {\n",
       "        text-align: right;\n",
       "    }\n",
       "</style>\n",
       "<table border=\"1\" class=\"dataframe\">\n",
       "  <thead>\n",
       "    <tr style=\"text-align: right;\">\n",
       "      <th></th>\n",
       "      <th>keywords</th>\n",
       "    </tr>\n",
       "  </thead>\n",
       "  <tbody>\n",
       "    <tr>\n",
       "      <th>0</th>\n",
       "      <td>False</td>\n",
       "    </tr>\n",
       "    <tr>\n",
       "      <th>1</th>\n",
       "      <td>None</td>\n",
       "    </tr>\n",
       "    <tr>\n",
       "      <th>2</th>\n",
       "      <td>True</td>\n",
       "    </tr>\n",
       "    <tr>\n",
       "      <th>3</th>\n",
       "      <td>and</td>\n",
       "    </tr>\n",
       "    <tr>\n",
       "      <th>4</th>\n",
       "      <td>as</td>\n",
       "    </tr>\n",
       "    <tr>\n",
       "      <th>5</th>\n",
       "      <td>assert</td>\n",
       "    </tr>\n",
       "    <tr>\n",
       "      <th>6</th>\n",
       "      <td>async</td>\n",
       "    </tr>\n",
       "    <tr>\n",
       "      <th>7</th>\n",
       "      <td>await</td>\n",
       "    </tr>\n",
       "    <tr>\n",
       "      <th>8</th>\n",
       "      <td>break</td>\n",
       "    </tr>\n",
       "    <tr>\n",
       "      <th>9</th>\n",
       "      <td>class</td>\n",
       "    </tr>\n",
       "    <tr>\n",
       "      <th>10</th>\n",
       "      <td>continue</td>\n",
       "    </tr>\n",
       "    <tr>\n",
       "      <th>11</th>\n",
       "      <td>def</td>\n",
       "    </tr>\n",
       "    <tr>\n",
       "      <th>12</th>\n",
       "      <td>del</td>\n",
       "    </tr>\n",
       "    <tr>\n",
       "      <th>13</th>\n",
       "      <td>elif</td>\n",
       "    </tr>\n",
       "    <tr>\n",
       "      <th>14</th>\n",
       "      <td>else</td>\n",
       "    </tr>\n",
       "    <tr>\n",
       "      <th>15</th>\n",
       "      <td>except</td>\n",
       "    </tr>\n",
       "    <tr>\n",
       "      <th>16</th>\n",
       "      <td>finally</td>\n",
       "    </tr>\n",
       "    <tr>\n",
       "      <th>17</th>\n",
       "      <td>for</td>\n",
       "    </tr>\n",
       "    <tr>\n",
       "      <th>18</th>\n",
       "      <td>from</td>\n",
       "    </tr>\n",
       "    <tr>\n",
       "      <th>19</th>\n",
       "      <td>global</td>\n",
       "    </tr>\n",
       "    <tr>\n",
       "      <th>20</th>\n",
       "      <td>if</td>\n",
       "    </tr>\n",
       "    <tr>\n",
       "      <th>21</th>\n",
       "      <td>import</td>\n",
       "    </tr>\n",
       "    <tr>\n",
       "      <th>22</th>\n",
       "      <td>in</td>\n",
       "    </tr>\n",
       "    <tr>\n",
       "      <th>23</th>\n",
       "      <td>is</td>\n",
       "    </tr>\n",
       "    <tr>\n",
       "      <th>24</th>\n",
       "      <td>lambda</td>\n",
       "    </tr>\n",
       "    <tr>\n",
       "      <th>25</th>\n",
       "      <td>nonlocal</td>\n",
       "    </tr>\n",
       "    <tr>\n",
       "      <th>26</th>\n",
       "      <td>not</td>\n",
       "    </tr>\n",
       "    <tr>\n",
       "      <th>27</th>\n",
       "      <td>or</td>\n",
       "    </tr>\n",
       "    <tr>\n",
       "      <th>28</th>\n",
       "      <td>pass</td>\n",
       "    </tr>\n",
       "    <tr>\n",
       "      <th>29</th>\n",
       "      <td>raise</td>\n",
       "    </tr>\n",
       "    <tr>\n",
       "      <th>30</th>\n",
       "      <td>return</td>\n",
       "    </tr>\n",
       "    <tr>\n",
       "      <th>31</th>\n",
       "      <td>try</td>\n",
       "    </tr>\n",
       "    <tr>\n",
       "      <th>32</th>\n",
       "      <td>while</td>\n",
       "    </tr>\n",
       "    <tr>\n",
       "      <th>33</th>\n",
       "      <td>with</td>\n",
       "    </tr>\n",
       "    <tr>\n",
       "      <th>34</th>\n",
       "      <td>yield</td>\n",
       "    </tr>\n",
       "  </tbody>\n",
       "</table>\n",
       "</div>"
      ],
      "text/plain": [
       "    keywords\n",
       "0      False\n",
       "1       None\n",
       "2       True\n",
       "3        and\n",
       "4         as\n",
       "5     assert\n",
       "6      async\n",
       "7      await\n",
       "8      break\n",
       "9      class\n",
       "10  continue\n",
       "11       def\n",
       "12       del\n",
       "13      elif\n",
       "14      else\n",
       "15    except\n",
       "16   finally\n",
       "17       for\n",
       "18      from\n",
       "19    global\n",
       "20        if\n",
       "21    import\n",
       "22        in\n",
       "23        is\n",
       "24    lambda\n",
       "25  nonlocal\n",
       "26       not\n",
       "27        or\n",
       "28      pass\n",
       "29     raise\n",
       "30    return\n",
       "31       try\n",
       "32     while\n",
       "33      with\n",
       "34     yield"
      ]
     },
     "execution_count": 9,
     "metadata": {},
     "output_type": "execute_result"
    }
   ],
   "source": [
    "import pandas as pd\n",
    "df = pd.DataFrame(keywords,columns = ['keywords'])\n",
    "df"
   ]
  },
  {
   "cell_type": "markdown",
   "metadata": {},
   "source": [
    "# Data Types"
   ]
  },
  {
   "cell_type": "markdown",
   "metadata": {},
   "source": [
    "## Strings"
   ]
  },
  {
   "cell_type": "code",
   "execution_count": 1,
   "metadata": {},
   "outputs": [
    {
     "name": "stdout",
     "output_type": "stream",
     "text": [
      "2538923589360\n",
      "2538923624752\n",
      "<class 'str'>\n"
     ]
    }
   ],
   "source": [
    "# a string is a series of characters\n",
    "\n",
    "new_string = 'arjun'\n",
    "new_string_1 = ' arjun'\n",
    "\n",
    "print(id(new_string))\n",
    "print(id(new_string_1))\n",
    "\n",
    "print(type(new_string))"
   ]
  },
  {
   "cell_type": "code",
   "execution_count": 12,
   "metadata": {},
   "outputs": [],
   "source": [
    "# it is used for the single line comments"
   ]
  },
  {
   "cell_type": "code",
   "execution_count": 4,
   "metadata": {},
   "outputs": [
    {
     "name": "stdout",
     "output_type": "stream",
     "text": [
      "hi\n",
      "hey mera bharath\n",
      "mahan\n",
      "learn python in effective way\n"
     ]
    }
   ],
   "source": [
    "''' \n",
    "it is used for \n",
    "the \n",
    "\n",
    "multi line comments\n",
    "'''\n",
    "print('hi')\n",
    "\n",
    "print('''hey mera bharath\n",
    "mahan\n",
    "learn python in effective way''')"
   ]
  },
  {
   "cell_type": "markdown",
   "metadata": {},
   "source": [
    "# for only small integers and small strings \n",
    "- same memory allocation will be done"
   ]
  },
  {
   "cell_type": "code",
   "execution_count": 19,
   "metadata": {},
   "outputs": [
    {
     "name": "stdout",
     "output_type": "stream",
     "text": [
      "true\n",
      "140704877358088\n",
      "140704877358088\n"
     ]
    }
   ],
   "source": [
    "a = 200\n",
    "b = 200\n",
    "\n",
    "\n",
    "if a is b:\n",
    "    print('true')\n",
    "else:\n",
    "    print('false')\n",
    "    \n",
    "print(id(a))\n",
    "print(id(b))"
   ]
  },
  {
   "cell_type": "code",
   "execution_count": 20,
   "metadata": {},
   "outputs": [
    {
     "name": "stdout",
     "output_type": "stream",
     "text": [
      "false\n",
      "2759739527024\n",
      "2759739527984\n"
     ]
    }
   ],
   "source": [
    "c = 300\n",
    "d = 300\n",
    "\n",
    "if c is d :\n",
    "    print('true')\n",
    "else:\n",
    "    print('false')\n",
    "\n",
    "print(id(c))\n",
    "print(id(d))"
   ]
  },
  {
   "cell_type": "code",
   "execution_count": 8,
   "metadata": {},
   "outputs": [
    {
     "name": "stdout",
     "output_type": "stream",
     "text": [
      "yesterday i have watched \"devara 2\" trailer\n",
      "then i had my break fast\n",
      "Then I started Learning Python\n"
     ]
    }
   ],
   "source": [
    "message = 'yesterday i have watched \"devara 2\" trailer\\nthen i had my break fast\\nThen I started Learning Python'\n",
    "print(message)"
   ]
  },
  {
   "cell_type": "code",
   "execution_count": 28,
   "metadata": {},
   "outputs": [],
   "source": [
    "\n",
    "name_1 = 'arjun '\n",
    "name_2 = ' arjun'\n",
    "name_3 = ' arjun '"
   ]
  },
  {
   "cell_type": "code",
   "execution_count": 29,
   "metadata": {},
   "outputs": [
    {
     "name": "stdout",
     "output_type": "stream",
     "text": [
      "arjun \n",
      "arjun\n",
      " arjun\n",
      "arjun\n",
      " arjun \n",
      "arjun\n"
     ]
    }
   ],
   "source": [
    "''' strips are used to remove the spaces for strings'''\n",
    "print(name_1,name_1.rstrip(),name_2,name_2.lstrip(),name_3,name_3.strip(),sep = '\\n')"
   ]
  },
  {
   "cell_type": "markdown",
   "metadata": {},
   "source": [
    "# Numeric"
   ]
  },
  {
   "cell_type": "code",
   "execution_count": 4,
   "metadata": {},
   "outputs": [],
   "source": [
    "def add(a,b):\n",
    "    return a+b\n",
    "def sub(a,b):\n",
    "    return a-b\n",
    "def div(a,b):\n",
    "    return round((a/b),2)\n",
    "def prod(a,b):\n",
    "    pass\n",
    " "
   ]
  },
  {
   "cell_type": "code",
   "execution_count": 5,
   "metadata": {},
   "outputs": [
    {
     "name": "stdout",
     "output_type": "stream",
     "text": [
      "5\n",
      "None\n",
      "0.67\n",
      "-1\n"
     ]
    }
   ],
   "source": [
    "print(add(2,3))\n",
    "print(prod(2,3))\n",
    "print(div(2,3))\n",
    "print(sub(2,3))\n"
   ]
  },
  {
   "cell_type": "code",
   "execution_count": 45,
   "metadata": {},
   "outputs": [
    {
     "name": "stdout",
     "output_type": "stream",
     "text": [
      "2.4\n",
      "<class 'float'>\n",
      "2\n",
      "<class 'int'>\n"
     ]
    }
   ],
   "source": [
    "a = 12\n",
    "b = 5\n",
    "c = a/b\n",
    "print(c,type(c),sep = '\\n')\n",
    "d = a//b\n",
    "print(d)\n",
    "print(type(d))"
   ]
  },
  {
   "cell_type": "code",
   "execution_count": 47,
   "metadata": {},
   "outputs": [
    {
     "name": "stdout",
     "output_type": "stream",
     "text": [
      "12.2\n",
      "12.2 12 24.2 0.1999999999999993 146.39999999999998 1.0166666666666666\n"
     ]
    }
   ],
   "source": [
    "f_value = 12.2\n",
    "print(f_value)\n",
    "a = 12.2\n",
    "b = 12\n",
    "c = a+b\n",
    "d = a-b\n",
    "e = a*b\n",
    "f = a/b\n",
    "print(a,b,c,d,e,f)\n"
   ]
  },
  {
   "cell_type": "markdown",
   "metadata": {},
   "source": [
    "# Lists\n",
    "- list is a sequence data type.\n",
    "- it is represented by []\n",
    "- it is mutable\n",
    "- it consists of all data types"
   ]
  },
  {
   "cell_type": "code",
   "execution_count": 12,
   "metadata": {},
   "outputs": [
    {
     "name": "stdout",
     "output_type": "stream",
     "text": [
      "140704568677192\n",
      "140704568677192\n",
      "----------------------------------------\n",
      "id of a : 2099350249728\n",
      "id of a[-1],a[-2]:(2099352124624, 2099352124624)\n",
      "-------------------------\n",
      "[1, 2, 3.5, 'hello', 2, 5, [1, 2], (3, 4), 1000, 2000]\n",
      "id of a,after changing : 2099350249728\n",
      "type of a :<class 'list'>\n"
     ]
    }
   ],
   "source": [
    "a = [1,2,3.5,'hello',2,5,[1,2],(3,4),1000,1000]\n",
    "\n",
    "# even duplicates also shows same id\n",
    "\n",
    "print(id(a[1]))\n",
    "print(id(a[4]))\n",
    "\n",
    "print('-'*40)\n",
    "\n",
    "print(f'id of a : {id(a)}')\n",
    "\n",
    "print(f'id of a[-1],a[-2]:{id(a[-1]),id(a[-2])}')\n",
    "\n",
    "print('-'*25)\n",
    "\n",
    "a[-1] = 2000\n",
    "\n",
    "print(a)\n",
    "\n",
    "print(f'id of a,after changing : {id(a)}')\n",
    "\n",
    "print(f'type of a :{type(a)}')"
   ]
  },
  {
   "cell_type": "markdown",
   "metadata": {},
   "source": [
    "# Tuple\n",
    "- tuple is also a sequence data type\n",
    "- it is immutable: modification is not possible in the same object\n"
   ]
  },
  {
   "cell_type": "code",
   "execution_count": 13,
   "metadata": {},
   "outputs": [
    {
     "name": "stdout",
     "output_type": "stream",
     "text": [
      "(<class 'int'>, <class 'tuple'>)\n"
     ]
    }
   ],
   "source": [
    "b = (1)\n",
    "c = (1,)\n",
    "\n",
    "print(f'{type(b),type(c)}')\n"
   ]
  },
  {
   "cell_type": "code",
   "execution_count": 16,
   "metadata": {},
   "outputs": [
    {
     "ename": "TypeError",
     "evalue": "'tuple' object does not support item assignment",
     "output_type": "error",
     "traceback": [
      "\u001b[1;31m---------------------------------------------------------------------------\u001b[0m",
      "\u001b[1;31mTypeError\u001b[0m                                 Traceback (most recent call last)",
      "Cell \u001b[1;32mIn[16], line 1\u001b[0m\n\u001b[1;32m----> 1\u001b[0m c[\u001b[38;5;241m0\u001b[39m] \u001b[38;5;241m=\u001b[39m \u001b[38;5;241m2\u001b[39m\n",
      "\u001b[1;31mTypeError\u001b[0m: 'tuple' object does not support item assignment"
     ]
    }
   ],
   "source": [
    "c[0] = 2"
   ]
  },
  {
   "cell_type": "code",
   "execution_count": null,
   "metadata": {},
   "outputs": [],
   "source": []
  }
 ],
 "metadata": {
  "kernelspec": {
   "display_name": "base",
   "language": "python",
   "name": "python3"
  },
  "language_info": {
   "codemirror_mode": {
    "name": "ipython",
    "version": 3
   },
   "file_extension": ".py",
   "mimetype": "text/x-python",
   "name": "python",
   "nbconvert_exporter": "python",
   "pygments_lexer": "ipython3",
   "version": "3.11.5"
  }
 },
 "nbformat": 4,
 "nbformat_minor": 2
}
