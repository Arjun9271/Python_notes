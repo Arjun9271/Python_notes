{
 "cells": [
  {
   "cell_type": "code",
   "execution_count": null,
   "metadata": {},
   "outputs": [],
   "source": []
  },
  {
   "cell_type": "code",
   "execution_count": 7,
   "metadata": {},
   "outputs": [],
   "source": [
    "# largest substring with out repeating characters\n",
    "\n",
    "class largest_substring:\n",
    "    def with_out_rep_characters(s):\n",
    "          l = 0\n",
    "          n = len(s)\n",
    "          res = float('-inf')\n",
    "          uniset = set()\n",
    "          \n",
    "          for r in range(n):\n",
    "            ch = s[r]\n",
    "            while  ch in uniset:\n",
    "                uniset.remove(s[r])\n",
    "                l += 1\n",
    "            uniset.add(ch)\n",
    "          \n",
    "          res = max(res,r-l+1)\n",
    "          \n",
    "          return res\n",
    "    \n",
    "            "
   ]
  },
  {
   "cell_type": "code",
   "execution_count": 9,
   "metadata": {},
   "outputs": [
    {
     "name": "stdout",
     "output_type": "stream",
     "text": [
      "3\n"
     ]
    }
   ],
   "source": [
    "sol = largest_substring\n",
    "ans = sol.with_out_rep_characters(\"abcabcbb\")\n",
    "print(ans)"
   ]
  },
  {
   "cell_type": "code",
   "execution_count": 4,
   "metadata": {},
   "outputs": [
    {
     "name": "stdout",
     "output_type": "stream",
     "text": [
      "[1, 4, 7, 2, 5, 8, 3, 6, 9]\n"
     ]
    }
   ],
   "source": [
    "# matrix\n",
    "\n",
    "x = [[1,2,3],[4,5,6],[7,8,9]]\n",
    "\n",
    "n = len(x)\n",
    "res = [x[j][i] for i in range(n) for j in range(n)]\n",
    "\n",
    "print(res)"
   ]
  },
  {
   "cell_type": "code",
   "execution_count": null,
   "metadata": {},
   "outputs": [],
   "source": []
  }
 ],
 "metadata": {
  "kernelspec": {
   "display_name": "base",
   "language": "python",
   "name": "python3"
  },
  "language_info": {
   "codemirror_mode": {
    "name": "ipython",
    "version": 3
   },
   "file_extension": ".py",
   "mimetype": "text/x-python",
   "name": "python",
   "nbconvert_exporter": "python",
   "pygments_lexer": "ipython3",
   "version": "3.11.5"
  }
 },
 "nbformat": 4,
 "nbformat_minor": 2
}
