{
 "cells": [
  {
   "cell_type": "code",
   "execution_count": null,
   "id": "176607d6",
   "metadata": {},
   "outputs": [],
   "source": [
    "import fitz  # PyMuPDF\n",
    "\n",
    "def extract_paragraphs_from_pdf(pdf_path):\n",
    " \n",
    "    # Open the PDF\n",
    "    doc = fitz.open(pdf_path)\n",
    "    \n",
    "    # List to store paragraphs\n",
    "    paragraphs = []\n",
    "    \n",
    "    # Process each page\n",
    "    for page in doc:\n",
    "        # Get text blocks (paragraphs)\n",
    "        blocks = page.get_text(\"blocks\")\n",
    "        \n",
    "        # Sort blocks by their vertical position (top to bottom)\n",
    "        blocks.sort(key=lambda b: (b[1], b[0]))\n",
    "        \n",
    "        # Extract text from each block\n",
    "        for block in blocks:\n",
    "            # Block structure: (x0, y0, x1, y1, text, block_no, block_type)\n",
    "            if block[6] == 0:  # Type 0 is text\n",
    "                # Clean up the paragraph text\n",
    "                text = block[4].strip()\n",
    "                # Only include non-empty paragraphs\n",
    "                if text:\n",
    "                    paragraphs.append(text)\n",
    "    \n",
    "    # Close the document\n",
    "    doc.close()\n",
    "    \n",
    "    return paragraphs\n",
    "\n",
    "# Example usage\n",
    "if __name__ == \"__main__\":\n",
    "    pdf_file = \"example.pdf\"  # Replace with your PDF file path\n",
    "    \n",
    "    # Extract paragraphs\n",
    "    paragraphs = extract_paragraphs_from_pdf(pdf_file)\n",
    "    \n",
    "    # Print the paragraphs\n",
    "    print(f\"Found {len(paragraphs)} paragraphs:\")\n",
    "    for i, para in enumerate(paragraphs, 1):\n",
    "        print(f\"\\nParagraph {i}:\")\n",
    "        print(para)\n",
    "        print(\"-\" * 50)"
   ]
  },
  {
   "cell_type": "code",
   "execution_count": null,
   "id": "4e7070ee",
   "metadata": {},
   "outputs": [],
   "source": [
    "data_science = \"\"\"\n",
    "\n",
    "https://drive.google.com/drive/folders/1aWbmyI_fWdVGTVjIV1BX2Qv6YdByiDHh?usp=sharing\n",
    "\n",
    "\"\"\""
   ]
  },
  {
   "cell_type": "code",
   "execution_count": null,
   "id": "ec509575",
   "metadata": {},
   "outputs": [],
   "source": []
  }
 ],
 "metadata": {
  "language_info": {
   "name": "python"
  }
 },
 "nbformat": 4,
 "nbformat_minor": 5
}
