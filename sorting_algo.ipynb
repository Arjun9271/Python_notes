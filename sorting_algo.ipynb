{
 "cells": [
  {
   "cell_type": "code",
   "execution_count": null,
   "metadata": {},
   "outputs": [],
   "source": [
    "# selection sort\n",
    "\n",
    "# step 1 : find the smallest element after the current position\n",
    "# step 2 : swap with the current position"
   ]
  },
  {
   "cell_type": "code",
   "execution_count": 4,
   "metadata": {},
   "outputs": [
    {
     "name": "stdout",
     "output_type": "stream",
     "text": [
      "[1, 3, 4, 4, 6, 6, 8, 8, 8, 9]\n"
     ]
    }
   ],
   "source": [
    "def selection_sort(arr):\n",
    "    n = len(arr)\n",
    "    for i in range(n-1):\n",
    "        mini = i\n",
    "        for j in range(i+1,n):\n",
    "            if arr[j] < arr[mini]:\n",
    "                mini = j\n",
    "        arr[i],arr[mini] = arr[mini],arr[i]\n",
    "    return arr\n",
    "\n",
    "nums = [8,6,8,8,6,1,4,9,4,3]\n",
    "result = selection_sort(nums)\n",
    "print(result)"
   ]
  },
  {
   "cell_type": "code",
   "execution_count": 2,
   "metadata": {},
   "outputs": [],
   "source": [
    "# bubble sort\n",
    "\n",
    "# swap the adjacent elements --- in this process the largest elements moves to the \n",
    "\n",
    "# last for the each iteration"
   ]
  },
  {
   "cell_type": "code",
   "execution_count": 5,
   "metadata": {},
   "outputs": [
    {
     "name": "stdout",
     "output_type": "stream",
     "text": [
      "[0, 2, 2, 4, 4, 5, 6, 8, 9, 9]\n"
     ]
    }
   ],
   "source": [
    "def bubble_sort(arr):\n",
    "    n = len(arr)\n",
    "    is_swap = 0\n",
    "    for i in range(n-1):\n",
    "        for j in range(n-i-1):\n",
    "            if arr[j] > arr[j+1]:\n",
    "                arr[j],arr[j+1] = arr[j+1],arr[j]\n",
    "                is_swap = 1\n",
    "        if is_swap == 0:\n",
    "            return arr\n",
    "    return arr\n",
    "        \n",
    "nums = [9,4,9,2,8,0,2,4,6,5]\n",
    "result = bubble_sort(nums)\n",
    "print(result)"
   ]
  },
  {
   "cell_type": "code",
   "execution_count": 2,
   "metadata": {},
   "outputs": [
    {
     "name": "stdout",
     "output_type": "stream",
     "text": [
      "[0, 2, 3, 5, 6, 8, 9, 9, 9]\n"
     ]
    }
   ],
   "source": [
    "# insertion sort\n",
    "\n",
    "def insert_sort(arr):\n",
    "    n = len(arr)\n",
    "    for i in range(n):\n",
    "        j = i\n",
    "        while j > 0 and arr[j] < arr[j-1]:\n",
    "            arr[j-1],arr[j] = arr[j],arr[j-1]\n",
    "            j -= 1\n",
    "    return arr\n",
    "nums = [9,3,9,8,0,6,9,5,2]\n",
    "ans = insert_sort(nums)\n",
    "print(ans)"
   ]
  },
  {
   "cell_type": "code",
   "execution_count": 1,
   "metadata": {},
   "outputs": [
    {
     "name": "stdout",
     "output_type": "stream",
     "text": [
      "[25, 100, 104, 150, 220]\n",
      "[25, 100, 104, 150, 220]\n",
      "[25, 100, 104, 150, 220]\n"
     ]
    }
   ],
   "source": [
    "# bubble sort\n",
    "\n",
    "''' swap adjacent characters '''\n",
    "\n",
    "def bubble_sort(arr):\n",
    "    is_swap = False\n",
    "    n = len(arr)\n",
    "    for i in range(n):\n",
    "        for j in range(n-i-1):\n",
    "            if arr[j+1] < arr[j]:\n",
    "                arr[j+1],arr[j] = arr[j],arr[j+1]\n",
    "                is_swap = True\n",
    "                \n",
    "        if not is_swap:\n",
    "            return arr\n",
    "    \n",
    "    return arr\n",
    "    \n",
    "# selection_sort\n",
    "\n",
    "'''swap the current character with the smallest ele that u found from rem array '''\n",
    "\n",
    "def selection_sort(arr):\n",
    "    n = len(arr)\n",
    "    for i in range(n-1):\n",
    "        mini = i\n",
    "        for j in range(i+1,n):\n",
    "            if arr[j] < arr[mini]:\n",
    "                mini = j\n",
    "        arr[i],arr[mini] = arr[mini],arr[i]\n",
    "    \n",
    "    return arr\n",
    "    \n",
    "\n",
    "# insertion_sort\n",
    "\n",
    "''' swap the element to the correct place'''\n",
    "\n",
    "def insertion_sort(arr):\n",
    "    n = len(arr)\n",
    "    for i in range(n):\n",
    "        j = i\n",
    "        while j > 0 and arr[j] < arr[j-1]:\n",
    "            arr[j-1],arr[j] = arr[j],arr[j-1]\n",
    "            j -= 1\n",
    "    return arr\n",
    "        \n",
    "\n",
    "nums = [100,25,104,220,150]\n",
    "result_1 = insertion_sort(nums)\n",
    "result_2 = bubble_sort(nums)\n",
    "result_3  = insertion_sort(nums)\n",
    "print(result_1,result_2,result_3,sep = '\\n')\n",
    "    "
   ]
  },
  {
   "cell_type": "code",
   "execution_count": null,
   "metadata": {},
   "outputs": [],
   "source": []
  }
 ],
 "metadata": {
  "kernelspec": {
   "display_name": "base",
   "language": "python",
   "name": "python3"
  },
  "language_info": {
   "codemirror_mode": {
    "name": "ipython",
    "version": 3
   },
   "file_extension": ".py",
   "mimetype": "text/x-python",
   "name": "python",
   "nbconvert_exporter": "python",
   "pygments_lexer": "ipython3",
   "version": "3.11.5"
  }
 },
 "nbformat": 4,
 "nbformat_minor": 2
}
