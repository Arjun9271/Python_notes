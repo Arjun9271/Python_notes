{
 "cells": [
  {
   "cell_type": "markdown",
   "metadata": {},
   "source": [
    "### ***Mastering String Operations*** ###\n",
    "#### ***String Operators*** ####\n",
    "1. Concatenate Operator (+)\n",
    "2. Repetition Operator (*)\n",
    "3. String Comparsion Operators (==, !=, >=, <=, >, <)\n",
    "4. Membership Operators (in, not in)\n",
    "5. Escape Sequence Operator ( '\\', \\n, \\b, \\ooo, \\xhh)\n",
    "6. String Formatting Operator (%s, %d, %f)"
   ]
  },
  {
   "cell_type": "code",
   "execution_count": 3,
   "metadata": {},
   "outputs": [
    {
     "name": "stdout",
     "output_type": "stream",
     "text": [
      "hey what's up boys \"this is arjun it's me\"\n"
     ]
    }
   ],
   "source": [
    "print('hey what\\'s up boys \"this is arjun it\\'s me\"')"
   ]
  },
  {
   "cell_type": "code",
   "execution_count": null,
   "metadata": {},
   "outputs": [],
   "source": []
  },
  {
   "cell_type": "code",
   "execution_count": null,
   "metadata": {},
   "outputs": [],
   "source": [
    "#Esacpe Sequence Operator"
   ]
  },
  {
   "cell_type": "code",
   "execution_count": 1,
   "metadata": {},
   "outputs": [
    {
     "name": "stdout",
     "output_type": "stream",
     "text": [
      "today's  match \"india vs pakisthan\"\n"
     ]
    }
   ],
   "source": [
    "print('today\\'s  match \"india vs pakisthan\\\"')"
   ]
  },
  {
   "cell_type": "code",
   "execution_count": 4,
   "metadata": {},
   "outputs": [
    {
     "name": "stdout",
     "output_type": "stream",
     "text": [
      "1.allensolley : 2000\n",
      "2.lewis:5000\n"
     ]
    }
   ],
   "source": [
    "print('1.allensolley : 2000\\n2.lewis:5000')  # adds the sentence to the new line"
   ]
  },
  {
   "cell_type": "code",
   "execution_count": 3,
   "metadata": {},
   "outputs": [
    {
     "name": "stdout",
     "output_type": "stream",
     "text": [
      "hiarjun\n"
     ]
    }
   ],
   "source": [
    "print('hi \\barjun') # removing the backspace"
   ]
  },
  {
   "cell_type": "code",
   "execution_count": 11,
   "metadata": {},
   "outputs": [
    {
     "name": "stdout",
     "output_type": "stream",
     "text": [
      "a\n",
      "a2\n"
     ]
    }
   ],
   "source": [
    "print('\\141')\n",
    "print('\\1412')"
   ]
  },
  {
   "cell_type": "code",
   "execution_count": 10,
   "metadata": {},
   "outputs": [
    {
     "name": "stdout",
     "output_type": "stream",
     "text": [
      "97:a\n"
     ]
    }
   ],
   "source": [
    "print(ord('a'),chr(97),sep = ':')"
   ]
  },
  {
   "cell_type": "markdown",
   "metadata": {},
   "source": [
    "### ***String Formatting*** ###\n",
    "- Using % Operator (old method)\n",
    "- str.format() method\n",
    "- f-strings"
   ]
  },
  {
   "cell_type": "code",
   "execution_count": 8,
   "metadata": {},
   "outputs": [
    {
     "name": "stdout",
     "output_type": "stream",
     "text": [
      "Hi, my name is arjun and age is 23\n"
     ]
    }
   ],
   "source": [
    "name = 'arjun'\n",
    "age = 23\n",
    "\n",
    "print('Hi, my name is %s and age is %d'%(name,age))"
   ]
  },
  {
   "cell_type": "code",
   "execution_count": 3,
   "metadata": {},
   "outputs": [
    {
     "name": "stdout",
     "output_type": "stream",
     "text": [
      "score is :12.000000 # default python prints 6 decimal values\n",
      "score is :12.50\n",
      "score is :12.000\n"
     ]
    }
   ],
   "source": [
    "score = 12\n",
    "score_1 = 12.5025\n",
    "\n",
    "print('score is :%f'%(score),end = ' ')\n",
    "\n",
    "print('# default python prints 6 decimal values')\n",
    "\n",
    "print('score is :%.2f'%(score_1))\n",
    "\n",
    "print('score is :%.3f'%(score))"
   ]
  },
  {
   "cell_type": "code",
   "execution_count": 4,
   "metadata": {},
   "outputs": [
    {
     "name": "stdout",
     "output_type": "stream",
     "text": [
      "this is arjun and im 23 younger than him\n"
     ]
    }
   ],
   "source": [
    "print('this is {} and im {} younger than him'.format(name,age))"
   ]
  },
  {
   "cell_type": "code",
   "execution_count": 5,
   "metadata": {},
   "outputs": [
    {
     "name": "stdout",
     "output_type": "stream",
     "text": [
      "this is 23 and im arjun younger than him\n"
     ]
    }
   ],
   "source": [
    "print('this is {1} and im {0} younger than him'.format(name,age))"
   ]
  },
  {
   "cell_type": "code",
   "execution_count": 7,
   "metadata": {},
   "outputs": [
    {
     "name": "stdout",
     "output_type": "stream",
     "text": [
      "this is arjun and im younger than arjun\n"
     ]
    }
   ],
   "source": [
    "print('this is {0} and im younger than {0}'.format(name,age))"
   ]
  },
  {
   "cell_type": "code",
   "execution_count": 10,
   "metadata": {},
   "outputs": [
    {
     "name": "stdout",
     "output_type": "stream",
     "text": [
      "my name is arjun, im expertise in data sciene and ml,\n",
      "I have worked at alongX\n"
     ]
    }
   ],
   "source": [
    "print('my name is {name}, im expertise in data sciene and ml,\\nI have worked at {company}'.format(name = 'arjun',company = 'alongX'))"
   ]
  },
  {
   "cell_type": "code",
   "execution_count": 14,
   "metadata": {},
   "outputs": [
    {
     "name": "stdout",
     "output_type": "stream",
     "text": [
      "I have took data Science course at arjun at the price of 60000\n"
     ]
    }
   ],
   "source": [
    "course = 'data Science'\n",
    "Instute = 'Innomatics'\n",
    "price = 60000\n",
    "\n",
    "print('I have took {} course at {} at the price of {:d}'.format(course,name,price))"
   ]
  },
  {
   "cell_type": "code",
   "execution_count": 15,
   "metadata": {},
   "outputs": [
    {
     "name": "stdout",
     "output_type": "stream",
     "text": [
      "I have took data Science course at Innomatics at price of 60000\n"
     ]
    }
   ],
   "source": [
    "print('I have took %s course at %s at price of %d'%(course,Instute,price))"
   ]
  },
  {
   "cell_type": "code",
   "execution_count": 16,
   "metadata": {},
   "outputs": [
    {
     "name": "stdout",
     "output_type": "stream",
     "text": [
      "I have secured a 11 lpa \n"
     ]
    }
   ],
   "source": [
    "package = '11 lpa'\n",
    "print(f'I have secured a {package} ')"
   ]
  },
  {
   "cell_type": "code",
   "execution_count": 28,
   "metadata": {},
   "outputs": [
    {
     "name": "stdout",
     "output_type": "stream",
     "text": [
      "im rounding the value to 2 decimals : 12.46\n"
     ]
    }
   ],
   "source": [
    "float_val = 12.455\n",
    "\n",
    "print(f'im rounding the value to 2 decimals : {float_val:.2f}')"
   ]
  },
  {
   "cell_type": "code",
   "execution_count": 29,
   "metadata": {},
   "outputs": [
    {
     "data": {
      "text/plain": [
       "3000"
      ]
     },
     "execution_count": 29,
     "metadata": {},
     "output_type": "execute_result"
    }
   ],
   "source": [
    "1_000+2_000"
   ]
  },
  {
   "cell_type": "code",
   "execution_count": 30,
   "metadata": {},
   "outputs": [
    {
     "data": {
      "text/plain": [
       "(1, 2)"
      ]
     },
     "execution_count": 30,
     "metadata": {},
     "output_type": "execute_result"
    }
   ],
   "source": [
    "1,2"
   ]
  },
  {
   "cell_type": "markdown",
   "metadata": {},
   "source": [
    "### ***String Slicing*** ######\n",
    "- Indexing in string and how to slice?\n",
    "- string[startVal:endVal:step]\n",
    "- Reversing a string"
   ]
  },
  {
   "cell_type": "code",
   "execution_count": 39,
   "metadata": {},
   "outputs": [
    {
     "name": "stdout",
     "output_type": "stream",
     "text": [
      "Thatha\n",
      "Arjun \n",
      "AjnTah\n",
      "Arjun Thatha\n",
      "\n",
      "nu\n",
      " Thatha\n",
      "at\n"
     ]
    }
   ],
   "source": [
    "# String Slicing\n",
    "\n",
    "name = 'Arjun Thatha'\n",
    "'''     01234567891011'''\n",
    "\n",
    "# by default step size will be 1\n",
    "# [start,end,step_size]----->end index will not be printed,we have to keep one number frontward\n",
    "\n",
    "print(name[6:])\n",
    "print(name[:6])\n",
    "print(name[::2])\n",
    "print(name[::1])\n",
    "print(name[5:3:]) # ---------. prints the empty string\n",
    "print(name[4:2:-1])\n",
    "print(name[5:100])\n",
    "print(name[100:7:-2])"
   ]
  },
  {
   "cell_type": "code",
   "execution_count": 30,
   "metadata": {},
   "outputs": [
    {
     "name": "stdout",
     "output_type": "stream",
     "text": [
      "\n",
      "\n"
     ]
    }
   ],
   "source": []
  },
  {
   "cell_type": "code",
   "execution_count": null,
   "metadata": {},
   "outputs": [],
   "source": []
  }
 ],
 "metadata": {
  "kernelspec": {
   "display_name": "base",
   "language": "python",
   "name": "python3"
  },
  "language_info": {
   "codemirror_mode": {
    "name": "ipython",
    "version": 3
   },
   "file_extension": ".py",
   "mimetype": "text/x-python",
   "name": "python",
   "nbconvert_exporter": "python",
   "pygments_lexer": "ipython3",
   "version": "3.11.5"
  }
 },
 "nbformat": 4,
 "nbformat_minor": 2
}
