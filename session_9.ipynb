{
 "cells": [
  {
   "cell_type": "markdown",
   "metadata": {},
   "source": [
    "### ***String Methods*** ###"
   ]
  },
  {
   "cell_type": "markdown",
   "metadata": {},
   "source": [
    " ### ***1.Strip*** ###"
   ]
  },
  {
   "cell_type": "code",
   "execution_count": 1,
   "metadata": {},
   "outputs": [
    {
     "name": "stdout",
     "output_type": "stream",
     "text": [
      "hello arjun\n",
      " hello arjun \n"
     ]
    }
   ],
   "source": [
    "str_1 = ' hello arjun '\n",
    "print(str_1.strip())\n",
    "print(str_1.strip('.'))"
   ]
  },
  {
   "cell_type": "code",
   "execution_count": 12,
   "metadata": {},
   "outputs": [
    {
     "name": "stdout",
     "output_type": "stream",
     "text": [
      "ello masteru chai und\n"
     ]
    }
   ],
   "source": [
    "str_1 = '....hello masteru chai undha..'\n",
    "print(str_1.strip('.ha'))           #checking from the first index and last"
   ]
  },
  {
   "cell_type": "code",
   "execution_count": 13,
   "metadata": {},
   "outputs": [],
   "source": [
    "# lstrip and rstrip"
   ]
  },
  {
   "cell_type": "code",
   "execution_count": 20,
   "metadata": {},
   "outputs": [
    {
     "name": "stdout",
     "output_type": "stream",
     "text": [
      " masteru chai undha..\n"
     ]
    }
   ],
   "source": [
    "print(str_1.lstrip('oelh.'))"
   ]
  },
  {
   "cell_type": "code",
   "execution_count": 24,
   "metadata": {},
   "outputs": [
    {
     "name": "stdout",
     "output_type": "stream",
     "text": [
      "....hello masteru chai u\n"
     ]
    }
   ],
   "source": [
    "print(str_1.rstrip('oendlha.'))"
   ]
  },
  {
   "cell_type": "markdown",
   "metadata": {},
   "source": [
    " ### ***2.Split()*** ###\n",
    " - splits the string by space in default and will make to a list"
   ]
  },
  {
   "cell_type": "code",
   "execution_count": 28,
   "metadata": {},
   "outputs": [
    {
     "name": "stdout",
     "output_type": "stream",
     "text": [
      "['students', 'are', 'going', 'to', 'attend', 'the', 'exam', 'on', 'january']\n"
     ]
    }
   ],
   "source": [
    "message = 'students are going to attend the exam on january'\n",
    "print(message.split())"
   ]
  },
  {
   "cell_type": "code",
   "execution_count": 42,
   "metadata": {},
   "outputs": [
    {
     "name": "stdout",
     "output_type": "stream",
     "text": [
      "['rohi', ' surya', ' virat are very good batsmans ']\n",
      "['rohi,', 'surya,', 'virat', 'are', 'very', 'good', 'batsmans']\n",
      "['rohi,', 'surya,', 'virat', 'are very good batsmans ']\n"
     ]
    }
   ],
   "source": [
    "message_1 = \"rohi, surya, virat are very good batsmans \"\n",
    "print(message_1.split(','))\n",
    "print(message_1.split())\n",
    "print(message_1.split(' ',maxsplit = 3))"
   ]
  },
  {
   "cell_type": "markdown",
   "metadata": {},
   "source": [
    " ### ***3.Join()*** ###\n",
    "\n",
    " - works for iterable items"
   ]
  },
  {
   "cell_type": "code",
   "execution_count": 44,
   "metadata": {},
   "outputs": [
    {
     "name": "stdout",
     "output_type": "stream",
     "text": [
      "t:h:e:r:e: :a:r:e: :1:0: :d:a:y:s: :r:e:m:a:i:n:i:n:g: :i:n: :s:e:p:t:e:m:b:e:r\n"
     ]
    }
   ],
   "source": [
    "remainder = 'there are 10 days remaining in september'\n",
    "\n",
    "print(':'.join(remainder))"
   ]
  },
  {
   "cell_type": "code",
   "execution_count": 49,
   "metadata": {},
   "outputs": [
    {
     "name": "stdout",
     "output_type": "stream",
     "text": [
      "there are only 10 days are in september\n",
      "there-are-only-10-days-are-in september\n"
     ]
    }
   ],
   "source": [
    "rem = ['there','are','only','10','days','are','in september']\n",
    "\n",
    "print(' '.join(rem))\n",
    "\n",
    "print('-'.join(rem))"
   ]
  },
  {
   "cell_type": "code",
   "execution_count": 1,
   "metadata": {},
   "outputs": [
    {
     "data": {
      "text/plain": [
       "['__add__',\n",
       " '__class__',\n",
       " '__contains__',\n",
       " '__delattr__',\n",
       " '__dir__',\n",
       " '__doc__',\n",
       " '__eq__',\n",
       " '__format__',\n",
       " '__ge__',\n",
       " '__getattribute__',\n",
       " '__getitem__',\n",
       " '__getnewargs__',\n",
       " '__getstate__',\n",
       " '__gt__',\n",
       " '__hash__',\n",
       " '__init__',\n",
       " '__init_subclass__',\n",
       " '__iter__',\n",
       " '__le__',\n",
       " '__len__',\n",
       " '__lt__',\n",
       " '__mod__',\n",
       " '__mul__',\n",
       " '__ne__',\n",
       " '__new__',\n",
       " '__reduce__',\n",
       " '__reduce_ex__',\n",
       " '__repr__',\n",
       " '__rmod__',\n",
       " '__rmul__',\n",
       " '__setattr__',\n",
       " '__sizeof__',\n",
       " '__str__',\n",
       " '__subclasshook__',\n",
       " 'capitalize',\n",
       " 'casefold',\n",
       " 'center',\n",
       " 'count',\n",
       " 'encode',\n",
       " 'endswith',\n",
       " 'expandtabs',\n",
       " 'find',\n",
       " 'format',\n",
       " 'format_map',\n",
       " 'index',\n",
       " 'isalnum',\n",
       " 'isalpha',\n",
       " 'isascii',\n",
       " 'isdecimal',\n",
       " 'isdigit',\n",
       " 'isidentifier',\n",
       " 'islower',\n",
       " 'isnumeric',\n",
       " 'isprintable',\n",
       " 'isspace',\n",
       " 'istitle',\n",
       " 'isupper',\n",
       " 'join',\n",
       " 'ljust',\n",
       " 'lower',\n",
       " 'lstrip',\n",
       " 'maketrans',\n",
       " 'partition',\n",
       " 'removeprefix',\n",
       " 'removesuffix',\n",
       " 'replace',\n",
       " 'rfind',\n",
       " 'rindex',\n",
       " 'rjust',\n",
       " 'rpartition',\n",
       " 'rsplit',\n",
       " 'rstrip',\n",
       " 'split',\n",
       " 'splitlines',\n",
       " 'startswith',\n",
       " 'strip',\n",
       " 'swapcase',\n",
       " 'title',\n",
       " 'translate',\n",
       " 'upper',\n",
       " 'zfill']"
      ]
     },
     "execution_count": 1,
     "metadata": {},
     "output_type": "execute_result"
    }
   ],
   "source": [
    "dir(str)"
   ]
  },
  {
   "cell_type": "code",
   "execution_count": 10,
   "metadata": {},
   "outputs": [
    {
     "name": "stdout",
     "output_type": "stream",
     "text": [
      " there are 81 string methods\n"
     ]
    }
   ],
   "source": [
    "print(f' there are {len(dir(str))} string methods')"
   ]
  },
  {
   "cell_type": "markdown",
   "metadata": {},
   "source": [
    " ### ***4.Replace()*** ###"
   ]
  },
  {
   "cell_type": "code",
   "execution_count": 13,
   "metadata": {},
   "outputs": [
    {
     "name": "stdout",
     "output_type": "stream",
     "text": [
      "kohli,sachin,dhoni,jadeja,raina,ashwin\n",
      "kohli,rinku,dhoni,jadeja,raina,ashwin\n",
      "virat_kohli,sachin,dhoni,jadeja,raina,ashwin\n"
     ]
    }
   ],
   "source": [
    "players = 'kohli,sachin,dhoni,jadeja,raina,ashwin'\n",
    "\n",
    "print(players)\n",
    "\n",
    "print(players.replace('sachin','rinku'))\n",
    "\n",
    "print(players.replace('kohli','virat_kohli'))"
   ]
  },
  {
   "cell_type": "code",
   "execution_count": 16,
   "metadata": {},
   "outputs": [
    {
     "name": "stdout",
     "output_type": "stream",
     "text": [
      "hey man ! arjun,welcome to team\n"
     ]
    }
   ],
   "source": [
    "str = 'hello arjun,welcome to team'\n",
    "\n",
    "print(str.replace('hello','hey man !'))"
   ]
  },
  {
   "cell_type": "code",
   "execution_count": 19,
   "metadata": {},
   "outputs": [
    {
     "name": "stdout",
     "output_type": "stream",
     "text": [
      "kohli,shubam rinku,dhoni,jadeja,raina,ashwin rinku\n",
      "kohli,shubam rinku,dhoni,jadeja,raina,ashwin dube\n"
     ]
    }
   ],
   "source": [
    "players = 'kohli,shubam dube,dhoni,jadeja,raina,ashwin dube'\n",
    "\n",
    "\n",
    "print(players.replace('dube','rinku'))\n",
    "\n",
    "\n",
    "print(players.replace('dube','rinku',1))"
   ]
  },
  {
   "cell_type": "markdown",
   "metadata": {},
   "source": [
    " ### ***5.upper()***  ###"
   ]
  },
  {
   "cell_type": "code",
   "execution_count": 20,
   "metadata": {},
   "outputs": [
    {
     "name": "stdout",
     "output_type": "stream",
     "text": [
      "ARJUN\n"
     ]
    }
   ],
   "source": [
    "name = 'Arjun'\n",
    "\n",
    "print(name.upper())"
   ]
  },
  {
   "cell_type": "markdown",
   "metadata": {},
   "source": [
    " ### ***6.lower()***  ###"
   ]
  },
  {
   "cell_type": "code",
   "execution_count": 21,
   "metadata": {},
   "outputs": [
    {
     "name": "stdout",
     "output_type": "stream",
     "text": [
      "arjun\n"
     ]
    }
   ],
   "source": [
    "name_1 = 'ARjUn'\n",
    "\n",
    "print(name_1.lower())"
   ]
  },
  {
   "cell_type": "code",
   "execution_count": 25,
   "metadata": {},
   "outputs": [
    {
     "name": "stdout",
     "output_type": "stream",
     "text": [
      "ar@$%&jun\n"
     ]
    }
   ],
   "source": [
    "name_1 = 'AR@$%&JUN'\n",
    "\n",
    "print(name_1.lower())"
   ]
  },
  {
   "cell_type": "code",
   "execution_count": 26,
   "metadata": {},
   "outputs": [
    {
     "name": "stdout",
     "output_type": "stream",
     "text": [
      "False\n",
      "True\n"
     ]
    }
   ],
   "source": [
    "# .islower() and .isupper() returns a boolean true and false\n",
    "\n",
    "print(name_1.islower())\n",
    "\n",
    "print(name_1.isupper())"
   ]
  },
  {
   "cell_type": "markdown",
   "metadata": {},
   "source": [
    " ### ***7.capitalize()***  ###"
   ]
  },
  {
   "cell_type": "code",
   "execution_count": 29,
   "metadata": {},
   "outputs": [
    {
     "name": "stdout",
     "output_type": "stream",
     "text": [
      "Arjun thatha\n"
     ]
    }
   ],
   "source": [
    "name = 'Arjun Thatha' # gives the result of first letter as cap and remaining as lower\n",
    "\n",
    "print(name.capitalize())"
   ]
  },
  {
   "cell_type": "code",
   "execution_count": 30,
   "metadata": {},
   "outputs": [
    {
     "name": "stdout",
     "output_type": "stream",
     "text": [
      "Arjun thatha\n"
     ]
    }
   ],
   "source": [
    "name_1 = 'ARjun THatha'\n",
    "\n",
    "print(name_1.capitalize())"
   ]
  },
  {
   "cell_type": "code",
   "execution_count": 31,
   "metadata": {},
   "outputs": [
    {
     "name": "stdout",
     "output_type": "stream",
     "text": [
      "2342536loke the warrior\n"
     ]
    }
   ],
   "source": [
    "name_2 = '2342536Loke The warrior'\n",
    "\n",
    "print(name_2.capitalize())"
   ]
  },
  {
   "cell_type": "markdown",
   "metadata": {},
   "source": [
    " ### ***8.swapcase()***  ###"
   ]
  },
  {
   "cell_type": "code",
   "execution_count": 33,
   "metadata": {},
   "outputs": [
    {
     "name": "stdout",
     "output_type": "stream",
     "text": [
      "tOMMORROW IS mONDAY\n"
     ]
    }
   ],
   "source": [
    "message = 'Tommorrow is Monday' #lower to upper & upper to lower()\n",
    "\n",
    "print(message.swapcase())"
   ]
  },
  {
   "cell_type": "markdown",
   "metadata": {},
   "source": [
    " ### ***8.isalpha()***  ###"
   ]
  },
  {
   "cell_type": "code",
   "execution_count": 34,
   "metadata": {},
   "outputs": [
    {
     "data": {
      "text/plain": [
       "False"
      ]
     },
     "execution_count": 34,
     "metadata": {},
     "output_type": "execute_result"
    }
   ],
   "source": [
    "code = 'code red'\n",
    "code.isalpha()"
   ]
  },
  {
   "cell_type": "code",
   "execution_count": 35,
   "metadata": {},
   "outputs": [
    {
     "data": {
      "text/plain": [
       "True"
      ]
     },
     "execution_count": 35,
     "metadata": {},
     "output_type": "execute_result"
    }
   ],
   "source": [
    "code = 'codered'\n",
    "code.isalpha()"
   ]
  },
  {
   "cell_type": "code",
   "execution_count": 38,
   "metadata": {},
   "outputs": [
    {
     "data": {
      "text/plain": [
       "False"
      ]
     },
     "execution_count": 38,
     "metadata": {},
     "output_type": "execute_result"
    }
   ],
   "source": [
    "#true for small or capital alphabets ** prints always false if u have other than alphabets (num,space,special char)\n",
    "code = 'code+red'  \n",
    "code.isalpha()"
   ]
  },
  {
   "cell_type": "markdown",
   "metadata": {},
   "source": [
    " ### ***8.isnumeric()***  ###"
   ]
  },
  {
   "cell_type": "code",
   "execution_count": 39,
   "metadata": {},
   "outputs": [
    {
     "data": {
      "text/plain": [
       "True"
      ]
     },
     "execution_count": 39,
     "metadata": {},
     "output_type": "execute_result"
    }
   ],
   "source": [
    "cricket_score = '1234'\n",
    "\n",
    "cricket_score.isnumeric()"
   ]
  },
  {
   "cell_type": "code",
   "execution_count": 40,
   "metadata": {},
   "outputs": [
    {
     "data": {
      "text/plain": [
       "False"
      ]
     },
     "execution_count": 40,
     "metadata": {},
     "output_type": "execute_result"
    }
   ],
   "source": [
    "cricket_score = '-1234'\n",
    "\n",
    "cricket_score.isnumeric()"
   ]
  },
  {
   "cell_type": "code",
   "execution_count": 41,
   "metadata": {},
   "outputs": [
    {
     "data": {
      "text/plain": [
       "False"
      ]
     },
     "execution_count": 41,
     "metadata": {},
     "output_type": "execute_result"
    }
   ],
   "source": [
    "cricket_score = '-123.4'\n",
    "\n",
    "cricket_score.isnumeric()"
   ]
  },
  {
   "cell_type": "markdown",
   "metadata": {},
   "source": [
    " ### ***9.isalnum()***  ###"
   ]
  },
  {
   "cell_type": "code",
   "execution_count": 51,
   "metadata": {},
   "outputs": [
    {
     "data": {
      "text/plain": [
       "True"
      ]
     },
     "execution_count": 51,
     "metadata": {},
     "output_type": "execute_result"
    }
   ],
   "source": [
    "wifi_pass = 'Arjun1729'   # True if consists of both alphabets and numbers\n",
    "\n",
    "wifi_pass.isalnum()"
   ]
  },
  {
   "cell_type": "code",
   "execution_count": 52,
   "metadata": {},
   "outputs": [
    {
     "data": {
      "text/plain": [
       "False"
      ]
     },
     "execution_count": 52,
     "metadata": {},
     "output_type": "execute_result"
    }
   ],
   "source": [
    "wifi_pass = 'Arjun@1729'\n",
    "\n",
    "wifi_pass.isalnum()"
   ]
  },
  {
   "cell_type": "markdown",
   "metadata": {},
   "source": [
    " ### ***10.count()***  ###"
   ]
  },
  {
   "cell_type": "code",
   "execution_count": 59,
   "metadata": {},
   "outputs": [
    {
     "name": "stdout",
     "output_type": "stream",
     "text": [
      "2\n",
      "2\n"
     ]
    }
   ],
   "source": [
    "fact = 'data sciest is the sexiest job in the 21 st century'\n",
    "\n",
    "print(fact.count('the'))\n",
    "\n",
    "print(fact.count('a',0,4))  # --------->>>  .count(str, start_index,last_index)"
   ]
  },
  {
   "cell_type": "markdown",
   "metadata": {},
   "source": [
    " ### ***11.find()***  ###\n",
    "\n",
    " - returns the ***lowest index***  where the substring found else returns '-1'"
   ]
  },
  {
   "cell_type": "code",
   "execution_count": 75,
   "metadata": {},
   "outputs": [
    {
     "name": "stdout",
     "output_type": "stream",
     "text": [
      "18\n",
      "when there is no string found : -1\n"
     ]
    }
   ],
   "source": [
    "rev = 'python course was good'\n",
    "\n",
    "print(rev.find('goo'))\n",
    "\n",
    "print(f'when there is no string found : {rev.find(\"z\")}')"
   ]
  },
  {
   "cell_type": "markdown",
   "metadata": {},
   "source": [
    " ### ***12.index()***  ###\n",
    "\n",
    " - returns the ***lowest index***  where the substring found else returns 'error'"
   ]
  },
  {
   "cell_type": "code",
   "execution_count": 79,
   "metadata": {},
   "outputs": [
    {
     "name": "stdout",
     "output_type": "stream",
     "text": [
      "0\n"
     ]
    }
   ],
   "source": [
    "update = 'new iphone ios 18 : eye feature'\n",
    "\n",
    "print(update.index('new'))\n",
    "\n"
   ]
  },
  {
   "cell_type": "code",
   "execution_count": 80,
   "metadata": {},
   "outputs": [
    {
     "data": {
      "text/plain": [
       "20"
      ]
     },
     "execution_count": 80,
     "metadata": {},
     "output_type": "execute_result"
    }
   ],
   "source": [
    "update.index('eye')"
   ]
  },
  {
   "cell_type": "code",
   "execution_count": null,
   "metadata": {},
   "outputs": [],
   "source": []
  }
 ],
 "metadata": {
  "kernelspec": {
   "display_name": "base",
   "language": "python",
   "name": "python3"
  },
  "language_info": {
   "codemirror_mode": {
    "name": "ipython",
    "version": 3
   },
   "file_extension": ".py",
   "mimetype": "text/x-python",
   "name": "python",
   "nbconvert_exporter": "python",
   "pygments_lexer": "ipython3",
   "version": "3.11.5"
  }
 },
 "nbformat": 4,
 "nbformat_minor": 2
}
