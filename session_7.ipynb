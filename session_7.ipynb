{
 "cells": [
  {
   "cell_type": "markdown",
   "metadata": {},
   "source": [
    "# ***Loops*** #\n",
    "- for\n",
    "- while"
   ]
  },
  {
   "cell_type": "code",
   "execution_count": 3,
   "metadata": {},
   "outputs": [
    {
     "name": "stdout",
     "output_type": "stream",
     "text": [
      "A B C D E F G H I J K L M N O P Q R S T U V W X Y Z \n",
      "\n",
      "a b c d e f g h i j k l m n o p q r s t u v w x y z "
     ]
    }
   ],
   "source": [
    "for i in range(65,91):\n",
    "    print(chr(i),end = ' ')\n",
    "    if i == 90:\n",
    "        print('\\n')\n",
    "for j in range(97,123):\n",
    "    print(chr(j),end = ' ')"
   ]
  },
  {
   "cell_type": "code",
   "execution_count": 22,
   "metadata": {},
   "outputs": [
    {
     "data": {
      "text/plain": [
       "-126"
      ]
     },
     "execution_count": 22,
     "metadata": {},
     "output_type": "execute_result"
    }
   ],
   "source": [
    "~ 125\n"
   ]
  },
  {
   "cell_type": "code",
   "execution_count": 1,
   "metadata": {},
   "outputs": [],
   "source": [
    "for i in range(-5):print(i)"
   ]
  },
  {
   "cell_type": "code",
   "execution_count": 27,
   "metadata": {},
   "outputs": [
    {
     "name": "stdout",
     "output_type": "stream",
     "text": [
      "0\n",
      "2\n",
      "4\n",
      "6\n",
      "8\n",
      "10\n"
     ]
    }
   ],
   "source": [
    "for i in range(0,11,2):print(i)"
   ]
  },
  {
   "cell_type": "code",
   "execution_count": 31,
   "metadata": {},
   "outputs": [
    {
     "name": "stdout",
     "output_type": "stream",
     "text": [
      "23\n",
      "32\n",
      "42\n",
      "21\n",
      "kohli\n"
     ]
    }
   ],
   "source": [
    "scores = [23,32,42,21,'kohli']\n",
    "\n",
    "for s in scores:\n",
    "    print(s)"
   ]
  },
  {
   "cell_type": "code",
   "execution_count": 32,
   "metadata": {},
   "outputs": [
    {
     "name": "stdout",
     "output_type": "stream",
     "text": [
      "23\n",
      "32\n",
      "42\n",
      "21\n",
      "kohli\n"
     ]
    }
   ],
   "source": [
    "for s in range(len(scores)):\n",
    "    print(scores[s])"
   ]
  },
  {
   "cell_type": "code",
   "execution_count": 35,
   "metadata": {},
   "outputs": [
    {
     "name": "stdout",
     "output_type": "stream",
     "text": [
      "kohli\n",
      "21\n",
      "42\n",
      "32\n",
      "23\n"
     ]
    }
   ],
   "source": [
    "for s in range(len(scores)-1,-1,-1):\n",
    "    print(scores[s])"
   ]
  },
  {
   "cell_type": "code",
   "execution_count": 38,
   "metadata": {},
   "outputs": [
    {
     "name": "stdout",
     "output_type": "stream",
     "text": [
      "23\n",
      "32\n",
      "42\n",
      "21\n",
      "kohli\n"
     ]
    }
   ],
   "source": [
    "for s in range(-len(scores),0):\n",
    "    print(scores[s])"
   ]
  },
  {
   "cell_type": "code",
   "execution_count": 30,
   "metadata": {},
   "outputs": [
    {
     "name": "stdout",
     "output_type": "stream",
     "text": [
      "0 23\n",
      "1 hello\n",
      "2 world\n",
      "3 pyhton\n"
     ]
    }
   ],
   "source": [
    "for i,s in enumerate([23,'hello','world','pyhton']):\n",
    "    print(i,s)"
   ]
  },
  {
   "cell_type": "code",
   "execution_count": 40,
   "metadata": {},
   "outputs": [
    {
     "name": "stdout",
     "output_type": "stream",
     "text": [
      "(0, 23)\n",
      "(1, 'hello')\n",
      "(2, 'world')\n",
      "(3, 'pyhton')\n"
     ]
    }
   ],
   "source": [
    "for s in enumerate([23,'hello','world','pyhton']):\n",
    "    print(s)"
   ]
  },
  {
   "cell_type": "code",
   "execution_count": 41,
   "metadata": {},
   "outputs": [
    {
     "name": "stdout",
     "output_type": "stream",
     "text": [
      "['virat', 'rohit']\n",
      "['babar', 'rizwan']\n",
      "['maxi', 'warner']\n"
     ]
    }
   ],
   "source": [
    "players = [['virat','rohit'],['babar','rizwan'],['maxi','warner']]\n",
    "\n",
    "for player_list in players:\n",
    "    print(player_list)"
   ]
  },
  {
   "cell_type": "code",
   "execution_count": 46,
   "metadata": {},
   "outputs": [
    {
     "name": "stdout",
     "output_type": "stream",
     "text": [
      "virat\n",
      "rohit\n",
      "babar\n",
      "rizwan\n",
      "maxi\n",
      "warner\n"
     ]
    }
   ],
   "source": [
    "\n",
    "#un packing\n",
    "\n",
    "for player_list in players:\n",
    "    for player in player_list:\n",
    "        print(player)"
   ]
  },
  {
   "cell_type": "code",
   "execution_count": 49,
   "metadata": {},
   "outputs": [
    {
     "name": "stdout",
     "output_type": "stream",
     "text": [
      "hi is makkale\n",
      "1 arjun nandrigel\n",
      "this vanakkam babai\n"
     ]
    }
   ],
   "source": [
    "l1 = ['hi',1,'this']\n",
    "l2 = ['is','arjun','vanakkam']\n",
    "l3 = ['makkale','nandrigel','babai']\n",
    "\n",
    "for a,b,c in zip(l1,l2,l3):\n",
    "    print(a,b,c)"
   ]
  },
  {
   "cell_type": "markdown",
   "metadata": {},
   "source": [
    "### ***While Loop*** ###"
   ]
  },
  {
   "cell_type": "code",
   "execution_count": 2,
   "metadata": {},
   "outputs": [
    {
     "name": "stdout",
     "output_type": "stream",
     "text": [
      "12\n",
      "23\n",
      "43\n",
      "52\n"
     ]
    }
   ],
   "source": [
    "a = [12,23,43,52]\n",
    "\n",
    "p = len(a)\n",
    "i = 0\n",
    "\n",
    "while i < p:\n",
    "    print(a[i])\n",
    "    i += 1"
   ]
  },
  {
   "cell_type": "markdown",
   "metadata": {},
   "source": [
    "### ***Break*** ###"
   ]
  },
  {
   "cell_type": "code",
   "execution_count": 5,
   "metadata": {},
   "outputs": [
    {
     "name": "stdout",
     "output_type": "stream",
     "text": [
      "iteration: 0\n",
      "total_score: 12\n",
      "iteration: 1\n",
      "total_score: 35\n",
      "iteration: 2\n",
      "total_score: 89\n",
      "iteration: 3\n",
      "total_score: 115\n",
      "came out of the loop\n"
     ]
    }
   ],
   "source": [
    "team_score = [12,23,54,26,76,31]\n",
    "\n",
    "n = len(team_score)\n",
    "\n",
    "total_score  = 0\n",
    "i = 0\n",
    "while i < n:\n",
    "    print('iteration:',i)\n",
    "    total_score += team_score[i]\n",
    "    \n",
    "    print('total_score:',total_score)\n",
    "    if total_score >= 100:\n",
    "        break\n",
    "    i += 1\n",
    "print('came out of the loop')"
   ]
  },
  {
   "cell_type": "code",
   "execution_count": 7,
   "metadata": {},
   "outputs": [
    {
     "name": "stdout",
     "output_type": "stream",
     "text": [
      "current_team: [12, 23, 54, 26, 76, 31]\n",
      "score: 12\n",
      "total_score: 12\n",
      "score: 23\n",
      "total_score: 35\n",
      "score: 54\n",
      "total_score: 89\n",
      "score: 26\n",
      "total_score: 115\n",
      "came out of the loop\n"
     ]
    }
   ],
   "source": [
    "team_scores = [[12,23,54,26,76,31],[12,34,54,23,53,23,53],[1,2,4,52,5]]\n",
    "\n",
    "for curr_team_score in team_scores:\n",
    "    total_score = 0\n",
    "    print('current_team:',curr_team_score)\n",
    "    for score in curr_team_score:\n",
    "        print('score:',score)\n",
    "        total_score += score\n",
    "        print('total_score:',total_score)\n",
    "        \n",
    "        if total_score >= 100:\n",
    "            break \n",
    "    if len(curr_team_score) > 5:\n",
    "        break\n",
    "        \n",
    "\n",
    "print('came out of the loop')"
   ]
  },
  {
   "cell_type": "markdown",
   "metadata": {},
   "source": [
    "### ***Continue*** ###"
   ]
  },
  {
   "cell_type": "code",
   "execution_count": 17,
   "metadata": {},
   "outputs": [
    {
     "name": "stdout",
     "output_type": "stream",
     "text": [
      "value: 1\n",
      "after continue: 1\n",
      "value: -22\n",
      "value: -32\n",
      "value: 100\n",
      "after continue: 100\n",
      "sum: 101\n"
     ]
    }
   ],
   "source": [
    "lst_1 = [1,-22,-32,100]\n",
    "\n",
    "sum_non_neg_values = 0\n",
    "\n",
    "for value in lst_1:\n",
    "    print('value:',value)\n",
    "    if value < 0:\n",
    "        continue\n",
    "    print('after continue:',value)\n",
    "    sum_non_neg_values += value\n",
    "print('sum:',sum_non_neg_values)\n",
    "    "
   ]
  },
  {
   "cell_type": "markdown",
   "metadata": {},
   "source": [
    "### ***Pass*** ###"
   ]
  },
  {
   "cell_type": "code",
   "execution_count": 19,
   "metadata": {},
   "outputs": [
    {
     "name": "stdout",
     "output_type": "stream",
     "text": [
      "10\n",
      "20\n",
      "30\n",
      "40\n"
     ]
    }
   ],
   "source": [
    "lst_2 = [10,20,30,40]\n",
    "\n",
    "for i in lst_2:\n",
    "    if i == 20:\n",
    "        pass\n",
    "    print(i)"
   ]
  },
  {
   "cell_type": "code",
   "execution_count": 20,
   "metadata": {},
   "outputs": [
    {
     "name": "stdout",
     "output_type": "stream",
     "text": [
      "10\n",
      "30\n",
      "40\n"
     ]
    }
   ],
   "source": [
    "lst_2 = [10,20,30,40]\n",
    "\n",
    "for i in lst_2:\n",
    "    if i == 20:\n",
    "        continue\n",
    "    print(i)"
   ]
  },
  {
   "cell_type": "code",
   "execution_count": 25,
   "metadata": {},
   "outputs": [
    {
     "name": "stdout",
     "output_type": "stream",
     "text": [
      "10\n",
      "20\n"
     ]
    }
   ],
   "source": [
    "lst_2 = [10,20,30,40]\n",
    "\n",
    "for i in lst_2:\n",
    "    if i > 20:\n",
    "        continue\n",
    "    print(i)"
   ]
  },
  {
   "cell_type": "code",
   "execution_count": 1,
   "metadata": {},
   "outputs": [],
   "source": [
    "# for else blocks"
   ]
  },
  {
   "cell_type": "code",
   "execution_count": 4,
   "metadata": {},
   "outputs": [
    {
     "name": "stdout",
     "output_type": "stream",
     "text": [
      "curr_sum: 1\n",
      "curr_sum: 3\n",
      "curr_sum: 6\n",
      "curr_sum: 10\n",
      "curr_sum: 15\n",
      "curr_sum: 21\n",
      "curr_sum: 28\n",
      "curr_sum: 36\n",
      "curr_sum: 45\n",
      "curr_sum: 55\n",
      "inside for else\n",
      "out side for else block\n"
     ]
    }
   ],
   "source": [
    "sum = 0\n",
    "\n",
    "for i in range(1,11):\n",
    "    sum += i\n",
    "    print('curr_sum:',sum)\n",
    "else:\n",
    "    print('inside for else')\n",
    "print('out side for else block')"
   ]
  },
  {
   "cell_type": "code",
   "execution_count": 5,
   "metadata": {},
   "outputs": [
    {
     "name": "stdout",
     "output_type": "stream",
     "text": [
      "curr_val: 10\n",
      "curr_val: 11\n",
      "curr_val: 12\n",
      "curr_val: 13\n",
      "curr_val: 14\n",
      "curr_val: 15\n",
      "out side for else block\n"
     ]
    }
   ],
   "source": [
    "sum = 0\n",
    "\n",
    "for value in range(10,26):\n",
    "    print('curr_val:',value)\n",
    "    if value == 15:\n",
    "        break\n",
    "else:\n",
    "    print('inside for else')\n",
    "print('out side for else block')"
   ]
  },
  {
   "cell_type": "code",
   "execution_count": 8,
   "metadata": {},
   "outputs": [
    {
     "name": "stdout",
     "output_type": "stream",
     "text": [
      "6\n"
     ]
    }
   ],
   "source": [
    "count =0\n",
    "\n",
    "for i in range(3):\n",
    "    for j in range(3):\n",
    "        if i+j < 3:\n",
    "            count += 1\n",
    "            \n",
    "print(count)\n"
   ]
  },
  {
   "cell_type": "code",
   "execution_count": 29,
   "metadata": {},
   "outputs": [
    {
     "data": {
      "text/plain": [
       "[2, 4, 6, 8, 10]"
      ]
     },
     "execution_count": 29,
     "metadata": {},
     "output_type": "execute_result"
    }
   ],
   "source": [
    "[i for i in range(1,11) if i%2 == 0 ]"
   ]
  },
  {
   "cell_type": "code",
   "execution_count": null,
   "metadata": {},
   "outputs": [],
   "source": []
  },
  {
   "cell_type": "code",
   "execution_count": null,
   "metadata": {},
   "outputs": [],
   "source": []
  }
 ],
 "metadata": {
  "kernelspec": {
   "display_name": "base",
   "language": "python",
   "name": "python3"
  },
  "language_info": {
   "codemirror_mode": {
    "name": "ipython",
    "version": 3
   },
   "file_extension": ".py",
   "mimetype": "text/x-python",
   "name": "python",
   "nbconvert_exporter": "python",
   "pygments_lexer": "ipython3",
   "version": "3.11.5"
  }
 },
 "nbformat": 4,
 "nbformat_minor": 2
}
