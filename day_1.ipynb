{
 "cells": [
  {
   "cell_type": "markdown",
   "metadata": {},
   "source": [
    "# Print"
   ]
  },
  {
   "cell_type": "code",
   "execution_count": 1,
   "metadata": {},
   "outputs": [
    {
     "name": "stdout",
     "output_type": "stream",
     "text": [
      "hello world,arjun\n"
     ]
    }
   ],
   "source": [
    "# use case of the end\n",
    "print('hello world', end = ',')\n",
    "print('arjun')"
   ]
  },
  {
   "cell_type": "code",
   "execution_count": 2,
   "metadata": {},
   "outputs": [
    {
     "name": "stdout",
     "output_type": "stream",
     "text": [
      "hello macha python easy\n",
      "\n",
      "hello\n",
      "macha\n",
      "python\n",
      "easy\n"
     ]
    }
   ],
   "source": [
    "# use case of separator\n",
    "print('hello','macha','python','easy',end = '\\n\\n')\n",
    "\n",
    "print('hello','macha','python','easy',sep = '\\n')"
   ]
  },
  {
   "cell_type": "code",
   "execution_count": 21,
   "metadata": {},
   "outputs": [
    {
     "name": "stdout",
     "output_type": "stream",
     "text": [
      "welcome to rbr course++this is arjun***check out this course\n"
     ]
    }
   ],
   "source": [
    "# welcome to rbr course++this is venky***check out this course\n",
    "\n",
    "print('welcome to rbr course','this is arjun',sep = '++',end = '***')\n",
    "print('check out this course')\n"
   ]
  },
  {
   "cell_type": "code",
   "execution_count": 36,
   "metadata": {},
   "outputs": [
    {
     "name": "stdout",
     "output_type": "stream",
     "text": [
      "140704726687624\n",
      "140704726687624\n",
      "true\n"
     ]
    }
   ],
   "source": [
    "a = 100\n",
    "b = 100\n",
    "\n",
    "print(id(a))\n",
    "print(id(b))\n",
    "\n",
    "if a is b :\n",
    "    print('true')\n",
    "else:\n",
    "    print('false')"
   ]
  },
  {
   "cell_type": "code",
   "execution_count": 37,
   "metadata": {},
   "outputs": [
    {
     "name": "stdout",
     "output_type": "stream",
     "text": [
      "140704726688264\n",
      "140704726687624\n",
      "<class 'int'>\n"
     ]
    }
   ],
   "source": [
    "# after changing \n",
    "b += 20\n",
    "print(id(b))\n",
    "print(id(a))\n",
    "print(type(a))"
   ]
  },
  {
   "cell_type": "code",
   "execution_count": 38,
   "metadata": {},
   "outputs": [
    {
     "name": "stdout",
     "output_type": "stream",
     "text": [
      "140704726688264\n",
      "140704726688264\n",
      "120 120\n"
     ]
    }
   ],
   "source": [
    "a = 120\n",
    "print(id(a))\n",
    "print(id(b))\n",
    "print(a,b)"
   ]
  },
  {
   "cell_type": "code",
   "execution_count": 2,
   "metadata": {},
   "outputs": [
    {
     "name": "stdout",
     "output_type": "stream",
     "text": [
      "<class 'float'>\n",
      "3081272666608\n",
      "140705938904520\n"
     ]
    }
   ],
   "source": [
    "c = 22.0\n",
    "d = 22\n",
    "print(type(c))\n",
    "print(id(c))\n",
    "print(id(d))"
   ]
  },
  {
   "cell_type": "code",
   "execution_count": 3,
   "metadata": {},
   "outputs": [
    {
     "data": {
      "text/plain": [
       "False"
      ]
     },
     "execution_count": 3,
     "metadata": {},
     "output_type": "execute_result"
    },
    {
     "ename": "",
     "evalue": "",
     "output_type": "error",
     "traceback": [
      "\u001b[1;31mThe Kernel crashed while executing code in the current cell or a previous cell. \n",
      "\u001b[1;31mPlease review the code in the cell(s) to identify a possible cause of the failure. \n",
      "\u001b[1;31mClick <a href='https://aka.ms/vscodeJupyterKernelCrash'>here</a> for more info. \n",
      "\u001b[1;31mView Jupyter <a href='command:jupyter.viewOutput'>log</a> for further details."
     ]
    }
   ],
   "source": [
    "c is d"
   ]
  },
  {
   "cell_type": "markdown",
   "metadata": {},
   "source": [
    "# Python \n",
    "- interpreted,high level,dynamically programmed\n",
    "- supports paradigm\n",
    "- paradigm\n",
    "- oops,precedural language,functional programming language\n",
    "- it has extensive libraries"
   ]
  },
  {
   "cell_type": "markdown",
   "metadata": {},
   "source": [
    "# Variables\n",
    "- it should start with either '_' underscore or alphabets\n",
    "- it should not start with numbers\n",
    "- it can be a mixed with alpha,numeric and underscore\n",
    "- it is case sensitive arjun,Arjun,ARJUn all names are different\n",
    "- variables should not be the key words"
   ]
  },
  {
   "cell_type": "code",
   "execution_count": 48,
   "metadata": {},
   "outputs": [
    {
     "name": "stdout",
     "output_type": "stream",
     "text": [
      "2311133250224\n",
      "2311133252400\n"
     ]
    }
   ],
   "source": [
    "name = 'arjun'\n",
    "name_2 = 'Arjun'\n",
    "\n",
    "print(id(name),id(name_2),sep = '\\n')"
   ]
  },
  {
   "cell_type": "code",
   "execution_count": null,
   "metadata": {},
   "outputs": [],
   "source": []
  }
 ],
 "metadata": {
  "kernelspec": {
   "display_name": "base",
   "language": "python",
   "name": "python3"
  },
  "language_info": {
   "codemirror_mode": {
    "name": "ipython",
    "version": 3
   },
   "file_extension": ".py",
   "mimetype": "text/x-python",
   "name": "python",
   "nbconvert_exporter": "python",
   "pygments_lexer": "ipython3",
   "version": "3.11.5"
  }
 },
 "nbformat": 4,
 "nbformat_minor": 2
}
